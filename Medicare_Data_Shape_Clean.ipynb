{
 "cells": [
  {
   "cell_type": "markdown",
   "metadata": {},
   "source": [
    "## Import relevent packages"
   ]
  },
  {
   "cell_type": "code",
   "execution_count": 3,
   "metadata": {
    "collapsed": true
   },
   "outputs": [],
   "source": [
    "import pandas as pd\n",
    "import matplotlib.pyplot as plt\n",
    "import seaborn as sns\n",
    "import numpy as np\n",
    "from dateutil import parser"
   ]
  },
  {
   "cell_type": "markdown",
   "metadata": {},
   "source": [
    "## Clean the medicare hospital general information data set"
   ]
  },
  {
   "cell_type": "markdown",
   "metadata": {},
   "source": [
    "The overall rating includes 57 of the more than 100 measures reported on Hospital Compare, divided into seven measure groups or categories: mortality, safety of care, readmission, patient experience, effectiveness of care, timeliness of care, and efficient use of medical imaging. The table below lists the measures included in the Hospital Compare overall rating. This list includes all possible measures that could be included. Once reporting thresholds are met, a hospital’s overall rating is calculated using only those measures for which data are available. \n",
    "\n",
    "Measure Category and Weight Used in Calculation\n",
    "* Mortality\t22%\n",
    "* Safety\t22%\n",
    "* Readmission\t22%\n",
    "* Patient Experience\t22%\n",
    "* Effectiveness of Care\t4%\n",
    "* Timeliness of Care\t4%\n",
    "* Efficient Use of Medical Imaging\t4%"
   ]
  },
  {
   "cell_type": "code",
   "execution_count": 4,
   "metadata": {
    "collapsed": true
   },
   "outputs": [],
   "source": [
    "general_raw = 'Hospital_General_Information.csv'"
   ]
  },
  {
   "cell_type": "code",
   "execution_count": 5,
   "metadata": {
    "collapsed": false
   },
   "outputs": [],
   "source": [
    "g = pd.read_csv(general_raw)"
   ]
  },
  {
   "cell_type": "markdown",
   "metadata": {},
   "source": [
    "## Tidy columns"
   ]
  },
  {
   "cell_type": "code",
   "execution_count": 6,
   "metadata": {
    "collapsed": false
   },
   "outputs": [],
   "source": [
    "g.columns = g.columns.str.replace(' ', '_')"
   ]
  },
  {
   "cell_type": "code",
   "execution_count": 7,
   "metadata": {
    "collapsed": false
   },
   "outputs": [
    {
     "data": {
      "text/html": [
       "<div>\n",
       "<table border=\"1\" class=\"dataframe\">\n",
       "  <thead>\n",
       "    <tr style=\"text-align: right;\">\n",
       "      <th></th>\n",
       "      <th>Provider_ID</th>\n",
       "      <th>Hospital_Name</th>\n",
       "      <th>Address</th>\n",
       "      <th>City</th>\n",
       "      <th>State</th>\n",
       "      <th>ZIP_Code</th>\n",
       "      <th>County_Name</th>\n",
       "      <th>Phone_Number</th>\n",
       "      <th>Hospital_Type</th>\n",
       "      <th>Hospital_Ownership</th>\n",
       "      <th>...</th>\n",
       "      <th>Readmission_national_comparison_footnote</th>\n",
       "      <th>Patient_experience_national_comparison</th>\n",
       "      <th>Patient_experience_national_comparison_footnote</th>\n",
       "      <th>Effectiveness_of_care_national_comparison</th>\n",
       "      <th>Effectiveness_of_care_national_comparison_footnote</th>\n",
       "      <th>Timeliness_of_care_national_comparison</th>\n",
       "      <th>Timeliness_of_care_national_comparison_footnote</th>\n",
       "      <th>Efficient_use_of_medical_imaging_national_comparison</th>\n",
       "      <th>Efficient_use_of_medical_imaging_national_comparison_footnote</th>\n",
       "      <th>Location</th>\n",
       "    </tr>\n",
       "  </thead>\n",
       "  <tbody>\n",
       "  </tbody>\n",
       "</table>\n",
       "<p>0 rows × 29 columns</p>\n",
       "</div>"
      ],
      "text/plain": [
       "Empty DataFrame\n",
       "Columns: [Provider_ID, Hospital_Name, Address, City, State, ZIP_Code, County_Name, Phone_Number, Hospital_Type, Hospital_Ownership, Emergency_Services, Meets_criteria_for_meaningful_use_of_EHRs, Hospital_overall_rating, Hospital_overall_rating_footnote, Mortality_national_comparison, Mortality_national_comparison_footnote, Safety_of_care_national_comparison, Safety_of_care_national_comparison_footnote, Readmission_national_comparison, Readmission_national_comparison_footnote, Patient_experience_national_comparison, Patient_experience_national_comparison_footnote, Effectiveness_of_care_national_comparison, Effectiveness_of_care_national_comparison_footnote, Timeliness_of_care_national_comparison, Timeliness_of_care_national_comparison_footnote, Efficient_use_of_medical_imaging_national_comparison, Efficient_use_of_medical_imaging_national_comparison_footnote, Location]\n",
       "Index: []\n",
       "\n",
       "[0 rows x 29 columns]"
      ]
     },
     "execution_count": 7,
     "metadata": {},
     "output_type": "execute_result"
    }
   ],
   "source": [
    "g.head(0)"
   ]
  },
  {
   "cell_type": "code",
   "execution_count": 8,
   "metadata": {
    "collapsed": false
   },
   "outputs": [],
   "source": [
    "g = g[['Hospital_Name','State', 'ZIP_Code', 'Provider_ID', 'Hospital_Type', 'Hospital_Ownership', 'Emergency_Services', 'Meets_criteria_for_meaningful_use_of_EHRs', 'Hospital_overall_rating','Safety_of_care_national_comparison', 'Patient_experience_national_comparison', 'Effectiveness_of_care_national_comparison','Timeliness_of_care_national_comparison', 'Efficient_use_of_medical_imaging_national_comparison']]"
   ]
  },
  {
   "cell_type": "code",
   "execution_count": 9,
   "metadata": {
    "collapsed": false
   },
   "outputs": [],
   "source": [
    "g = g.rename(columns = lambda x: x + '_g')"
   ]
  },
  {
   "cell_type": "code",
   "execution_count": 10,
   "metadata": {
    "collapsed": true
   },
   "outputs": [],
   "source": [
    "g.rename(columns = {'Meets_criteria_for_meaningful_use_of_EHRs_g': 'EHRs_g', 'Hospital_Type_g':'Type','Hospital_Ownership_g':'Ownership_g'}, inplace = True)"
   ]
  },
  {
   "cell_type": "code",
   "execution_count": 11,
   "metadata": {
    "collapsed": false
   },
   "outputs": [],
   "source": [
    "g.columns = g.columns.str.replace('_national_comparison', '')"
   ]
  },
  {
   "cell_type": "markdown",
   "metadata": {},
   "source": [
    "## Tidy nulls"
   ]
  },
  {
   "cell_type": "code",
   "execution_count": 12,
   "metadata": {
    "collapsed": false
   },
   "outputs": [],
   "source": [
    "g = g.replace('Not Available', np.nan)"
   ]
  },
  {
   "cell_type": "markdown",
   "metadata": {},
   "source": [
    "## Save cleaned general hospital info to CSV"
   ]
  },
  {
   "cell_type": "code",
   "execution_count": 13,
   "metadata": {
    "collapsed": false
   },
   "outputs": [],
   "source": [
    "g.to_csv('general_clean_save.csv')"
   ]
  },
  {
   "cell_type": "code",
   "execution_count": 14,
   "metadata": {
    "collapsed": false
   },
   "outputs": [
    {
     "data": {
      "text/plain": [
       "array(['Acute Care Hospitals', 'Critical Access Hospitals', 'Childrens'], dtype=object)"
      ]
     },
     "execution_count": 14,
     "metadata": {},
     "output_type": "execute_result"
    }
   ],
   "source": [
    "g.Type.unique()"
   ]
  },
  {
   "cell_type": "markdown",
   "metadata": {},
   "source": [
    "## MSPB medicare spending per benificiary"
   ]
  },
  {
   "cell_type": "markdown",
   "metadata": {},
   "source": [
    "Gives spending by provider information:\n",
    "\n",
    "The \"Medicare hospital spending per patient (Medicare Spending per Beneficiary)\" measure shows whether Medicare spends more, less or about the same per Medicare patient treated in a specific hospital, compared to how much Medicare spends per patient nationally. This measure includes any Medicare Part A and Part B payments made for services provided to a patient during the 3 days prior to the hospital stay, during the stay, and during the 30 days after discharge from the hospital. "
   ]
  },
  {
   "cell_type": "code",
   "execution_count": 15,
   "metadata": {
    "collapsed": true
   },
   "outputs": [],
   "source": [
    "mspb = pd.read_csv(\"Medicare_hospital_spending_per_patient__Medicare_Spending_per_Beneficiary____Additional_Decimal_Places.csv\")"
   ]
  },
  {
   "cell_type": "code",
   "execution_count": 16,
   "metadata": {
    "collapsed": true
   },
   "outputs": [],
   "source": [
    "#test_index_compatibility = mspb['Provider_ID'].isin(general['Provider_ID_g'])"
   ]
  },
  {
   "cell_type": "code",
   "execution_count": 17,
   "metadata": {
    "collapsed": false
   },
   "outputs": [],
   "source": [
    "#test_index_compatibility.describe()"
   ]
  },
  {
   "cell_type": "markdown",
   "metadata": {},
   "source": [
    "## Tidy column names"
   ]
  },
  {
   "cell_type": "code",
   "execution_count": 18,
   "metadata": {
    "collapsed": false
   },
   "outputs": [],
   "source": [
    "mspb = mspb.rename(columns=lambda x: x + '_m')"
   ]
  },
  {
   "cell_type": "code",
   "execution_count": 19,
   "metadata": {
    "collapsed": true
   },
   "outputs": [],
   "source": [
    "mspb.rename(columns = {'Value_m': 'MSPB'}, inplace = True)"
   ]
  },
  {
   "cell_type": "markdown",
   "metadata": {},
   "source": [
    "## Drop unecessary columns"
   ]
  },
  {
   "cell_type": "code",
   "execution_count": 20,
   "metadata": {
    "collapsed": false
   },
   "outputs": [],
   "source": [
    "mspb.drop(['Measure_ID_m', 'Footnote_m', 'Start_Date_m', 'End_Date_m'], inplace = True, axis = 1)"
   ]
  },
  {
   "cell_type": "markdown",
   "metadata": {
    "collapsed": false
   },
   "source": [
    "## Convert to numeric"
   ]
  },
  {
   "cell_type": "code",
   "execution_count": 21,
   "metadata": {
    "collapsed": false
   },
   "outputs": [],
   "source": [
    "mspb['MSPB'] = mspb['MSPB'].apply(pd.to_numeric, errors='coerce')\n"
   ]
  },
  {
   "cell_type": "markdown",
   "metadata": {},
   "source": [
    "## Save cleaned MSPB to CSV"
   ]
  },
  {
   "cell_type": "code",
   "execution_count": 22,
   "metadata": {
    "collapsed": true
   },
   "outputs": [],
   "source": [
    "mspb.to_csv('mspb_clean.csv')"
   ]
  },
  {
   "cell_type": "markdown",
   "metadata": {},
   "source": [
    "## Clean medicare readmissions data set"
   ]
  },
  {
   "cell_type": "markdown",
   "metadata": {},
   "source": [
    "In October 2012, CMS began reducing Medicare payments for Inpatient Prospective Payment System hospitals with excess readmissions. Excess readmissions are measured by a ratio, by dividing a hospital’s number of “predicted” 30-day readmissions for heart attack, heart failure, and pneumonia by the number that would be “expected,” based on an average hospital with similar patients. A ratio greater than 1 indicates excess readmissions."
   ]
  },
  {
   "cell_type": "code",
   "execution_count": 23,
   "metadata": {
    "collapsed": true
   },
   "outputs": [],
   "source": [
    "readmissions_raw = 'Hospital_Readmissions_Reduction_Program.csv'"
   ]
  },
  {
   "cell_type": "code",
   "execution_count": 24,
   "metadata": {
    "collapsed": false
   },
   "outputs": [],
   "source": [
    "r = pd.read_csv(readmissions_raw)"
   ]
  },
  {
   "cell_type": "markdown",
   "metadata": {},
   "source": [
    "## Tidy up column names"
   ]
  },
  {
   "cell_type": "code",
   "execution_count": 25,
   "metadata": {
    "collapsed": false
   },
   "outputs": [],
   "source": [
    "r.columns = r.columns.str.replace(' ', '_')"
   ]
  },
  {
   "cell_type": "code",
   "execution_count": 26,
   "metadata": {
    "collapsed": false
   },
   "outputs": [],
   "source": [
    "r = r[['Hospital_Name', 'Measure_Name', 'Number_of_Discharges', 'Excess_Readmission_Ratio','Predicted_Readmission_Rate', 'Expected_Readmission_Rate', 'Number_of_Readmissions']] "
   ]
  },
  {
   "cell_type": "code",
   "execution_count": 27,
   "metadata": {
    "collapsed": true
   },
   "outputs": [],
   "source": [
    "r = r.rename(columns=lambda x: x + '_r')"
   ]
  },
  {
   "cell_type": "markdown",
   "metadata": {},
   "source": [
    "## Clean nulls"
   ]
  },
  {
   "cell_type": "code",
   "execution_count": 28,
   "metadata": {
    "collapsed": true
   },
   "outputs": [],
   "source": [
    "r = r.replace('Not Available', np.nan)"
   ]
  },
  {
   "cell_type": "markdown",
   "metadata": {},
   "source": [
    "## Convert to numeric"
   ]
  },
  {
   "cell_type": "code",
   "execution_count": 29,
   "metadata": {
    "collapsed": false
   },
   "outputs": [],
   "source": [
    "r.iloc[:, 2:7] = r.iloc[:, 2:7].apply(pd.to_numeric, errors='coerce')"
   ]
  },
  {
   "cell_type": "markdown",
   "metadata": {},
   "source": [
    "## Simplify Readmission Code information"
   ]
  },
  {
   "cell_type": "code",
   "execution_count": 30,
   "metadata": {
    "collapsed": true
   },
   "outputs": [],
   "source": [
    "r = r.replace('READM-30-AMI-HRRP', 'AMI').replace('READM-30-CABG-HRRP','CABG').replace('READM-30-COPD-HRRP','COPD').replace('READM-30-HF-HRRP', 'HF').replace('READM-30-HIP-KNEE-HRRP', 'HIP-KNEE').replace('READM-30-PN-HRRP', 'PN')"
   ]
  },
  {
   "cell_type": "code",
   "execution_count": 31,
   "metadata": {
    "collapsed": false
   },
   "outputs": [
    {
     "data": {
      "text/plain": [
       "array(['AMI', 'CABG', 'COPD', 'HF', 'HIP-KNEE', 'PN'], dtype=object)"
      ]
     },
     "execution_count": 31,
     "metadata": {},
     "output_type": "execute_result"
    }
   ],
   "source": [
    "r.Measure_Name_r.unique()"
   ]
  },
  {
   "cell_type": "markdown",
   "metadata": {},
   "source": [
    "## Save to Readmission info to CSV"
   ]
  },
  {
   "cell_type": "code",
   "execution_count": 32,
   "metadata": {
    "collapsed": false
   },
   "outputs": [
    {
     "data": {
      "text/html": [
       "<div>\n",
       "<table border=\"1\" class=\"dataframe\">\n",
       "  <thead>\n",
       "    <tr style=\"text-align: right;\">\n",
       "      <th></th>\n",
       "      <th>Hospital_Name_r</th>\n",
       "      <th>Measure_Name_r</th>\n",
       "      <th>Number_of_Discharges_r</th>\n",
       "      <th>Excess_Readmission_Ratio_r</th>\n",
       "      <th>Predicted_Readmission_Rate_r</th>\n",
       "      <th>Expected_Readmission_Rate_r</th>\n",
       "      <th>Number_of_Readmissions_r</th>\n",
       "    </tr>\n",
       "  </thead>\n",
       "  <tbody>\n",
       "    <tr>\n",
       "      <th>0</th>\n",
       "      <td>SOUTHEAST ALABAMA MEDICAL CENTER</td>\n",
       "      <td>AMI</td>\n",
       "      <td>781.0</td>\n",
       "      <td>0.9837</td>\n",
       "      <td>15.3580</td>\n",
       "      <td>15.6121</td>\n",
       "      <td>119.0</td>\n",
       "    </tr>\n",
       "    <tr>\n",
       "      <th>1</th>\n",
       "      <td>SOUTHEAST ALABAMA MEDICAL CENTER</td>\n",
       "      <td>CABG</td>\n",
       "      <td>273.0</td>\n",
       "      <td>1.0618</td>\n",
       "      <td>13.8887</td>\n",
       "      <td>13.0809</td>\n",
       "      <td>40.0</td>\n",
       "    </tr>\n",
       "  </tbody>\n",
       "</table>\n",
       "</div>"
      ],
      "text/plain": [
       "                    Hospital_Name_r Measure_Name_r  Number_of_Discharges_r  \\\n",
       "0  SOUTHEAST ALABAMA MEDICAL CENTER            AMI                   781.0   \n",
       "1  SOUTHEAST ALABAMA MEDICAL CENTER           CABG                   273.0   \n",
       "\n",
       "   Excess_Readmission_Ratio_r  Predicted_Readmission_Rate_r  \\\n",
       "0                      0.9837                       15.3580   \n",
       "1                      1.0618                       13.8887   \n",
       "\n",
       "   Expected_Readmission_Rate_r  Number_of_Readmissions_r  \n",
       "0                      15.6121                     119.0  \n",
       "1                      13.0809                      40.0  "
      ]
     },
     "execution_count": 32,
     "metadata": {},
     "output_type": "execute_result"
    }
   ],
   "source": [
    "r.head(2)"
   ]
  },
  {
   "cell_type": "code",
   "execution_count": 33,
   "metadata": {
    "collapsed": true
   },
   "outputs": [],
   "source": [
    "r.to_csv('readmissions_clean_save.csv')"
   ]
  },
  {
   "cell_type": "markdown",
   "metadata": {},
   "source": [
    "## Create a readmissions dataset using average readmissions data across measures. This will facilitate merges with other data frames"
   ]
  },
  {
   "cell_type": "code",
   "execution_count": 34,
   "metadata": {
    "collapsed": true
   },
   "outputs": [],
   "source": [
    "r_means = r.groupby(['Hospital_Name_r']).mean()"
   ]
  },
  {
   "cell_type": "code",
   "execution_count": 35,
   "metadata": {
    "collapsed": true
   },
   "outputs": [],
   "source": [
    "r_means.reset_index(inplace = True)"
   ]
  },
  {
   "cell_type": "code",
   "execution_count": 36,
   "metadata": {
    "collapsed": false
   },
   "outputs": [],
   "source": [
    "r_means.to_csv('readmissions_clean_mean_save.csv')"
   ]
  },
  {
   "cell_type": "markdown",
   "metadata": {},
   "source": [
    "## Merge General Hospital and Readmissions Data Sets"
   ]
  },
  {
   "cell_type": "code",
   "execution_count": 63,
   "metadata": {
    "collapsed": false
   },
   "outputs": [],
   "source": [
    "r_g = pd.merge(left = g, right = r_means, how = 'outer', left_on = 'Hospital_Name_g', right_on = 'Hospital_Name_r')"
   ]
  },
  {
   "cell_type": "markdown",
   "metadata": {},
   "source": [
    "## Now merge with MSPB Data Set"
   ]
  },
  {
   "cell_type": "code",
   "execution_count": 64,
   "metadata": {
    "collapsed": false
   },
   "outputs": [],
   "source": [
    "r_g_mspb = pd.merge(left = r_g, right = mspb, how = 'outer', left_on = 'Provider_ID_g', right_on = 'Provider_ID_m')"
   ]
  },
  {
   "cell_type": "markdown",
   "metadata": {},
   "source": [
    "## Drop redundant columns"
   ]
  },
  {
   "cell_type": "code",
   "execution_count": 65,
   "metadata": {
    "collapsed": false
   },
   "outputs": [
    {
     "data": {
      "text/html": [
       "<div>\n",
       "<table border=\"1\" class=\"dataframe\">\n",
       "  <thead>\n",
       "    <tr style=\"text-align: right;\">\n",
       "      <th></th>\n",
       "      <th>Hospital_Name_g</th>\n",
       "      <th>State_g</th>\n",
       "      <th>ZIP_Code_g</th>\n",
       "      <th>Provider_ID_g</th>\n",
       "      <th>Type</th>\n",
       "      <th>Ownership_g</th>\n",
       "      <th>Emergency_Services_g</th>\n",
       "      <th>EHRs_g</th>\n",
       "      <th>Hospital_overall_rating_g</th>\n",
       "      <th>Safety_of_care_g</th>\n",
       "      <th>...</th>\n",
       "      <th>Timeliness_of_care_g</th>\n",
       "      <th>Efficient_use_of_medical_imaging_g</th>\n",
       "      <th>Hospital_Name_r</th>\n",
       "      <th>Number_of_Discharges_r</th>\n",
       "      <th>Excess_Readmission_Ratio_r</th>\n",
       "      <th>Predicted_Readmission_Rate_r</th>\n",
       "      <th>Expected_Readmission_Rate_r</th>\n",
       "      <th>Number_of_Readmissions_r</th>\n",
       "      <th>Provider_ID_m</th>\n",
       "      <th>MSPB</th>\n",
       "    </tr>\n",
       "  </thead>\n",
       "  <tbody>\n",
       "    <tr>\n",
       "      <th>0</th>\n",
       "      <td>SOUTHEAST ALABAMA MEDICAL CENTER</td>\n",
       "      <td>AL</td>\n",
       "      <td>36301.0</td>\n",
       "      <td>10001.0</td>\n",
       "      <td>Acute Care Hospitals</td>\n",
       "      <td>Government - Hospital District or Authority</td>\n",
       "      <td>True</td>\n",
       "      <td>True</td>\n",
       "      <td>3</td>\n",
       "      <td>Above the National average</td>\n",
       "      <td>...</td>\n",
       "      <td>Same as the National average</td>\n",
       "      <td>Same as the National average</td>\n",
       "      <td>SOUTHEAST ALABAMA MEDICAL CENTER</td>\n",
       "      <td>624.166667</td>\n",
       "      <td>1.041817</td>\n",
       "      <td>15.352883</td>\n",
       "      <td>14.956117</td>\n",
       "      <td>106.333333</td>\n",
       "      <td>10001.0</td>\n",
       "      <td>0.999877</td>\n",
       "    </tr>\n",
       "  </tbody>\n",
       "</table>\n",
       "<p>1 rows × 22 columns</p>\n",
       "</div>"
      ],
      "text/plain": [
       "                    Hospital_Name_g State_g  ZIP_Code_g  Provider_ID_g  \\\n",
       "0  SOUTHEAST ALABAMA MEDICAL CENTER      AL     36301.0        10001.0   \n",
       "\n",
       "                   Type                                  Ownership_g  \\\n",
       "0  Acute Care Hospitals  Government - Hospital District or Authority   \n",
       "\n",
       "  Emergency_Services_g EHRs_g Hospital_overall_rating_g  \\\n",
       "0                 True   True                         3   \n",
       "\n",
       "             Safety_of_care_g    ...             Timeliness_of_care_g  \\\n",
       "0  Above the National average    ...     Same as the National average   \n",
       "\n",
       "  Efficient_use_of_medical_imaging_g                   Hospital_Name_r  \\\n",
       "0       Same as the National average  SOUTHEAST ALABAMA MEDICAL CENTER   \n",
       "\n",
       "  Number_of_Discharges_r Excess_Readmission_Ratio_r  \\\n",
       "0             624.166667                   1.041817   \n",
       "\n",
       "   Predicted_Readmission_Rate_r  Expected_Readmission_Rate_r  \\\n",
       "0                     15.352883                    14.956117   \n",
       "\n",
       "   Number_of_Readmissions_r  Provider_ID_m      MSPB  \n",
       "0                106.333333        10001.0  0.999877  \n",
       "\n",
       "[1 rows x 22 columns]"
      ]
     },
     "execution_count": 65,
     "metadata": {},
     "output_type": "execute_result"
    }
   ],
   "source": [
    "r_g_mspb.head(1)"
   ]
  },
  {
   "cell_type": "code",
   "execution_count": 66,
   "metadata": {
    "collapsed": false
   },
   "outputs": [],
   "source": [
    "r_g_mspb.drop(['Provider_ID_g','Hospital_Name_r', 'Provider_ID_m'], inplace = True, axis = 1)"
   ]
  },
  {
   "cell_type": "markdown",
   "metadata": {},
   "source": [
    "## Generate Time Zone Data Frame"
   ]
  },
  {
   "cell_type": "code",
   "execution_count": 67,
   "metadata": {
    "collapsed": true
   },
   "outputs": [],
   "source": [
    "state_to_region = { 'AK': 'US/Alaska', 'AL': 'US/Central', 'AR': 'US/Central', 'AS': 'US/Samoa', 'AZ': 'US/Mountain', 'CA': 'US/Pacific', 'CO': 'US/Mountain', 'CT': 'US/Eastern', 'DC': 'US/Eastern', 'DE': 'US/Eastern', 'FL': 'US/Eastern', 'GA': 'US/Eastern', 'GU': 'Pacific/Guam', 'HI': 'US/Hawaii', 'IA': 'US/Central', 'ID': 'US/Mountain', 'IL': 'US/Central', 'IN': 'US/Eastern', 'KS': 'US/Central', 'KY': 'US/Eastern', 'LA': 'US/Central', 'MA': 'US/Eastern', 'MD': 'US/Eastern', 'ME': 'US/Eastern', 'MI': 'US/Eastern', 'MN': 'US/Central', 'MO': 'US/Central', 'MP': 'Pacific/Guam', 'MS': 'US/Central', 'MT': 'US/Mountain', 'NC': 'US/Eastern', 'ND': 'US/Central', 'NE': 'US/Central', 'NH': 'US/Eastern', 'NJ': 'US/Eastern', 'NM': 'US/Mountain', 'NV': 'US/Pacific', 'NY': 'US/Eastern', 'OH': 'US/Eastern', 'OK': 'US/Central', 'OR': 'US/Pacific', 'PA': 'US/Eastern', 'PR': 'America/Puerto_Rico', 'RI': 'US/Eastern', 'SC': 'US/Eastern', 'SD': 'US/Central', 'TN': 'US/Central', 'TX': 'US/Central', 'UT': 'US/Mountain', 'VA': 'US/Eastern', 'VI': 'America/Virgin', 'VT': 'US/Eastern', 'WA': 'US/Pacific', 'WI': 'US/Central', 'WV': 'US/Eastern', 'WY': 'US/Mountain', '' : 'US/Pacific', '--': 'US/Pacific' }"
   ]
  },
  {
   "cell_type": "code",
   "execution_count": 68,
   "metadata": {
    "collapsed": true
   },
   "outputs": [],
   "source": [
    "state_to_region_df = pd.DataFrame(state_to_region.items())"
   ]
  },
  {
   "cell_type": "code",
   "execution_count": 69,
   "metadata": {
    "collapsed": true
   },
   "outputs": [],
   "source": [
    "state_to_region_df.columns = ['State_name', 'Region']"
   ]
  },
  {
   "cell_type": "markdown",
   "metadata": {},
   "source": [
    "## Merge Data Frame with Time Zone Information"
   ]
  },
  {
   "cell_type": "code",
   "execution_count": 70,
   "metadata": {
    "collapsed": false
   },
   "outputs": [],
   "source": [
    "r_g_mspb_geo = pd.merge(left = r_g_mspb , right = state_to_region_df, how = 'left', left_on = 'State_g', right_on='State_name')"
   ]
  },
  {
   "cell_type": "code",
   "execution_count": 71,
   "metadata": {
    "collapsed": false
   },
   "outputs": [],
   "source": [
    "r_g_mspb_geo.drop(['State_g'], axis = 1, inplace = True)"
   ]
  },
  {
   "cell_type": "code",
   "execution_count": 72,
   "metadata": {
    "collapsed": true
   },
   "outputs": [],
   "source": [
    "r_g_mspb_geo['Emergency_Services_g'] = r_g_mspb_geo['Emergency_Services_g'].astype('str')"
   ]
  },
  {
   "cell_type": "code",
   "execution_count": 73,
   "metadata": {
    "collapsed": false
   },
   "outputs": [],
   "source": [
    "r_g_mspb_geo.to_csv('r_g_mspb.csv')"
   ]
  },
  {
   "cell_type": "code",
   "execution_count": 74,
   "metadata": {
    "collapsed": false
   },
   "outputs": [
    {
     "name": "stdout",
     "output_type": "stream",
     "text": [
      "<class 'pandas.core.frame.DataFrame'>\n",
      "Int64Index: 4825 entries, 0 to 4824\n",
      "Data columns (total 20 columns):\n",
      "Hospital_Name_g                       4807 non-null object\n",
      "ZIP_Code_g                            4807 non-null float64\n",
      "Type                                  4807 non-null object\n",
      "Ownership_g                           4807 non-null object\n",
      "Emergency_Services_g                  4825 non-null object\n",
      "EHRs_g                                4363 non-null object\n",
      "Hospital_overall_rating_g             3584 non-null object\n",
      "Safety_of_care_g                      2654 non-null object\n",
      "Patient_experience_g                  3454 non-null object\n",
      "Effectiveness_of_care_g               3627 non-null object\n",
      "Timeliness_of_care_g                  3565 non-null object\n",
      "Efficient_use_of_medical_imaging_g    2790 non-null object\n",
      "Number_of_Discharges_r                3031 non-null float64\n",
      "Excess_Readmission_Ratio_r            3156 non-null float64\n",
      "Predicted_Readmission_Rate_r          3156 non-null float64\n",
      "Expected_Readmission_Rate_r           3156 non-null float64\n",
      "Number_of_Readmissions_r              2976 non-null float64\n",
      "MSPB                                  3165 non-null float64\n",
      "State_name                            4807 non-null object\n",
      "Region                                4807 non-null object\n",
      "dtypes: float64(7), object(13)\n",
      "memory usage: 791.6+ KB\n"
     ]
    }
   ],
   "source": [
    "r_g_mspb_geo.info()"
   ]
  },
  {
   "cell_type": "code",
   "execution_count": 75,
   "metadata": {
    "collapsed": false
   },
   "outputs": [
    {
     "data": {
      "text/plain": [
       "<bound method Series.describe of 0            Acute Care Hospitals\n",
       "1            Acute Care Hospitals\n",
       "2            Acute Care Hospitals\n",
       "3            Acute Care Hospitals\n",
       "4            Acute Care Hospitals\n",
       "5            Acute Care Hospitals\n",
       "6            Acute Care Hospitals\n",
       "7            Acute Care Hospitals\n",
       "8            Acute Care Hospitals\n",
       "9            Acute Care Hospitals\n",
       "10           Acute Care Hospitals\n",
       "11           Acute Care Hospitals\n",
       "12           Acute Care Hospitals\n",
       "13           Acute Care Hospitals\n",
       "14           Acute Care Hospitals\n",
       "15           Acute Care Hospitals\n",
       "16           Acute Care Hospitals\n",
       "17           Acute Care Hospitals\n",
       "18           Acute Care Hospitals\n",
       "19           Acute Care Hospitals\n",
       "20           Acute Care Hospitals\n",
       "21           Acute Care Hospitals\n",
       "22           Acute Care Hospitals\n",
       "23           Acute Care Hospitals\n",
       "24           Acute Care Hospitals\n",
       "25           Acute Care Hospitals\n",
       "26           Acute Care Hospitals\n",
       "27      Critical Access Hospitals\n",
       "28           Acute Care Hospitals\n",
       "29           Acute Care Hospitals\n",
       "                  ...            \n",
       "4795         Acute Care Hospitals\n",
       "4796         Acute Care Hospitals\n",
       "4797         Acute Care Hospitals\n",
       "4798         Acute Care Hospitals\n",
       "4799         Acute Care Hospitals\n",
       "4800         Acute Care Hospitals\n",
       "4801         Acute Care Hospitals\n",
       "4802         Acute Care Hospitals\n",
       "4803         Acute Care Hospitals\n",
       "4804         Acute Care Hospitals\n",
       "4805         Acute Care Hospitals\n",
       "4806         Acute Care Hospitals\n",
       "4807                          NaN\n",
       "4808                          NaN\n",
       "4809                          NaN\n",
       "4810                          NaN\n",
       "4811                          NaN\n",
       "4812                          NaN\n",
       "4813                          NaN\n",
       "4814                          NaN\n",
       "4815                          NaN\n",
       "4816                          NaN\n",
       "4817                          NaN\n",
       "4818                          NaN\n",
       "4819                          NaN\n",
       "4820                          NaN\n",
       "4821                          NaN\n",
       "4822                          NaN\n",
       "4823                          NaN\n",
       "4824                          NaN\n",
       "Name: Type, dtype: object>"
      ]
     },
     "execution_count": 75,
     "metadata": {},
     "output_type": "execute_result"
    }
   ],
   "source": [
    "r_g_mspb_geo.Type.describe"
   ]
  },
  {
   "cell_type": "code",
   "execution_count": null,
   "metadata": {
    "collapsed": true
   },
   "outputs": [],
   "source": []
  },
  {
   "cell_type": "code",
   "execution_count": null,
   "metadata": {
    "collapsed": true
   },
   "outputs": [],
   "source": []
  }
 ],
 "metadata": {
  "anaconda-cloud": {},
  "kernelspec": {
   "display_name": "Python [conda root]",
   "language": "python",
   "name": "conda-root-py"
  },
  "language_info": {
   "codemirror_mode": {
    "name": "ipython",
    "version": 2
   },
   "file_extension": ".py",
   "mimetype": "text/x-python",
   "name": "python",
   "nbconvert_exporter": "python",
   "pygments_lexer": "ipython2",
   "version": "2.7.12"
  }
 },
 "nbformat": 4,
 "nbformat_minor": 1
}
