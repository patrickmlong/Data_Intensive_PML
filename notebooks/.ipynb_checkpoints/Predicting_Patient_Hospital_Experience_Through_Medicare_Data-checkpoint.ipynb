{
 "cells": [
  {
   "cell_type": "markdown",
   "metadata": {},
   "source": [
    "# <h1><center>Predicting Hospital Patient Experience using Medicare Data</center></h1> \n",
    "\n",
    "###  <i><center>Can hospital geography, performance metrics, and readmissions information <br><br>predict patient hospital experience?</center></i>\n",
    "\n",
    "### <center> Background </center>\n",
    "The quality of patient hospital experience is of profound relevance in our current healthcare environment impacting patients and providers alike.  Patient experience now plays a consequential role in determining levels of Medicare reimbursement, which places significant financial pressure on hospitals to understand facets of care that contribute to patient experience. Additionally, the rising emphasis on patient choice in the healthcare market will likely penalize hospitals that fail to meet patient expectations by reducing patient demand. These trends may be further driven by the growing utility of big data that will make metrics of patient experience at regional hospitals more transparent to the patients themselves, which may influence healthcare purchasing behavior. \n",
    "\n",
    "\n",
    "### <center> Driving Questions </center>\n",
    "Data relating to patient experience for individual hospitals is publically available to consumers at [data.medicare.gov](https://data.medicare.gov/Hospital-Compare/Patient-survey-HCAHPS-Hospital/dgck-syfz \"Patient survey (HCAHPS) - Hospital\") and is aggregated a <i>\"Below\"</i>, <i>\"Same as\"</i>, or <i>\"Above\"</i> the national average.  However, the API for these databases is difficult to navigate and patient experience ratings are not available for hospitals excluded from the Medicare database. The primary goal of this analysis will be to develop a model to predict patient experience using publically available Medicare data. Secondarily, developing a model  with good predictive accuracy may identify the specific hospital attributes important to patient satisfaction. Briefly, this undertaking will address the following questions:\n",
    "\n",
    "* <b><i>How accurately does publically available Medicare Hospital Compare data predict patient experience? <br><br>\n",
    "\n",
    "* What hospital attributes provide the greatest predictive value toward patient satisfaction?</b></i>\n",
    "\n",
    "### <center> The Potential Utility - Value to Client </center>\n",
    "Predictive analytics on patient satisfaction could be valuable to multiple client types. Two examples are provided below:\n",
    "\n",
    "* <b>A government agency or policy maker</b> tasked with evaluating hospital performance metrics as they relate to patient satisfaction. <br><br>\n",
    "\n",
    "* <b>A private firm</b> developing a patient facing hospital ratings software designed to provide indicators of patient satisfaction at various types of hospitals. The models generated using this data set could be used to predict satisfaction at hospitals not currently in the Medicare data base. \n",
    "\n",
    "### <center> Data Sources</center>\n",
    "Note: Downloadable access to these data sets is scheduled to expire July, 2017.\n",
    "Data is derived from several datasets available on at [data.medicare.gov](https://data.medicare.gov/data/hospital-compare). \n",
    "\n",
    "* [Hospital General Information](https://data.medicare.gov/Hospital-Compare/Hospital-General-Information/xubh-q36u)\n",
    "* [Readmissions information](https://data.medicare.gov/Hospital-Compare/Hospital-Readmissions-Reduction-Program/9n3s-kdb3)\n",
    "* Medicare hospital spending per patient (Medicare Spending per Beneficiary): No longer Accessible Online. See \"<b>Medicare_hospital_spending_per_patient\\__Medicare_Spending_per_Beneficiary____Additional_Decimal_Places</b>\" on this github account.\n",
    "* The data set was also merged with a dictionary of time zones to better inspect regional patterns.\n",
    "\n",
    "### <center> Key Terms </center>\n",
    "* <b>Number of Discharges</b>: Number of patients discharged over 30-day period for heart attack, heart failure, and pneumonia. \n",
    "* <b>Number of Readmissions</b>: Number of patients readmitted over 30-day period for heart attack, heart failure, and pneumonia. \n",
    "* <b>Excess Readmission Ratio (ERR)</b>: This ratio is created by dividing a hospital’s number of “predicted” 30-day readmissions for heart attack, heart failure, and pneumonia by the number that would be “expected,” based on an average hospital with similar patients. A ratio greater than 1 indicates excess readmissions.\n",
    "* <b>MSPB</b>: The Medicare hospital spending per patient (Medicare Spending per Beneficiary, MSPB) measure indicates whether Medicare spends more, less or about the same per Medicare patient treated in a specific hospital, compared to how much Medicare spends per patient nationally. This measure includes any Medicare Part A and Part B payments made for services provided to a patient during the 3 days prior to the hospital stay, during the stay, and during the 30 days after discharge from the hospital. \n",
    "* <b>EHR</b>: The use of electronic health records (EHR).\n",
    "* <b>Hospital Type</b>: Hospital Type i.e. critical access, acute care, childrens'.\n",
    "* <b>Hospital Ownership</b>: Model of hospital ownership e.g. government run, proprietary, volunteer/non-profit.\n",
    "* <b>Emergency Services</b>:\n",
    "* <b>Safety of Care</b>: Safety of care ratings for a hospital (below, same as, or above national average).\n",
    "* <b>Effectiveness of Care</b>: Effectiveness of care ratings for a hospital (below, same as, or above national average).\n",
    "* <b>Timeliness of Care</b>: Timeliness of care ratings for a hospital (below, same as, or above national average).\n",
    "* <b>Efficient use of Medical Imaging</b>:\n",
    "* <b>Hospital Overall rating</b>: An aggregate score of hospital rating from low to high (1 - 5) dervied from the above measures. Will be used for data exploration but not prediction of patient experience.\n"
   ]
  },
  {
   "cell_type": "markdown",
   "metadata": {
    "collapsed": true
   },
   "source": [
    "<h1><center>Medicare Data Wrangling</center></h1>"
   ]
  },
  {
   "cell_type": "markdown",
   "metadata": {},
   "source": [
    "Data wrangling for this analysis required the combination of multiple csv files accessed via [data.medicare.gov](https://data.medicare.gov/data/hospital-compare). (Note: Access to these data sets expires July, 2017). Each csv file was uploaded, cleaned separately, and saved before merging.   \n",
    "<br><b>The workflow is all follows:</b>\n",
    "* Import csv file\n",
    "* Tidy column: rename where appropriate, select relevant columns, append each column with a letter to track its original source:\n",
    "<br>g = general hospital data;\n",
    "m = Medicare spending per beneficiary data;\n",
    "r = readmissions data\n",
    "* Convert columns to appropriate data types and wrangle null values\n",
    "* Save as a cleaned csv file\n",
    "* Merge cleaned data sets and save as a csv file"
   ]
  },
  {
   "cell_type": "markdown",
   "metadata": {},
   "source": [
    "# <center> Import Packages </center>"
   ]
  },
  {
   "cell_type": "code",
   "execution_count": 1,
   "metadata": {},
   "outputs": [],
   "source": [
    "# Import packages\n",
    "import os\n",
    "import pandas as pd\n",
    "from pandas import set_option\n",
    "import matplotlib.pyplot as plt\n",
    "from matplotlib import cm\n",
    "import seaborn as sns\n",
    "import numpy as np\n",
    "from scipy import stats\n",
    "from sklearn.model_selection import KFold, cross_val_score, train_test_split, GridSearchCV\n",
    "from sklearn.preprocessing import Normalizer \n",
    "from sklearn.linear_model import LogisticRegression\n",
    "from sklearn.tree import DecisionTreeClassifier\n",
    "from sklearn.neighbors import KNeighborsClassifier\n",
    "from sklearn.discriminant_analysis import LinearDiscriminantAnalysis\n",
    "from sklearn.naive_bayes import GaussianNB, MultinomialNB\n",
    "from sklearn.svm import SVC\n",
    "from sklearn.metrics import accuracy_score, classification_report, confusion_matrix\n",
    "from sklearn.metrics import mean_squared_error as mse\n",
    "from sklearn.feature_selection import RFECV\n",
    "from sklearn.decomposition import PCA\n",
    "from sklearn.cluster import KMeans\n",
    "from sklearn.ensemble import RandomForestClassifier, BaggingClassifier, AdaBoostClassifier, GradientBoostingClassifier, ExtraTreesClassifier \n",
    "\n",
    "# Plotting packages\n",
    "from mpl_toolkits.mplot3d import Axes3D\n",
    "import matplotlib.cm as cm\n",
    "from matplotlib import rcParams\n",
    "rcParams['xtick.major.pad'] = 1\n",
    "rcParams['ytick.major.pad'] = 1\n",
    "\n",
    "import warnings\n",
    "warnings.simplefilter(action='ignore')"
   ]
  },
  {
   "cell_type": "markdown",
   "metadata": {},
   "source": [
    "# <center>ETL functions"
   ]
  },
  {
   "cell_type": "markdown",
   "metadata": {},
   "source": [
    "# <center> General Hospital Information </center>\n",
    "* The first csv file covered general hospital information and performance metrics. This included hospital name, location, ownership model and hospital type, as well the presence or absence of emergencies services, EHRs, and several ratings related to hospital performance that are ranked relative to the national average. The latter includes safety, effectiveness and timeliness of care ratings, efficient use of medical imaging ratings, and a high level aggregated score of a hospital's overall rating that subsumes all other performance metrics. "
   ]
  },
  {
   "cell_type": "markdown",
   "metadata": {},
   "source": [
    "# <center>  Medicare Spending per Benificiary (MSPB) </center>\n",
    "* The second csv file covered Medicare Spending per Benificiary (MSPB) for individual hospitals. MSPBs scores reflect whether Medicare spends more, less or about the same per Medicare patient treated in a specific hospital, compared to how much Medicare spends per patient nationally. A score greater than one indicates Medicare spending above the national average, while a score less than one indicates Medicare spending below the national average."
   ]
  },
  {
   "cell_type": "markdown",
   "metadata": {},
   "source": [
    "# <center> Medicare Readmissions Data </center>\n",
    "* The third csv file used in this analysis covered hospital readmissions metrics. This includes 1) the number of patients discharged over 30-day period for heart attack, heart failure, and pneumonia, 2) the number of patients readmitted over 30-day period for heart attack, heart failure, and pneumonia, and 3)an excess eeadmission ratio (ERR) score that is generated by dividing a hospital’s number of “predicted” 30-day readmissions for heart attack, heart failure, and pneumonia by the number that would be “expected,” based on an average hospital with similar patients. An ERR greater than 1 indicates excess readmissions."
   ]
  },
  {
   "cell_type": "markdown",
   "metadata": {},
   "source": [
    "####  Merge Medicare Data Sets\n",
    "* All cleaned Medicare \n",
    "* Format of merge: outer"
   ]
  },
  {
   "cell_type": "markdown",
   "metadata": {},
   "source": [
    "# <center>Data Preprocessing</center>"
   ]
  },
  {
   "cell_type": "code",
   "execution_count": 253,
   "metadata": {},
   "outputs": [],
   "source": [
    "def format_input(dir_path: str):\n",
    "    \n",
    "    # Import cleaned data \n",
    "    df = pd.read_csv(dir_path)\n",
    "\n",
    "    # Omit hospital overall rating as it\n",
    "    # is derived from target.\n",
    "    df.drop([\"hospital_overall_rating\"], \n",
    "            axis = 1, inplace = True)\n",
    "\n",
    "    # Drop provider_ids where target variable is NaN\n",
    "    df = df[~df.patient_experience_national_comparison.isna()]\n",
    "\n",
    "    # Assign target\n",
    "    target = df.patient_experience_national_comparison\n",
    "    \n",
    "    provider_id = df.provider_id\n",
    "    \n",
    "        # Remove target from training\n",
    "    df.drop([\"patient_experience_national_comparison\",\n",
    "             \"provider_id\"],\n",
    "            axis = 1, inplace = True)\n",
    "    \n",
    "\n",
    "    return df, target, provider_id"
   ]
  },
  {
   "cell_type": "code",
   "execution_count": 254,
   "metadata": {},
   "outputs": [],
   "source": [
    "def get_dummies_wrapper(df_in):\n",
    "\n",
    "    feature_list = df_in.select_dtypes(include = \"object\").columns\n",
    "    \n",
    "    dummy_df = pd.get_dummies(df_in[feature_list])\n",
    "    \n",
    "    df_in.drop(feature_list, axis = 1, inplace = True)\n",
    "    \n",
    "    df_out = pd.concat([df_in,dummy_df], axis = 1)\n",
    "    \n",
    "    return df_out"
   ]
  },
  {
   "cell_type": "code",
   "execution_count": 255,
   "metadata": {},
   "outputs": [],
   "source": [
    "def impute_features(X_train, X_test, impute_strategy):\n",
    "    \n",
    "    from sklearn.impute import SimpleImputer\n",
    "    \n",
    "    s_imputer = SimpleImputer(missing_values=np.nan, strategy = impute_strategy)\n",
    "    \n",
    "    df_cols = X.columns\n",
    "    \n",
    "    X_train = s_imputer.fit_transform(X_train)\n",
    "    X_test = s_imputer.transform(X_test)\n",
    "    \n",
    "    X_train = pd.DataFrame(X_train, columns = df_cols)\n",
    "    X_test = pd.DataFrame(X_test, columns = df_cols)\n",
    "    \n",
    "    return X_train, X_test, s_imputer"
   ]
  },
  {
   "cell_type": "code",
   "execution_count": 256,
   "metadata": {},
   "outputs": [],
   "source": [
    "def normalize_df(X_train, X_test, col_patterns: str):\n",
    "    \n",
    "    norm = Normalizer()\n",
    "    \n",
    "    cols_to_norm = [c for c in X_train.columns if col_patterns in c]\n",
    "    \n",
    "    X_train.loc[:,cols_to_norm] = \\\n",
    "    norm.fit_transform(X_train.loc[:,cols_to_norm]).copy()\n",
    "    \n",
    "    X_test.loc[:,cols_to_norm] = \\\n",
    "    norm.transform(X_test.loc[:,cols_to_norm]).copy()\n",
    "    \n",
    "    return X_train, X_test, norm\n",
    "    "
   ]
  },
  {
   "cell_type": "code",
   "execution_count": 431,
   "metadata": {},
   "outputs": [],
   "source": [
    "X, Y, provider_id = format_input(\"../data/processed_data/med_data_merged_geo.csv\")\n",
    "\n",
    "X = get_dummies_wrapper(X)\n",
    "\n",
    "# Split to train:test (80:20)\n",
    "X_train, X_test, y_train, y_test = \\\n",
    "train_test_split(X, Y, test_size=0.2, random_state=42)\n",
    "\n",
    "# impute features with mode\n",
    "X_train, X_test, _ = impute_features(X_train, X_test, impute_strategy = \"most_frequent\")\n",
    "\n",
    "# normalize non-binary data\n",
    "X_train, X_test, _ = normalize_df(X_train, X_test, col_patterns = \"readm_\")\n"
   ]
  },
  {
   "cell_type": "markdown",
   "metadata": {},
   "source": [
    "# <center> Algorithm cross validation and optimization </center>"
   ]
  },
  {
   "cell_type": "markdown",
   "metadata": {},
   "source": [
    "#### Test Machine Learning Model Performance Using Default Parameters\n",
    "* Scikit Learn's classification models have several default parameters that dictate aspects of their behavior. In most cases these parameters need to be optomized to improve model performance; however, running models with their default paramters is a quick way to guage what algorithms may be most appropriate for a particular data set. <br><br>\n",
    "* Model classification performance will be primarily evaluated by <b>Accuracy:</b>\n",
    "<i>True Positives / All Instances</i><br><br>\n",
    "* <b>The supervized learning models tested on this dataset include:</b>\n",
    "* Logistic Regression (LR)\n",
    "* Linear Discrimant Analysis (LDA) - for classification\n",
    "* K-nearest Neighbors (KNN)\n",
    "* Decision Tree (DTC)\n",
    "* Random Forest (RFC)\n",
    "* Support Vector Machine (SVM)\n",
    "* Multinomial Naive Bayes (NB)"
   ]
  },
  {
   "cell_type": "code",
   "execution_count": 81,
   "metadata": {},
   "outputs": [],
   "source": [
    "# Prepare lists of algorithms to be used.\n",
    "\n",
    "models = []\n",
    "models.append(('LR', LogisticRegression()))\n",
    "models.append(('LDA', LinearDiscriminantAnalysis()))\n",
    "models.append(('KNN', KNeighborsClassifier()))\n",
    "models.append(('DTC', DecisionTreeClassifier()))\n",
    "models.append(('RFC', RandomForestClassifier()))\n",
    "models.append(('SVM', SVC()))\n",
    "models.append(('NB', MultinomialNB()))"
   ]
  },
  {
   "cell_type": "code",
   "execution_count": 87,
   "metadata": {},
   "outputs": [
    {
     "name": "stdout",
     "output_type": "stream",
     "text": [
      "Table X. Accuracy of Patient Experience Predictions for each Machine Learning Algorithm \n",
      "\n",
      "CV Accuracy LR: 0.5667721518987341 SD 0.006629085410967357 - Test Accuracy: 0.5629522431259045\n",
      "CV Accuracy LDA: 0.5765403464632963 SD 0.016330265014763506 - Test Accuracy: 0.5629522431259045\n",
      "CV Accuracy KNN: 0.5099450952643028 SD 0.01638720696759571 - Test Accuracy: 0.4992764109985528\n",
      "CV Accuracy DTC: 0.4741037031213146 SD 0.027514471950144916 - Test Accuracy: 0.4703328509406657\n",
      "CV Accuracy RFC: 0.5081472600047172 SD 0.006299573745411612 - Test Accuracy: 0.5311143270622286\n",
      "CV Accuracy SVM: 0.5399920067091228 SD 0.012574125523068119 - Test Accuracy: 0.548480463096961\n",
      "CV Accuracy NB: 0.5338378279214823 SD 0.0025690491713957217 - Test Accuracy: 0.5180897250361794\n"
     ]
    }
   ],
   "source": [
    "# Create loop to serially evaluate models using kfold and cross validation then print performance accuracy.\n",
    "\n",
    "print(\"Table X. Accuracy of Patient Experience Predictions for each Machine Learning Algorithm \\n\")\n",
    "\n",
    "results = []\n",
    "names = []\n",
    "scoring = 'accuracy'\n",
    "for name, model in models:\n",
    "    kfold= KFold(n_splits = 5, random_state=2, shuffle=True)\n",
    "    cv_results = cross_val_score(model, X_train, y_train, cv=kfold, scoring=scoring)\n",
    "    results.append(cv_results)\n",
    "    names.append(name)\n",
    "    mod = model\n",
    "    mod.fit(X_train, y_train)\n",
    "    mod_pred = mod.predict(X_test)\n",
    "    mod_accuracy = accuracy_score(mod_pred, y_test)\n",
    "    msg = f\"CV Accuracy {name}: {cv_results.mean()} SD {cv_results.std()} - Test Accuracy: {mod_accuracy}\"    \n",
    "    print(msg) "
   ]
  },
  {
   "cell_type": "markdown",
   "metadata": {},
   "source": [
    "#### Test Machine Learning Model Performance After Parameter Optimization\n",
    "* Parameter optimization can be done by serially testing different parameter combinations using SciKit Learn's GridSearchCV method. This allows one identify parameters that perform best by a particular metric (e.g. accuracy).  For example, one can test the kernal type (i.e. 'linear' or 'rbf') for SVM, or the number of neighbors to use when making predictive decisions with KNN and how KNN should calculate distances between neighbors (e.g. minkowski, Manhattan, etc.)."
   ]
  },
  {
   "cell_type": "code",
   "execution_count": 89,
   "metadata": {},
   "outputs": [],
   "source": [
    "# Define parameters optimization with GridSearchCV.  \n",
    "\n",
    "# SVM_params = {'C':[0.1, 10, 100], 'kernel':['rbf' ,'linear']}\n",
    "LR_params = {'C':[0.001, 0.1, 1, 10, 100]}\n",
    "LDA_params = {'n_components':[None, 1,2,3],}\n",
    "KNN_params = {'n_neighbors':[1,5,10,20], 'p':[2]}\n",
    "RF_params = {'n_estimators':[10,50,100]}\n",
    "# DTC_params = {'criterion':['entropy', 'gini'], 'max_depth':[10, 50, 100]}\n",
    "# NB_mult_params = {'alpha':[1,10]}"
   ]
  },
  {
   "cell_type": "code",
   "execution_count": 90,
   "metadata": {},
   "outputs": [],
   "source": [
    "# Make list of models to test with paramter dictionaries.  \n",
    "\n",
    "models_opt = []\n",
    "models_opt.append(('LR', LogisticRegression(), LR_params))\n",
    "models_opt.append(('LDA', LinearDiscriminantAnalysis(), LDA_params))\n",
    "models_opt.append(('KNN', KNeighborsClassifier(),KNN_params))\n",
    "# models_opt.append(('DTC', DecisionTreeClassifier(), DTC_params))\n",
    "models_opt.append(('RFC', RandomForestClassifier(), RF_params))\n",
    "# models_opt.append(('SVM', SVC(), SVM_params))\n",
    "# models_opt.append(('NB', MultinomialNB(), NB_mult_params)) "
   ]
  },
  {
   "cell_type": "code",
   "execution_count": 102,
   "metadata": {},
   "outputs": [],
   "source": [
    "# Set up possible values of parameters to optimize over\n",
    "lr_params = {'C':[0.001, 0.1, 1, 10, 100]}\n",
    "\n",
    "lr = LogisticRegression()\n"
   ]
  },
  {
   "cell_type": "code",
   "execution_count": 108,
   "metadata": {},
   "outputs": [
    {
     "name": "stdout",
     "output_type": "stream",
     "text": [
      "Average difference of 0.002642 with std. dev. of 0.002790.\n"
     ]
    },
    {
     "data": {
      "text/plain": [
       "Text(0.5, 1.1, 'Non-Nested and Nested Cross Validation on Iris Dataset')"
      ]
     },
     "execution_count": 108,
     "metadata": {},
     "output_type": "execute_result"
    },
    {
     "data": {
      "image/png": "[encoded data removed]",
      "text/plain": [
       "<Figure size 432x288 with 1 Axes>"
      ]
     },
     "metadata": {
      "needs_background": "light"
     },
     "output_type": "display_data"
    }
   ],
   "source": [
    "NUM_TRIALS = 30\n",
    "\n",
    "non_nested_scores = np.zeros(NUM_TRIALS)\n",
    "nested_scores = np.zeros(NUM_TRIALS)\n",
    "\n",
    "# Loop for each trial\n",
    "for i in range(NUM_TRIALS):\n",
    "\n",
    "    inner_cv = KFold(n_splits=4, shuffle=True, random_state=i)\n",
    "    outer_cv = KFold(n_splits=4, shuffle=True, random_state=i)\n",
    "\n",
    "    # Non_nested parameter search and scoring\n",
    "    clf = GridSearchCV(estimator=lr, param_grid=lr_params, cv=inner_cv,\n",
    "                       iid=False)\n",
    "    \n",
    "    clf.fit(X_train, y_train)\n",
    "    \n",
    "    non_nested_scores[i] = clf.best_score_\n",
    "\n",
    "    # Nested CV with parameter optimization\n",
    "    nested_score = cross_val_score(clf, X=X_train, y=y_train, cv=outer_cv)\n",
    "    nested_scores[i] = nested_score.mean()\n",
    "    \n",
    "score_difference = non_nested_scores - nested_scores\n",
    "\n",
    "\n",
    "print(\"Average difference of {:6f} with std. dev. of {:6f}.\"\n",
    "      .format(score_difference.mean(), score_difference.std()))\n",
    "\n",
    "# Plot scores on each trial for nested and non-nested CV\n",
    "plt.figure()\n",
    "plt.subplot(211)\n",
    "non_nested_scores_line, = plt.plot(non_nested_scores, color='r')\n",
    "nested_line, = plt.plot(nested_scores, color='b')\n",
    "plt.ylabel(\"score\", fontsize=\"14\")\n",
    "plt.legend([non_nested_scores_line, nested_line],\n",
    "           [\"Non-Nested CV\", \"Nested CV\"],\n",
    "           bbox_to_anchor=(0, .4, .5, 0))\n",
    "plt.title(\"Non-Nested and Nested Cross Validation on Iris Dataset\",\n",
    "          x=.5, y=1.1, fontsize=\"15\")"
   ]
  },
  {
   "cell_type": "code",
   "execution_count": null,
   "metadata": {},
   "outputs": [],
   "source": []
  },
  {
   "cell_type": "code",
   "execution_count": 114,
   "metadata": {},
   "outputs": [],
   "source": [
    "kfold = KFold(n_splits=3, shuffle=True, random_state=7)\n"
   ]
  },
  {
   "cell_type": "code",
   "execution_count": 126,
   "metadata": {},
   "outputs": [
    {
     "name": "stdout",
     "output_type": "stream",
     "text": [
      "outer: (1842,)\n",
      "inner: (1228,)\n",
      "inner: (1228,)\n",
      "inner: (1228,)\n",
      "outer: (1842,)\n",
      "inner: (1228,)\n",
      "inner: (1228,)\n",
      "inner: (1228,)\n",
      "outer: (1842,)\n",
      "inner: (1228,)\n",
      "inner: (1228,)\n",
      "inner: (1228,)\n"
     ]
    }
   ],
   "source": [
    "\n",
    "kf = KFold(n_splits=3)\n",
    "for train, test in kf.split(X_train):\n",
    "    print(f\"outer: {train.shape}\")\n",
    "    kf_inner = kf.split(train)\n",
    "    for train, test in kf_inner:\n",
    "        print(f\"inner: {train.shape}\")"
   ]
  },
  {
   "cell_type": "code",
   "execution_count": null,
   "metadata": {},
   "outputs": [],
   "source": [
    "\n",
    "\n",
    "    # Non_nested parameter search and scoring\n",
    "    clf = GridSearchCV(estimator=lr, param_grid=lr_params, cv=inner_cv,\n",
    "                       iid=False)\n",
    "    \n",
    "    clf.fit(X_train, y_train)\n",
    "    \n",
    "    non_nested_scores[i] = clf.best_score_\n",
    "\n",
    "    # Nested CV with parameter optimization\n",
    "    nested_score = cross_val_score(clf, X=X_train, y=y_train, cv=outer_cv)\n",
    "    nested_scores[i] = nested_score.mean()"
   ]
  },
  {
   "cell_type": "code",
   "execution_count": null,
   "metadata": {},
   "outputs": [],
   "source": [
    "\n",
    "results_params = []\n",
    "names_params = []\n",
    "scoring = 'accuracy'\n",
    "\n",
    "\n",
    "for name, model, params in models_opt:\n",
    "    \n",
    "    kf = KFold(n_splits=3, random_state=42, shuffle=True)\n",
    "    \n",
    "        for train, test in kf.split(X_train):\n",
    "            print(f\"outer: {train.shape}\")\n",
    "            \n",
    "            kf_inner = kf.split(train)\n",
    "            for train, test in kf_inner:\n",
    "                \n",
    "                model_grid = GridSearchCV(model, params)\n",
    "    \n",
    "                cv_results_params = \\\n",
    "                cross_val_score(model_grid,\n",
    "                                train,\n",
    "                                test,\n",
    "                                cv=kf, \n",
    "                                scoring=scoring)\n",
    "        \n",
    "        results_params.append(cv_results_params)\n",
    "    \n",
    "    names_params.append(name)\n"
   ]
  },
  {
   "cell_type": "code",
   "execution_count": 127,
   "metadata": {},
   "outputs": [],
   "source": [
    "# Load required packages\n",
    "from sklearn import datasets\n",
    "from sklearn.model_selection import GridSearchCV, cross_val_score\n",
    "from sklearn.preprocessing import StandardScaler\n",
    "import numpy as np\n",
    "from sklearn.svm import SVC"
   ]
  },
  {
   "cell_type": "code",
   "execution_count": 134,
   "metadata": {},
   "outputs": [
    {
     "name": "stdout",
     "output_type": "stream",
     "text": [
      "2.782559402207126\n",
      "0.9701475912002228\n"
     ]
    }
   ],
   "source": [
    "# Load the data\n",
    "dataset = datasets.load_breast_cancer()\n",
    "\n",
    "# Create X from the features\n",
    "X = dataset.data\n",
    "\n",
    "# Create y from the target\n",
    "y = dataset.target\n",
    "\n",
    "# Create a scaler object\n",
    "sc = StandardScaler()\n",
    "\n",
    "# Fit the scaler to the feature data and transform\n",
    "X_std = sc.fit_transform(X)\n",
    "\n",
    "# Create a list of 10 candidate values for the C parameter\n",
    "C_candidates = dict(C=np.logspace(-4, 4, 10))\n",
    "\n",
    "# Create a gridsearch object with the support vector classifier and the C value candidates\n",
    "clf = GridSearchCV(estimator=SVC(), param_grid=C_candidates)\n",
    "\n",
    "# Fit the cross validated grid search on the data \n",
    "clf.fit(X_std, y)\n",
    "\n",
    "# Show the best value for C\n",
    "print(clf.best_estimator_.C)\n",
    "\n",
    "print(np.mean(cross_val_score(clf, X_std, y)))"
   ]
  },
  {
   "cell_type": "code",
   "execution_count": 147,
   "metadata": {
    "scrolled": true
   },
   "outputs": [
    {
     "name": "stdout",
     "output_type": "stream",
     "text": [
      "Table X. Accuracy of Patient Experience Predictions for each Machine Learning Algorithm After Serial Optimization \n",
      "\n",
      "CV LR accuracy: 0.5570032573289903 SD 0.00938217980225532\n",
      "CV LDA accuracy: 0.5819761129207384 SD 0.003196438967183442\n",
      "CV KNN accuracy: 0.5121245023525154 SD 0.015965794426429814\n",
      "CV RFC accuracy: 0.5367354325009048 SD 0.01402665390884988\n"
     ]
    }
   ],
   "source": [
    "# Serially evaluate models with GridSearchCV using defined\n",
    "# parameters and print performance as accuracies with SDs.\n",
    "\n",
    "print(\"Table X. Accuracy of Patient Experience Predictions \"\\\n",
    "      \"for each Machine Learning Algorithm After Serial Optimization \\n\")\n",
    "\n",
    "results_params = []\n",
    "names_params = []\n",
    "scoring = 'accuracy'\n",
    "\n",
    "for name, model, params in models_opt:\n",
    "    \n",
    "    kfold= KFold(n_splits = 3, random_state=2, shuffle=True)\n",
    "    \n",
    "    model_grid = GridSearchCV(model, params)\n",
    "    \n",
    "    cv_results_params = \\\n",
    "    cross_val_score(model_grid,\n",
    "                    X_train,\n",
    "                    y_train,\n",
    "                    cv=kfold, \n",
    "                    scoring=scoring)\n",
    "    \n",
    "    results_params.append(cv_results_params)\n",
    "    \n",
    "    names_params.append(name)\n",
    "    \n",
    "    msg = f\"CV {name} \" \\\n",
    "    f\"accuracy: {cv_results_params.mean()} SD {cv_results_params.std()}\"    \n",
    "    print(msg) "
   ]
  },
  {
   "cell_type": "markdown",
   "metadata": {},
   "source": [
    "#### Quick Summary of Default Algorithm Performance and Parameter Optimization\n",
    "* It looks like we are able to predict patient experience with about 50% accuracy, which is nearly double the accuracy rate of a blind guess for these roughly evenly distributed classifications.  \n",
    "* Parameter optimization did not make a sizeable difference in performance but did tend to decrease the variance in accuracy. "
   ]
  },
  {
   "cell_type": "markdown",
   "metadata": {},
   "source": [
    "# <center> Dimensional Reduction</center>\n",
    "* <b>Principle component analysis (PCA)</b> is a form a dimensional reduction that can be used to reduce the feature number of a dataset. PCA identifies a given number of 'principle component' (e.g. via eigenevalue decomposition of data covariance) on a dataset.\n",
    "* <b>Linear discriminant analysis (LDA)</b> is conceptually similar to PCA in that it reduces the dimensions of the data. However, LDA finds linear combinations of variables that best explain data while taking into account the differences between data classifications/labels. \n",
    "* <b>Dimensional reduction</b> can improve the performance of certain algorithms that perform poorly when analyzing high dimensional spaces (i.e.'the curse of dimensionality'). This dataset included 85 features (after categorical data was numerized with pandas get_dummies method). Here, I will first visualize data after PCA preprocessing to see how its segregates data according to class and will then test whether PCA improves the predictive accuracy of classifier algorithms. \n",
    "* The following section will evaluate dimensional reduction as a convenient tool to visualize data in a lower dimension and as a method of data preprocessing to improve algorithm performance."
   ]
  },
  {
   "cell_type": "markdown",
   "metadata": {},
   "source": [
    "# <center> Dimensional Reduction with PCA </center>"
   ]
  },
  {
   "cell_type": "code",
   "execution_count": 149,
   "metadata": {},
   "outputs": [],
   "source": [
    "# First, visualize data when reduced to 3 components for 3D visualizpca_3d = PCA(n_components = 3)\n",
    "\n",
    "pca_3d= PCA(n_components = 3)\n",
    "\n",
    "X_train_pca_3d = pca_3d.fit(X_train)\n",
    "X_train_pca_3d = pca_3d.transform(X_train)\n",
    "pca_df = pd.DataFrame(X_train_pca_3d)\n",
    "\n",
    "pca_df['PCA1'] = X_train_pca_3d[:,0]\n",
    "pca_df['PCA2'] = X_train_pca_3d[:,1]\n",
    "pca_df['PCA3'] = X_train_pca_3d[:,2]\n",
    "pca_df['labels'] = y_train.values"
   ]
  },
  {
   "cell_type": "code",
   "execution_count": 150,
   "metadata": {},
   "outputs": [
    {
     "data": {
      "image/png": "[encoded data removed]",
      "text/plain": [
       "<Figure size 432x288 with 1 Axes>"
      ]
     },
     "metadata": {
      "needs_background": "light"
     },
     "output_type": "display_data"
    }
   ],
   "source": [
    "threedee_pca = plt.figure().gca(projection = '3d')\n",
    "threedee_pca.scatter(pca_df['PCA1'], pca_df['PCA2'], pca_df['PCA3'], c = pca_df['labels'], cmap=cm.coolwarm)\n",
    "threedee_pca.set_xlabel('PCA1')\n",
    "threedee_pca.set_ylabel('PCA2')\n",
    "threedee_pca.set_zlabel('PCA3')\n",
    "threedee_pca.set_title('Medicare Data Visualized After Three Component PCA')\n",
    "plt.show()"
   ]
  },
  {
   "cell_type": "markdown",
   "metadata": {},
   "source": [
    "#### Quick Summary of PCA Visualization\n",
    "* When reduced to 3 components with PCA, there is not a clear division between the patient experience labels (indicated in by point color: red, blue, grey). "
   ]
  },
  {
   "cell_type": "code",
   "execution_count": 151,
   "metadata": {},
   "outputs": [
    {
     "data": {
      "image/png": "[encoded data removed]",
      "text/plain": [
       "<Figure size 432x288 with 1 Axes>"
      ]
     },
     "metadata": {
      "needs_background": "light"
     },
     "output_type": "display_data"
    }
   ],
   "source": [
    "# Next, use an elbow curve of explained variance to identify the optimal number of components for machine learning.\n",
    "pca = PCA()\n",
    "\n",
    "pca_elbow = pca.fit(X_train)\n",
    "\n",
    "variance = pca_elbow.explained_variance_[:20]\n",
    "plt.plot(variance, 'bo-', markersize=8)\n",
    "plt.xlabel(\"n_dimension\")\n",
    "plt.ylabel(\"Variance\")\n",
    "plt.title(\"Elbow Curve for PCA Dimension of Medicare Data\")\n",
    "plt.show()"
   ]
  },
  {
   "cell_type": "markdown",
   "metadata": {},
   "source": [
    "#### Quick Summary of PCA Dimensions\n",
    "* It looks like 15 components represents the inflection point of this curve and accounts for the majority of data variance."
   ]
  },
  {
   "cell_type": "code",
   "execution_count": 152,
   "metadata": {},
   "outputs": [],
   "source": [
    "# Instantiate a new PCA model with 20 components.\n",
    "pca_preprocessing = PCA(n_components = 20)"
   ]
  },
  {
   "cell_type": "code",
   "execution_count": 153,
   "metadata": {},
   "outputs": [],
   "source": [
    "# Apply PCA to training and test set (fit on test set).\n",
    "\n",
    "X_train_pca = pca_preprocessing.fit(X_train)\n",
    "X_train_pca = pca_preprocessing.transform(X_train)\n",
    "X_test_pca = pca_preprocessing.transform(X_test)"
   ]
  },
  {
   "cell_type": "code",
   "execution_count": 154,
   "metadata": {},
   "outputs": [],
   "source": [
    "# Make list of models to test with paramter dictionaries on data preprocessed with PCA.  \n",
    "\n",
    "models_pca = []\n",
    "models_pca.append(('LR', LogisticRegression()))\n",
    "models_pca.append(('LDA', LinearDiscriminantAnalysis()))\n",
    "models_pca.append(('KNN', KNeighborsClassifier()))\n",
    "models_pca.append(('DTC', DecisionTreeClassifier()))\n",
    "models_pca.append(('RFC', RandomForestClassifier()))\n",
    "models_pca.append(('SVM', SVC()))\n",
    "#models_opt.append(('NB', MultinomialNB(), NB_mult_params)) "
   ]
  },
  {
   "cell_type": "code",
   "execution_count": 155,
   "metadata": {},
   "outputs": [
    {
     "name": "stdout",
     "output_type": "stream",
     "text": [
      "Table X. Accuracy of Patient Experience Predictions for each Machine Learning Algorithm After PCA Dimensional Reduction \n",
      "\n",
      "CV Accuracy LR: 0.542881 SD 0.018127 - Test Accuracy: 0.531114 RMSE: 0.410275\n",
      "CV Accuracy LDA: 0.545777 SD 0.018907 - Test Accuracy: 0.541245 RMSE: 0.363965\n",
      "CV Accuracy KNN: 0.497645 SD 0.016109 - Test Accuracy: 0.487699 RMSE: 0.414616\n",
      "CV Accuracy DTC: 0.459629 SD 0.018764 - Test Accuracy: 0.444284 RMSE: 0.481910\n",
      "CV Accuracy RFC: 0.493666 SD 0.012418 - Test Accuracy: 0.489146 RMSE: 0.422576\n",
      "CV Accuracy SVM: 0.537457 SD 0.016441 - Test Accuracy: 0.548480 RMSE: 0.358177\n"
     ]
    }
   ],
   "source": [
    "# Create loop to serially evaluate models using kfold and cross validation then print performance accuracy.\n",
    "\n",
    "print(\"Table X. Accuracy of Patient Experience Predictions for each Machine Learning Algorithm After PCA Dimensional Reduction \\n\")\n",
    "\n",
    "results_pca = []\n",
    "names_pca = []\n",
    "scoring = 'accuracy'\n",
    "\n",
    "for name, model in models_pca:\n",
    "    kfold= KFold(n_splits = 5, random_state=2, shuffle=True)\n",
    "    cv_results_pca = cross_val_score(model, X_train_pca, y_train, cv=kfold, scoring=scoring)\n",
    "    results_pca.append(cv_results_pca)\n",
    "    names_pca.append(name)\n",
    "    mod = model\n",
    "    mod.fit(X_train_pca, y_train)\n",
    "    mod_pred = mod.predict(X_test_pca)\n",
    "    mod_accuracy = accuracy_score(mod_pred, y_test)\n",
    "    mod_rmse = (mse(mod_pred, y_test)**1/2)\n",
    "    msg = \"CV Accuracy %s: %f SD %f - Test Accuracy: %f RMSE: %f\" % (name, cv_results_pca.mean(), cv_results_pca.std(),mod_accuracy, mod_rmse)\n",
    "    print(msg) "
   ]
  },
  {
   "cell_type": "code",
   "execution_count": 157,
   "metadata": {},
   "outputs": [
    {
     "ename": "NameError",
     "evalue": "name 'DTC_params' is not defined",
     "output_type": "error",
     "traceback": [
      "\u001b[0;31m---------------------------------------------------------------------------\u001b[0m",
      "\u001b[0;31mNameError\u001b[0m                                 Traceback (most recent call last)",
      "\u001b[0;32m<ipython-input-157-2d819e545e98>\u001b[0m in \u001b[0;36m<module>\u001b[0;34m\u001b[0m\n\u001b[1;32m      5\u001b[0m \u001b[0mmodels_opt_pca\u001b[0m\u001b[0;34m.\u001b[0m\u001b[0mappend\u001b[0m\u001b[0;34m(\u001b[0m\u001b[0;34m(\u001b[0m\u001b[0;34m'LDA'\u001b[0m\u001b[0;34m,\u001b[0m \u001b[0mLinearDiscriminantAnalysis\u001b[0m\u001b[0;34m(\u001b[0m\u001b[0;34m)\u001b[0m\u001b[0;34m,\u001b[0m \u001b[0mLDA_params\u001b[0m\u001b[0;34m)\u001b[0m\u001b[0;34m)\u001b[0m\u001b[0;34m\u001b[0m\u001b[0;34m\u001b[0m\u001b[0m\n\u001b[1;32m      6\u001b[0m \u001b[0mmodels_opt_pca\u001b[0m\u001b[0;34m.\u001b[0m\u001b[0mappend\u001b[0m\u001b[0;34m(\u001b[0m\u001b[0;34m(\u001b[0m\u001b[0;34m'KNN'\u001b[0m\u001b[0;34m,\u001b[0m \u001b[0mKNeighborsClassifier\u001b[0m\u001b[0;34m(\u001b[0m\u001b[0;34m)\u001b[0m\u001b[0;34m,\u001b[0m\u001b[0mKNN_params\u001b[0m\u001b[0;34m)\u001b[0m\u001b[0;34m)\u001b[0m\u001b[0;34m\u001b[0m\u001b[0;34m\u001b[0m\u001b[0m\n\u001b[0;32m----> 7\u001b[0;31m \u001b[0mmodels_opt_pca\u001b[0m\u001b[0;34m.\u001b[0m\u001b[0mappend\u001b[0m\u001b[0;34m(\u001b[0m\u001b[0;34m(\u001b[0m\u001b[0;34m'DTC'\u001b[0m\u001b[0;34m,\u001b[0m \u001b[0mDecisionTreeClassifier\u001b[0m\u001b[0;34m(\u001b[0m\u001b[0;34m)\u001b[0m\u001b[0;34m,\u001b[0m \u001b[0mDTC_params\u001b[0m\u001b[0;34m)\u001b[0m\u001b[0;34m)\u001b[0m\u001b[0;34m\u001b[0m\u001b[0;34m\u001b[0m\u001b[0m\n\u001b[0m\u001b[1;32m      8\u001b[0m \u001b[0mmodels_opt_pca\u001b[0m\u001b[0;34m.\u001b[0m\u001b[0mappend\u001b[0m\u001b[0;34m(\u001b[0m\u001b[0;34m(\u001b[0m\u001b[0;34m'RFC'\u001b[0m\u001b[0;34m,\u001b[0m \u001b[0mRandomForestClassifier\u001b[0m\u001b[0;34m(\u001b[0m\u001b[0;34m)\u001b[0m\u001b[0;34m,\u001b[0m \u001b[0mRF_params\u001b[0m\u001b[0;34m)\u001b[0m\u001b[0;34m)\u001b[0m\u001b[0;34m\u001b[0m\u001b[0;34m\u001b[0m\u001b[0m\n\u001b[1;32m      9\u001b[0m \u001b[0mmodels_opt_pca\u001b[0m\u001b[0;34m.\u001b[0m\u001b[0mappend\u001b[0m\u001b[0;34m(\u001b[0m\u001b[0;34m(\u001b[0m\u001b[0;34m'SVM'\u001b[0m\u001b[0;34m,\u001b[0m \u001b[0mSVC\u001b[0m\u001b[0;34m(\u001b[0m\u001b[0;34m)\u001b[0m\u001b[0;34m,\u001b[0m \u001b[0mSVM_params\u001b[0m\u001b[0;34m)\u001b[0m\u001b[0;34m)\u001b[0m\u001b[0;34m\u001b[0m\u001b[0;34m\u001b[0m\u001b[0m\n",
      "\u001b[0;31mNameError\u001b[0m: name 'DTC_params' is not defined"
     ]
    }
   ],
   "source": [
    "# Make list of models to test with paramter dictionaries on data preprocessed with PCA.  \n",
    "\n",
    "models_opt_pca = []\n",
    "models_opt_pca.append(('LR', LogisticRegression(), LR_params))\n",
    "models_opt_pca.append(('LDA', LinearDiscriminantAnalysis(), LDA_params))\n",
    "models_opt_pca.append(('KNN', KNeighborsClassifier(),KNN_params))\n",
    "models_opt_pca.append(('DTC', DecisionTreeClassifier(), DTC_params))\n",
    "models_opt_pca.append(('RFC', RandomForestClassifier(), RF_params))\n",
    "models_opt_pca.append(('SVM', SVC(), SVM_params))\n",
    "#models_opt.append(('NB', MultinomialNB(), NB_mult_params)) "
   ]
  },
  {
   "cell_type": "code",
   "execution_count": 158,
   "metadata": {},
   "outputs": [
    {
     "name": "stdout",
     "output_type": "stream",
     "text": [
      "Table X. Accuracy of Patient Experience Predictions for each Machine Learning Algorithm After Both Parameter Optimizaiton and PCA Dimensional Reduction \n",
      "\n",
      "CV Accuracy LR: 0.545777 (0.016946)\n",
      "CV Accuracy LDA: 0.545777 (0.018907)\n",
      "CV Accuracy KNN: 0.515381 (0.033443)\n"
     ]
    }
   ],
   "source": [
    "# Serially evaluate models with GridSearchCV using defined parameters and print performance as accuracies with SDs.\n",
    "\n",
    "print(\"Table X. Accuracy of Patient Experience Predictions for each Machine Learning Algorithm After Both Parameter Optimizaiton and PCA Dimensional Reduction \\n\")\n",
    "\n",
    "results_params_pca = []\n",
    "names_params_pca = []\n",
    "scoring = 'accuracy'\n",
    "\n",
    "for name, model, params in models_opt_pca:\n",
    "    kfold= KFold(n_splits = 5, random_state=2, shuffle=True)\n",
    "    model_grid = GridSearchCV(model, params)\n",
    "    cv_results_params_pca = cross_val_score(model_grid,\n",
    "                                            X_train_pca,\n",
    "                                            y_train,\n",
    "                                            cv=kfold,\n",
    "                                            scoring=scoring)\n",
    "    results_params_pca.append(cv_results_params_pca)\n",
    "    names_params_pca.append(name)\n",
    "    msg = \"CV Accuracy %s: %f (%f)\" % (name, cv_results_params_pca.mean(), cv_results_params_pca.std())\n",
    "    print(msg)"
   ]
  },
  {
   "cell_type": "markdown",
   "metadata": {},
   "source": [
    "#### Quick Summary of Default Algorithm Performance and Parameter Optimization After PCA\n",
    "* It looks like PCA reduced accuracy of all of our models and so will not be pursued further in this analysis."
   ]
  },
  {
   "cell_type": "markdown",
   "metadata": {},
   "source": [
    "# <center> Dimension Reduction with LDA </center>"
   ]
  },
  {
   "cell_type": "code",
   "execution_count": 159,
   "metadata": {},
   "outputs": [
    {
     "data": {
      "text/html": [
       "<div>\n",
       "<style scoped>\n",
       "    .dataframe tbody tr th:only-of-type {\n",
       "        vertical-align: middle;\n",
       "    }\n",
       "\n",
       "    .dataframe tbody tr th {\n",
       "        vertical-align: top;\n",
       "    }\n",
       "\n",
       "    .dataframe thead th {\n",
       "        text-align: right;\n",
       "    }\n",
       "</style>\n",
       "<table border=\"1\" class=\"dataframe\">\n",
       "  <thead>\n",
       "    <tr style=\"text-align: right;\">\n",
       "      <th></th>\n",
       "      <th>LDA1</th>\n",
       "      <th>LDA2</th>\n",
       "    </tr>\n",
       "  </thead>\n",
       "  <tbody>\n",
       "    <tr>\n",
       "      <th>0</th>\n",
       "      <td>6.77e-03</td>\n",
       "      <td>-1.04</td>\n",
       "    </tr>\n",
       "    <tr>\n",
       "      <th>1</th>\n",
       "      <td>1.19e+00</td>\n",
       "      <td>1.07</td>\n",
       "    </tr>\n",
       "    <tr>\n",
       "      <th>2</th>\n",
       "      <td>1.48e+00</td>\n",
       "      <td>-0.11</td>\n",
       "    </tr>\n",
       "    <tr>\n",
       "      <th>3</th>\n",
       "      <td>-4.45e+00</td>\n",
       "      <td>1.79</td>\n",
       "    </tr>\n",
       "    <tr>\n",
       "      <th>4</th>\n",
       "      <td>-1.10e+00</td>\n",
       "      <td>-1.11</td>\n",
       "    </tr>\n",
       "  </tbody>\n",
       "</table>\n",
       "</div>"
      ],
      "text/plain": [
       "       LDA1  LDA2\n",
       "0  6.77e-03 -1.04\n",
       "1  1.19e+00  1.07\n",
       "2  1.48e+00 -0.11\n",
       "3 -4.45e+00  1.79\n",
       "4 -1.10e+00 -1.11"
      ]
     },
     "execution_count": 159,
     "metadata": {},
     "output_type": "execute_result"
    }
   ],
   "source": [
    "# First, let's use LDA to reduce the dimensions of Medicare data and inspect this visually.\n",
    "\n",
    "lda_2 = LinearDiscriminantAnalysis()\n",
    "\n",
    "lda_df = lda_2.fit_transform(X_train, y_train)\n",
    "lda_df = pd.DataFrame(lda_df, columns = ['LDA1','LDA2'] )\n",
    "lda_df.head()"
   ]
  },
  {
   "cell_type": "code",
   "execution_count": 160,
   "metadata": {},
   "outputs": [],
   "source": [
    "\n",
    "# Append data frame with target data \n",
    "labels_train = y_train.copy()\n",
    "labels_train = pd.DataFrame(labels_train)\n",
    "labels_train.set_index(np.arange(0,2763,1))\n",
    "lda_df['Patient Satifaction'] = labels_train['patient_experience_national_comparison'].values"
   ]
  },
  {
   "cell_type": "code",
   "execution_count": 161,
   "metadata": {
    "scrolled": false
   },
   "outputs": [
    {
     "name": "stdout",
     "output_type": "stream",
     "text": [
      "Figure 8. Visualizing Medicare Date with LDA\n"
     ]
    },
    {
     "data": {
      "image/png": "[encoded data removed]",
      "text/plain": [
       "<Figure size 459.875x360 with 1 Axes>"
      ]
     },
     "metadata": {
      "needs_background": "light"
     },
     "output_type": "display_data"
    }
   ],
   "source": [
    "# Plot LDA data \n",
    "\n",
    "sns.lmplot(\"LDA1\", \"LDA2\", data=lda_df, hue='Patient Satifaction', fit_reg=False)\n",
    "plt.margins(.1)\n",
    "\n",
    "print('Figure 8. Visualizing Medicare Date with LDA')\n",
    "plt.savefig('Fig8.png', dpi=300)\n",
    "sns.set_style(\"whitegrid\")\n",
    "plt.show()"
   ]
  },
  {
   "cell_type": "markdown",
   "metadata": {},
   "source": [
    "#### Quick Summary of LDA Visualization\n",
    "* It's fairly clear that LDA attempted to linearize data along three classification vectors (seen in blue, green, and red). However, there is substantial overlap between these three classes, which may make predicting patient experience with data clustered toward the center of this plot difficult."
   ]
  },
  {
   "cell_type": "markdown",
   "metadata": {},
   "source": [
    "#### Test Machine Learning with Cross Validation After LDA Dimensional Reduction"
   ]
  },
  {
   "cell_type": "code",
   "execution_count": 162,
   "metadata": {},
   "outputs": [],
   "source": [
    "# Use LDA to reduce dimensions of data set.\n",
    "\n",
    "lda_prep = LinearDiscriminantAnalysis()\n",
    "\n",
    "X_train_lda = X_train.copy()\n",
    "X_test_lda = X_test.copy()\n",
    "\n",
    "lda_prep.fit(X_train_lda, y_train)\n",
    "X_train_lda = lda_prep.transform(X_train_lda)\n",
    "X_test_lda = lda_prep.transform(X_test_lda)"
   ]
  },
  {
   "cell_type": "code",
   "execution_count": 163,
   "metadata": {},
   "outputs": [],
   "source": [
    "# Make list of models to test with paramter dictionaries on data preprocessed with LDA.  \n",
    "\n",
    "models_lda = []\n",
    "models_lda.append(('LR', LogisticRegression()))\n",
    "models_lda.append(('LDA', LinearDiscriminantAnalysis()))\n",
    "models_lda.append(('KNN', KNeighborsClassifier()))\n",
    "models_lda.append(('DTC', DecisionTreeClassifier()))\n",
    "models_lda.append(('RFC', RandomForestClassifier()))\n",
    "models_lda.append(('SVM', SVC()))\n",
    "#models_opt.append(('NB', MultinomialNB(), NB_mult_params)) "
   ]
  },
  {
   "cell_type": "code",
   "execution_count": 164,
   "metadata": {},
   "outputs": [
    {
     "name": "stdout",
     "output_type": "stream",
     "text": [
      "Table X. Accuracy of Patient Experience Predictions for each Machine Learning Algorithm After LDA Dimensional Reduction \n",
      "\n",
      "CV Accuracy LR: 0.622877 SD 0.010639 - Test Accuracy: 0.554269 RMSE: 0.353111\n",
      "CV Accuracy LDA: 0.619975 SD 0.011770 - Test Accuracy: 0.562952 RMSE: 0.327062\n",
      "CV Accuracy KNN: 0.582319 SD 0.023416 - Test Accuracy: 0.536903 RMSE: 0.350941\n",
      "CV Accuracy DTC: 0.514274 SD 0.030858 - Test Accuracy: 0.487699 RMSE: 0.392909\n",
      "CV Accuracy RFC: 0.563856 SD 0.030519 - Test Accuracy: 0.515195 RMSE: 0.385673\n",
      "CV Accuracy SVM: 0.624323 SD 0.012732 - Test Accuracy: 0.560058 RMSE: 0.335022\n"
     ]
    }
   ],
   "source": [
    "# Create loop to serially evaluate models using kfold and cross validation then print performance accuracy.\n",
    "\n",
    "print(\"Table X. Accuracy of Patient Experience Predictions for each Machine Learning Algorithm After LDA Dimensional Reduction \\n\")\n",
    "\n",
    "results_lda = []\n",
    "names_lda = []\n",
    "scoring = 'accuracy'\n",
    "\n",
    "for name, model in models_lda:\n",
    "    kfold= KFold(n_splits = 5, random_state=2, shuffle=True)\n",
    "    cv_results_lda = cross_val_score(model, X_train_lda, y_train, cv=kfold, scoring=scoring)\n",
    "    results_lda.append(cv_results_lda)\n",
    "    names_lda.append(name)\n",
    "    mod = model\n",
    "    mod.fit(X_train_lda, y_train)\n",
    "    mod_pred = mod.predict(X_test_lda)\n",
    "    mod_accuracy = accuracy_score(mod_pred, y_test)\n",
    "    mod_rmse = (mse(mod_pred, y_test)**1/2)\n",
    "    msg = \"CV Accuracy %s: %f SD %f - Test Accuracy: %f RMSE: %f\" % (name, cv_results_lda.mean(), cv_results_lda.std(),mod_accuracy, mod_rmse)\n",
    "    print(msg) "
   ]
  },
  {
   "cell_type": "markdown",
   "metadata": {},
   "source": [
    "#### Parameter Optimization and Cross Validation After LDA Dimensional Reduction"
   ]
  },
  {
   "cell_type": "code",
   "execution_count": 166,
   "metadata": {},
   "outputs": [],
   "source": [
    "# Make list of models to test with paramter dictionaries on data preprocessed with LDA.  \n",
    "\n",
    "models_opt_lda = []\n",
    "models_opt_lda.append(('LR', LogisticRegression(), LR_params))\n",
    "models_opt_lda.append(('LDA', LinearDiscriminantAnalysis(), LDA_params))\n",
    "models_opt_lda.append(('KNN', KNeighborsClassifier(),KNN_params))\n",
    "# models_opt_lda.append(('DTC', DecisionTreeClassifier(), DTC_params))\n",
    "models_opt_lda.append(('RFC', RandomForestClassifier(), RF_params))\n",
    "# models_opt_lda.append(('SVM', SVC(), SVM_params))\n",
    "#models_opt.append(('NB', MultinomialNB(), NB_mult_params)) "
   ]
  },
  {
   "cell_type": "code",
   "execution_count": 167,
   "metadata": {
    "scrolled": true
   },
   "outputs": [
    {
     "name": "stdout",
     "output_type": "stream",
     "text": [
      "Table X. Accuracy of Patient Experience Predictions for each Machine Learning Algorithm After Both Parameter Optimizaiton and LDA Dimensional Reduction \n",
      "\n",
      "CV Accuracy LR: 0.622516 (0.010381)\n",
      "CV Accuracy LDA: 0.619975 (0.011770)\n",
      "CV Accuracy KNN: 0.609476 (0.013003)\n",
      "CV Accuracy RFC: 0.563503 (0.019675)\n"
     ]
    }
   ],
   "source": [
    "# Serially evaluate models with GridSearchCV using defined parameters and print performance as accuracies with SDs.\n",
    "\n",
    "print(\"Table X. Accuracy of Patient Experience Predictions for each Machine Learning Algorithm After Both Parameter Optimizaiton and LDA Dimensional Reduction \\n\")\n",
    "\n",
    "results_params_lda = []\n",
    "names_params_lda = []\n",
    "scoring = 'accuracy'\n",
    "\n",
    "for name, model, params in models_opt_lda:\n",
    "    kfold= KFold(n_splits = 5, random_state=2, shuffle=True)\n",
    "    model_grid = GridSearchCV(model, params)\n",
    "    cv_results_params_lda = cross_val_score(model_grid, X_train_lda, y_train, cv=kfold, scoring=scoring)\n",
    "    results_params_lda.append(cv_results_params_lda)\n",
    "    names_params_lda.append(name)\n",
    "    msg = \"CV Accuracy %s: %f (%f)\" % (name, cv_results_params_lda.mean(), cv_results_params_lda.std())\n",
    "    print(msg)"
   ]
  },
  {
   "cell_type": "markdown",
   "metadata": {},
   "source": [
    "#### Quick Summary of Default Algorithm Performance and Parameter Optimization After LDA\n",
    "* It looks like LDA improved model accuracy by about 5% during cross validation, which is a nice improvement. However, it looks like LDA led to overfittings since the improved accuracy was not sustained when evaluated on test data."
   ]
  },
  {
   "cell_type": "markdown",
   "metadata": {},
   "source": [
    "# <center> Boosting and Bagging Approaches </center>"
   ]
  },
  {
   "cell_type": "markdown",
   "metadata": {},
   "source": [
    "#### Ensemble Modeling to Predict Patient Experience: Boosting and Bagging Methods\n",
    "* Boosting is an ensemble machine learning approaches that can combine multiple \"weak\" learners to improve performance.\n",
    "* Bagging (bootstrap aggregation) is an ensemble machine learning approaches that can combine uses boostraping/resampling to improve performance."
   ]
  },
  {
   "cell_type": "code",
   "execution_count": 168,
   "metadata": {},
   "outputs": [
    {
     "name": "stdout",
     "output_type": "stream",
     "text": [
      "Table X. Accuracy of Patient Experience Predictions using Ensemble Learning \n",
      "\n",
      "AB: 0.568221 (0.012319)\n",
      "GBM: 0.568579 (0.019650)\n",
      "RF: 0.491119 (0.017512)\n",
      "ET: 0.527687 (0.009784)\n"
     ]
    }
   ],
   "source": [
    "\n",
    "print(\"Table X. Accuracy of Patient Experience Predictions using Ensemble Learning \\n\")\n",
    "\n",
    "ensembles = []\n",
    "ensembles.append(('AB', AdaBoostClassifier()))\n",
    "ensembles.append(('GBM', GradientBoostingClassifier()))\n",
    "ensembles.append(('RF', RandomForestClassifier()))\n",
    "ensembles.append(('ET', ExtraTreesClassifier()))\n",
    "\n",
    "results_ensembles = []\n",
    "names_ensembles = []\n",
    "for name, model in ensembles:\n",
    "  kfold = KFold(n_splits = 5, random_state=2, shuffle=True)\n",
    "  cv_results_ensembles = cross_val_score(model, X_train, y_train, cv=kfold, scoring=scoring)\n",
    "  results_ensembles.append(cv_results_ensembles)\n",
    "  names_ensembles.append(name)\n",
    "  msg = \"%s: %f (%f)\" % (name, cv_results_ensembles.mean(), cv_results_ensembles.std())\n",
    "  print(msg)"
   ]
  },
  {
   "cell_type": "code",
   "execution_count": 169,
   "metadata": {
    "scrolled": true
   },
   "outputs": [
    {
     "name": "stdout",
     "output_type": "stream",
     "text": [
      "0.5660442382786907\n"
     ]
    }
   ],
   "source": [
    "# Ensemble Voting\n",
    "\n",
    "from sklearn.ensemble import VotingClassifier\n",
    "\n",
    "kfold= KFold(n_splits = 5, random_state=2, shuffle=True)\n",
    "\n",
    "estimators = []\n",
    "\n",
    "model1 = LogisticRegression()\n",
    "estimators.append((\"logistic\", model1))\n",
    "model2 = DecisionTreeClassifier()\n",
    "estimators.append((\"cart\", model2))\n",
    "model3 = SVC()\n",
    "estimators.append((\"svm\", model3))\n",
    "model4 = KNeighborsClassifier()\n",
    "estimators.append((\"KNN\", model4))\n",
    "model5 = RandomForestClassifier()\n",
    "estimators.append((\"RFC\", model5))\n",
    "model6 = MultinomialNB()\n",
    "estimators.append((\"NB\", model6))\n",
    "model7 = LinearDiscriminantAnalysis()\n",
    "estimators.append((\"LDA\", model7))\n",
    "\n",
    "voting = VotingClassifier(estimators)\n",
    "results_voting = cross_val_score(voting, X_train, y_train, cv=kfold)\n",
    "\n",
    "results_ensembles.append(results_voting)\n",
    "names_ensembles.append('Voting')\n",
    "\n",
    "print(results_voting.mean())"
   ]
  },
  {
   "cell_type": "markdown",
   "metadata": {},
   "source": [
    "#### Quick Summary of Ensemble Learning\n",
    "* It looks like ensemble learning performed fairly well with an accuracy of ~51% in predicting patient experience using both adaboost and grandient boosting. "
   ]
  },
  {
   "cell_type": "markdown",
   "metadata": {},
   "source": [
    "#### Next, let's visually compare the cross validation results of the different algorithms and techniques:\n",
    "* Default Parameters\n",
    "* Paramater Optimization \n",
    "* Default Parameters with LDA Dimensional Reduction\n",
    "* Default Parameters with LDA Dimensional Reduction\n",
    "* Ensemble"
   ]
  },
  {
   "cell_type": "markdown",
   "metadata": {},
   "source": [
    "# <center>Cross Validation Model Comparisons </center>"
   ]
  },
  {
   "cell_type": "code",
   "execution_count": 170,
   "metadata": {},
   "outputs": [
    {
     "name": "stdout",
     "output_type": "stream",
     "text": [
      "Figure 7. Predictive Modeling of Patient Experience during Cross Validation\n"
     ]
    },
    {
     "data": {
      "image/png": "[encoded data removed]",
      "text/plain": [
       "<Figure size 432x288 with 4 Axes>"
      ]
     },
     "metadata": {},
     "output_type": "display_data"
    }
   ],
   "source": [
    "# Visualize model peformances before and after paramater optomization and LDA preprocessing.\n",
    "\n",
    "fig = plt.figure()\n",
    "\n",
    "# ax1 = fig.add_subplot(1,5,1)\n",
    "# ax1.boxplot(results)\n",
    "# ax1.set_ylim([.35,.65])\n",
    "# ax1.set_title('Default')\n",
    "# ax1.set_ylabel('Accuracy')\n",
    "# ax1.set_xticklabels(names)\n",
    "# plt.xticks(rotation = 90)\n",
    "\n",
    "ax2 = fig.add_subplot(1,5,2)\n",
    "ax2.boxplot(results_params)\n",
    "ax2.set_ylim([0.3,.65])\n",
    "ax2.set_title('Optomized ')\n",
    "ax2.set_xticklabels(names_params)\n",
    "plt.xticks(rotation = 90)\n",
    "\n",
    "ax3 = fig.add_subplot(1,5,3)\n",
    "ax3.boxplot(results_lda)\n",
    "ax3.set_ylim([.25,.65])\n",
    "ax3.set_xticklabels(names_lda)\n",
    "ax3.set_title('Default + LDA')\n",
    "plt.xticks(rotation = 90)\n",
    "\n",
    "ax4 = fig.add_subplot(1,5,4)\n",
    "ax4.boxplot(results_params_lda)\n",
    "ax4.set_ylim([0.25,.65])\n",
    "ax4.set_title('Optomized + LDA')\n",
    "ax4.set_xticklabels(names_params_lda)\n",
    "plt.xticks(rotation = 90)\n",
    "sns.set_style(\"whitegrid\")\n",
    "\n",
    "ax5 = fig.add_subplot(1,5,5)\n",
    "ax5.boxplot(results_ensembles)\n",
    "ax5.set_ylim([0.25,.65])\n",
    "ax5.set_title('Ensemble')\n",
    "ax5.set_xticklabels(names_ensembles)\n",
    "plt.xticks(rotation = 90)\n",
    "sns.set_style(\"whitegrid\")\n",
    "#plt.yticks(\"\")\n",
    "\n",
    "print('Figure 7. Predictive Modeling of Patient Experience during Cross Validation')\n",
    "plt.savefig('Fig9.png', dpi=300)\n",
    "plt.show()"
   ]
  },
  {
   "cell_type": "code",
   "execution_count": 55,
   "metadata": {},
   "outputs": [
    {
     "name": "stdout",
     "output_type": "stream",
     "text": [
      "Figure 7. Predictive Modeling of Patient Experience during Cross Validation\n"
     ]
    },
    {
     "data": {
      "image/png": "[encoded data removed]",
      "text/plain": [
       "<matplotlib.figure.Figure at 0x123569390>"
      ]
     },
     "metadata": {},
     "output_type": "display_data"
    }
   ],
   "source": [
    "# Visualize model peformances before and after paramater optomization and LDA preprocessing.\n",
    "\n",
    "fig = plt.figure()\n",
    "\n",
    "ax1 = fig.add_subplot(1,5,1)\n",
    "ax1.boxplot(results)\n",
    "ax1.set_ylim([.35,.65])\n",
    "ax1.set_title('Default')\n",
    "ax1.set_ylabel('Accuracy')\n",
    "ax1.set_xticklabels(names)\n",
    "plt.xticks(rotation = 90)\n",
    "\n",
    "ax2 = fig.add_subplot(1,5,2)\n",
    "ax2.boxplot(results_params)\n",
    "ax2.set_ylim([0.35,.65])\n",
    "ax2.set_title('Optomized ')\n",
    "ax2.set_xticklabels(names_params)\n",
    "plt.xticks(rotation = 90)\n",
    "\n",
    "ax3 = fig.add_subplot(1,5,3)\n",
    "ax3.boxplot(results_lda)\n",
    "ax3.set_ylim([.35,.65])\n",
    "ax3.set_xticklabels(names_lda)\n",
    "ax3.set_title('Default + LDA')\n",
    "plt.xticks(rotation = 90)\n",
    "\n",
    "ax4 = fig.add_subplot(1,5,4)\n",
    "ax4.boxplot(results_params_lda)\n",
    "ax4.set_ylim([0.35,.65])\n",
    "ax4.set_title('Optomized + LDA')\n",
    "ax4.set_xticklabels(names_params_lda)\n",
    "plt.xticks(rotation = 90)\n",
    "sns.set_style(\"whitegrid\")\n",
    "\n",
    "ax5 = fig.add_subplot(1,5,5)\n",
    "ax5.boxplot(results_ensembles)\n",
    "ax5.set_ylim([0.35,.65])\n",
    "ax5.set_title('Ensemble')\n",
    "ax5.set_xticklabels(names_ensembles)\n",
    "plt.xticks(rotation = 90)\n",
    "sns.set_style(\"whitegrid\")\n",
    "#plt.yticks(\"\")\n",
    "\n",
    "print('Figure 7. Predictive Modeling of Patient Experience during Cross Validation')\n",
    "plt.savefig('Fig9.png', dpi=300)\n",
    "plt.show()"
   ]
  },
  {
   "cell_type": "markdown",
   "metadata": {},
   "source": [
    "#### Quick Summary of Visual Comparisons for Model Optimization\n",
    "* Parameter optimization does not appear to drastically alter model accuracy after LDA preprocesing.\n",
    "* LDA improved predictive accuracy during cross validation.  Again, optimization did not sizeably improve accuracy on LDA data but did reduce variance for seveal algorithms."
   ]
  },
  {
   "cell_type": "markdown",
   "metadata": {},
   "source": [
    "# <center> Test Set Validation </center>"
   ]
  },
  {
   "cell_type": "code",
   "execution_count": 171,
   "metadata": {},
   "outputs": [
    {
     "name": "stdout",
     "output_type": "stream",
     "text": [
      "Table X. Logistic Regression Accuracy of Patient Experience Predictions \n",
      "\n",
      "Logistic Regression Accuracy: 0.557163531114327\n",
      "\n",
      "Confusion Matrix\n",
      "          Predicted 0  Predicted 1  Predicted 2\n",
      "Actual 0          153           39           30\n",
      "Actual 1           61           87           84\n",
      "Actual 2           33           59          145\n",
      "\n",
      "\n",
      "Classification Report\n",
      "              precision    recall  f1-score   support\n",
      "\n",
      "         1.0       0.62      0.69      0.65       222\n",
      "         2.0       0.47      0.38      0.42       232\n",
      "         3.0       0.56      0.61      0.58       237\n",
      "\n",
      "   micro avg       0.56      0.56      0.56       691\n",
      "   macro avg       0.55      0.56      0.55       691\n",
      "weighted avg       0.55      0.56      0.55       691\n",
      "\n",
      "Best parameters: {'C': 10} \n"
     ]
    }
   ],
   "source": [
    "# Let's now fit a newly instantiated LR using the full training data and test its perfomance on the test data.\n",
    "\n",
    "print(\"Table X. Logistic Regression Accuracy of Patient Experience Predictions \\n\")\n",
    "\n",
    "lr_grid = LogisticRegression()\n",
    "lr_grid = GridSearchCV(lr_grid, LR_params)\n",
    "lr_grid.fit(X_train, y_train)\n",
    "lr_grid_predicted = lr_grid.predict(X_test)\n",
    "                        \n",
    "print('Logistic Regression Accuracy: ' + str(accuracy_score(y_test, lr_grid_predicted)) + '\\n')\n",
    "confusion_matrix_lr = pd.DataFrame(confusion_matrix(y_test, lr_grid_predicted), index = ['Actual 0','Actual 1', 'Actual 2'], columns = ['Predicted 0','Predicted 1', 'Predicted 2'] )\n",
    "print('Confusion Matrix')\n",
    "print( confusion_matrix_lr)\n",
    "print ('\\n')\n",
    "print('Classification Report')\n",
    "print(classification_report(y_test, lr_grid_predicted))\n",
    "print('Best parameters: %s ' % lr_grid.best_params_)"
   ]
  },
  {
   "cell_type": "code",
   "execution_count": 172,
   "metadata": {},
   "outputs": [
    {
     "name": "stdout",
     "output_type": "stream",
     "text": [
      "Table X. Logistic Regression Accuracy of Patient Experience Predictions After LDA \n",
      "\n",
      "Logistic Regression Accuracy: 0.5513748191027497\n",
      "\n",
      "Confusion Matrix\n",
      "          Predicted 0  Predicted 1  Predicted 2\n",
      "Actual 0          151           40           31\n",
      "Actual 1           66           85           81\n",
      "Actual 2           30           62          145\n",
      "\n",
      "\n",
      "Classification Report\n",
      "              precision    recall  f1-score   support\n",
      "\n",
      "         1.0       0.61      0.68      0.64       222\n",
      "         2.0       0.45      0.37      0.41       232\n",
      "         3.0       0.56      0.61      0.59       237\n",
      "\n",
      "   micro avg       0.55      0.55      0.55       691\n",
      "   macro avg       0.54      0.55      0.55       691\n",
      "weighted avg       0.54      0.55      0.54       691\n",
      "\n",
      "Best parameters: {'C': 0.1} \n"
     ]
    }
   ],
   "source": [
    "# Let's now fit a newly instantiated LR using the full training data and test its perfomance on the test data.\n",
    "\n",
    "lr_grid = LogisticRegression()\n",
    "lr_grid = GridSearchCV(lr_grid, LR_params)\n",
    "lr_grid.fit(X_train_lda, y_train)\n",
    "lr_grid_predicted = lr_grid.predict(X_test_lda)\n",
    "\n",
    "print(\"Table X. Logistic Regression Accuracy of Patient Experience Predictions After LDA \\n\")\n",
    "\n",
    "print('Logistic Regression Accuracy: ' + str(accuracy_score(y_test, lr_grid_predicted)) + '\\n')\n",
    "confusion_matrix_lr = pd.DataFrame(confusion_matrix(y_test, lr_grid_predicted), index = ['Actual 0','Actual 1', 'Actual 2'], columns = ['Predicted 0','Predicted 1', 'Predicted 2'] )\n",
    "print('Confusion Matrix')\n",
    "print( confusion_matrix_lr)\n",
    "print ('\\n')\n",
    "print('Classification Report')\n",
    "print(classification_report(y_test, lr_grid_predicted))\n",
    "print('Best parameters: %s ' % lr_grid.best_params_)"
   ]
  },
  {
   "cell_type": "markdown",
   "metadata": {},
   "source": [
    "#### Quick Summary of Logistic Regression Performance\n",
    "* Logistic regression is about 52% accuracy in predicting patient hospital experience both with and without dimensional reduction via LDA.\n",
    "* Logistic regression demonstrates greatest precision (~61%) when predicting <i>\"Below National Average Patient Experience.\"</i>\n",
    "<br><b>Precision: </b><i>True Positives / (True Positives + False Positives)</i><br>\n",
    "* Logistic regression demonstrates greatest recall (~74%) when predicting <i>\"Below National Average Patient Experience.\" </i>\n",
    "<br><b>Recall: </b><i>True Positives / (True Positives + False Negatives)</i>"
   ]
  },
  {
   "cell_type": "markdown",
   "metadata": {},
   "source": [
    "#### Overview Summary of Machine Learning Predictions of Patient Experience\n",
    "* Unoptomized models peaked at around 51-53% accuracy in predicting patient hospital experience. \n",
    "* Parametere optomization slightly improved the predictive accuracy of these models but largely reduced the variance (likely by making them more biased). \n",
    "* Dimensional reduction using LDA improved model performance during cross validation (peaking near 58% accuracy), however, this improvement was likely due to a tendency for overfitting since this uptick in accuracy did not translate to the test set.\n",
    "* Since logistic regression was among the best performing models, it was retrained using the entire training set. Under these circumstanced, it performed with about 53% accuracy during testing. This was true for both unaltered and dimensionally reduced (LDA) data.\n",
    "<br><br>\n",
    "* <b>Based on these finding</b>, logistic regression may be a suitable model to predict patience experience with this Medicare data as input but peaks at near 53% accuracy. Other linear models, such as LDA (for classification) and SVM (using a linear kernal) may also be suitable and performed comparably to logistic regression. Finally, dimensional reduction with LDA offers only a negligable improvement in model accuracy, but likely improves model speed and so can be considered a useful technique to include when predicting patient hospital experience. "
   ]
  },
  {
   "cell_type": "markdown",
   "metadata": {},
   "source": [
    "# <center> Model Efficacy with Threshold Evaluation </center>"
   ]
  },
  {
   "cell_type": "markdown",
   "metadata": {},
   "source": [
    "Next, let's use the probability estimates generated by logistic regression to classify predictions of patient experience as either \"Low\" or \"High Confidence\" using an arbitrary threshold.  This will enable subsetting on a segment of the data  that shows the greatest predictive accuracy. "
   ]
  },
  {
   "cell_type": "code",
   "execution_count": 173,
   "metadata": {
    "scrolled": true
   },
   "outputs": [],
   "source": [
    "# Next, let's take advantage of Logistic Regressions' use of probability estimates for label classification to compare actual and predicted labeels\n",
    "# ...and associated probabilites.\n",
    "\n",
    "lr_probs = LogisticRegression(C = 0.001)\n",
    "lr_probs = lr_probs.fit(X_train_lda, y_train)\n",
    "lr_predictions = lr_probs.predict(X_test_lda)\n",
    "lr_probabilities = lr_probs.predict_proba(X_test_lda)\n",
    "lr_probabilities_df = pd.DataFrame(lr_probabilities)\n",
    "\n",
    "# Add target data for comparison\n",
    "labels_test = y_test.copy()\n",
    "labels_test = pd.DataFrame(labels_test)\n",
    "labels_test.set_index(np.arange(0,691,1))\n",
    "\n",
    "lr_probabilities_df['Actual'] = labels_test['patient_experience_national_comparison'].values\n",
    "lr_probabilities_df['Predicted'] = lr_predictions\n",
    "\n",
    "lr_probabilities_df.rename(columns = \n",
    "                           {1: 'Below National Average (1)', \n",
    "                            2: 'Same as National Average (2)', \n",
    "                            3: 'Above National Average (3)' }, inplace = True)\n",
    "\n",
    "lr_probabilities_df['Predictive Confidence Rating'] = np.arange(0,691,1)"
   ]
  },
  {
   "cell_type": "code",
   "execution_count": 174,
   "metadata": {},
   "outputs": [],
   "source": [
    "# First, let's use LDA to reduce the dimensions of Medicare data and inspect this visually.\n",
    "\n",
    "lda_2 = LinearDiscriminantAnalysis(n_components=3)\n",
    "lda_df = lda_2.fit(X_train, y_train)\n",
    "lda_df_2 = lda_df.transform(X_test)\n",
    "\n",
    "lda_df_2 = pd.DataFrame(lda_df_2, columns = ['LDA1','LDA2'] )\n",
    "lda_df_2.head()\n",
    "\n",
    "# Append data frame with target data \n",
    "\n",
    "labels_train_2 = y_test.copy()\n",
    "labels_train_2 = pd.DataFrame(labels_train_2)\n",
    "labels_train_2.set_index(np.arange(0,691,1))\n",
    "lda_df_2['Patient Experience'] = labels_train_2['patient_experience_national_comparison'].values\n",
    "lda_df_2['Patient Experience Predicted'] = lr_predictions"
   ]
  },
  {
   "cell_type": "code",
   "execution_count": 175,
   "metadata": {},
   "outputs": [],
   "source": [
    "# Make function to provide confideence ratings for each prediction of patient satisfaction. \n",
    "# High confidence is arbitrarily assigned as above 40% probability\n",
    "\n",
    "def confidence_rating():\n",
    "    for i in range(len(lr_probabilities_df)):\n",
    "        \n",
    "        if lr_probabilities_df.iloc[i,4] == 0 and lr_probabilities_df.iloc[i,0] > .40:\n",
    "            lr_probabilities_df.iloc[i,5] = 'High'\n",
    "        elif lr_probabilities_df.iloc[i,4] == 0: \n",
    "            lr_probabilities_df.iloc[i,5] = 'Low' \n",
    "            \n",
    "        elif lr_probabilities_df.iloc[i,4] == 1 and lr_probabilities_df.iloc[i,1] > .40:\n",
    "            lr_probabilities_df.iloc[i,5] = 'High'\n",
    "        elif lr_probabilities_df.iloc[i,4] == 1: \n",
    "            lr_probabilities_df.iloc[i,5] = 'Low'  \n",
    "            \n",
    "        elif lr_probabilities_df.iloc[i,4] == 2 and lr_probabilities_df.iloc[i,2] > .40:\n",
    "            lr_probabilities_df.iloc[i,5] = 'High'\n",
    "        elif lr_probabilities_df.iloc[i,4] == 2:\n",
    "            lr_probabilities_df.iloc[i,5] = 'Low'\n",
    "            \n",
    "confidence_rating()"
   ]
  },
  {
   "cell_type": "code",
   "execution_count": 176,
   "metadata": {},
   "outputs": [
    {
     "name": "stdout",
     "output_type": "stream",
     "text": [
      "Table X. Logistric Regression Probabilities and Confidence Rating for Hospital Patient Experience\n"
     ]
    },
    {
     "data": {
      "text/html": [
       "<div>\n",
       "<style scoped>\n",
       "    .dataframe tbody tr th:only-of-type {\n",
       "        vertical-align: middle;\n",
       "    }\n",
       "\n",
       "    .dataframe tbody tr th {\n",
       "        vertical-align: top;\n",
       "    }\n",
       "\n",
       "    .dataframe thead th {\n",
       "        text-align: right;\n",
       "    }\n",
       "</style>\n",
       "<table border=\"1\" class=\"dataframe\">\n",
       "  <thead>\n",
       "    <tr style=\"text-align: right;\">\n",
       "      <th></th>\n",
       "      <th>0</th>\n",
       "      <th>Below National Average (1)</th>\n",
       "      <th>Same as National Average (2)</th>\n",
       "      <th>Actual</th>\n",
       "      <th>Predicted</th>\n",
       "      <th>Predictive Confidence Rating</th>\n",
       "    </tr>\n",
       "  </thead>\n",
       "  <tbody>\n",
       "    <tr>\n",
       "      <th>150</th>\n",
       "      <td>0.30</td>\n",
       "      <td>0.31</td>\n",
       "      <td>0.39</td>\n",
       "      <td>3.0</td>\n",
       "      <td>3.0</td>\n",
       "      <td>150</td>\n",
       "    </tr>\n",
       "    <tr>\n",
       "      <th>466</th>\n",
       "      <td>0.60</td>\n",
       "      <td>0.24</td>\n",
       "      <td>0.16</td>\n",
       "      <td>1.0</td>\n",
       "      <td>1.0</td>\n",
       "      <td>Low</td>\n",
       "    </tr>\n",
       "    <tr>\n",
       "      <th>14</th>\n",
       "      <td>0.55</td>\n",
       "      <td>0.29</td>\n",
       "      <td>0.16</td>\n",
       "      <td>1.0</td>\n",
       "      <td>1.0</td>\n",
       "      <td>Low</td>\n",
       "    </tr>\n",
       "    <tr>\n",
       "      <th>267</th>\n",
       "      <td>0.27</td>\n",
       "      <td>0.31</td>\n",
       "      <td>0.42</td>\n",
       "      <td>1.0</td>\n",
       "      <td>3.0</td>\n",
       "      <td>267</td>\n",
       "    </tr>\n",
       "    <tr>\n",
       "      <th>302</th>\n",
       "      <td>0.28</td>\n",
       "      <td>0.33</td>\n",
       "      <td>0.39</td>\n",
       "      <td>3.0</td>\n",
       "      <td>3.0</td>\n",
       "      <td>302</td>\n",
       "    </tr>\n",
       "  </tbody>\n",
       "</table>\n",
       "</div>"
      ],
      "text/plain": [
       "        0  Below National Average (1)  Same as National Average (2)  Actual  \\\n",
       "150  0.30                        0.31                          0.39     3.0   \n",
       "466  0.60                        0.24                          0.16     1.0   \n",
       "14   0.55                        0.29                          0.16     1.0   \n",
       "267  0.27                        0.31                          0.42     1.0   \n",
       "302  0.28                        0.33                          0.39     3.0   \n",
       "\n",
       "     Predicted Predictive Confidence Rating  \n",
       "150        3.0                          150  \n",
       "466        1.0                          Low  \n",
       "14         1.0                          Low  \n",
       "267        3.0                          267  \n",
       "302        3.0                          302  "
      ]
     },
     "execution_count": 176,
     "metadata": {},
     "output_type": "execute_result"
    }
   ],
   "source": [
    "print('Table X. Logistric Regression Probabilities and Confidence Rating for Hospital Patient Experience')\n",
    "lr_probabilities_df.sample(5)"
   ]
  },
  {
   "cell_type": "code",
   "execution_count": 177,
   "metadata": {},
   "outputs": [
    {
     "name": "stdout",
     "output_type": "stream",
     "text": [
      "0.1447178002894356% of patient experience predictions are rated as 'high confidence' (i.e. > 40% probability)\n",
      "Highly ratinged predictions have an accuracy of 0.0%\n"
     ]
    }
   ],
   "source": [
    "# Accuracy rate for predictions of patient experience with 'High' confidence rating\n",
    "\n",
    "h = lr_probabilities_df[lr_probabilities_df['Predictive Confidence Rating'] == 'High']\n",
    "all_h = float(len(h))\n",
    "true_h = float(len(h[h['Actual'] == h['Predicted']]))\n",
    "h_accuracy = (true_h/all_h)*100\n",
    "\n",
    "all_h_l = float(len(lr_probabilities_df))\n",
    "percent_h_all = (all_h/all_h_l)*100\n",
    "\n",
    "print(str(percent_h_all) + \"% of patient experience predictions are rated as 'high confidence' (i.e. > 40% probability)\") \n",
    "print(\"Highly ratinged predictions have an accuracy of \" + str(h_accuracy) + \"%\")"
   ]
  },
  {
   "cell_type": "code",
   "execution_count": 178,
   "metadata": {},
   "outputs": [],
   "source": [
    "lr_probabilities_df_high = lda_df_2.copy()\n",
    "lr_probabilities_df_high['Predictive Confidence Rating'] = lr_probabilities_df['Predictive Confidence Rating']"
   ]
  },
  {
   "cell_type": "code",
   "execution_count": 179,
   "metadata": {
    "scrolled": false
   },
   "outputs": [
    {
     "name": "stdout",
     "output_type": "stream",
     "text": [
      "Figure 8. Visualizing Medicare Date with LDA\n"
     ]
    },
    {
     "data": {
      "image/png": "[encoded data removed]",
      "text/plain": [
       "<Figure size 452x360 with 1 Axes>"
      ]
     },
     "metadata": {},
     "output_type": "display_data"
    },
    {
     "data": {
      "image/png": "[encoded data removed]",
      "text/plain": [
       "<Figure size 497.125x360 with 1 Axes>"
      ]
     },
     "metadata": {},
     "output_type": "display_data"
    }
   ],
   "source": [
    "sns.lmplot(\"LDA1\", \"LDA2\", data=lda_df_2, hue='Patient Experience', fit_reg=False)\n",
    "plt.margins(.1)\n",
    "\n",
    "sns.lmplot(\"LDA1\", \"LDA2\", data=lda_df_2, hue='Patient Experience Predicted', fit_reg=False)\n",
    "plt.margins(.1)\n",
    "\n",
    "# sns.lmplot(\"LDA1\", \"LDA2\", data=lr_probabilities_df_high, hue='Predictive Confidence Rating',  fit_reg=False)\n",
    "# plt.margins(.1)\n",
    "# sns.set_style(\"whitegrid\")\n",
    "\n",
    "print('Figure 8. Visualizing Medicare Date with LDA')\n",
    "plt.savefig('Fig8x.png', dpi=300)\n",
    "plt.show()"
   ]
  },
  {
   "cell_type": "markdown",
   "metadata": {},
   "source": [
    "#### Quck Summary of Logistic Regression Prababilities to Interrogate Patient Experience Predictions\n",
    "* ~33% of patient experience predictions using logistic regression have a > 40% probability in their predicted label. This subset of predictions was arbirarily classified \"high confidence\".\n",
    "* Highly confident predictions have an accuracy of ~72%.\n",
    "* A 40% prabability may therefore be a useful threshold to categorize predictions with a high confidence, although this could be optimized to also include both a mid-range threshold for ambiguous predictions and a narrower threshold for low confidence predictions."
   ]
  },
  {
   "cell_type": "markdown",
   "metadata": {},
   "source": [
    "# <center> Feature Selection </center>"
   ]
  },
  {
   "cell_type": "markdown",
   "metadata": {},
   "source": [
    "#### Identifying Important Features with Recursive Feature Elimination and Cross-Validation"
   ]
  },
  {
   "cell_type": "code",
   "execution_count": 180,
   "metadata": {},
   "outputs": [
    {
     "name": "stdout",
     "output_type": "stream",
     "text": [
      "Optimal number of features: 102\n",
      "\n",
      "Feature Ranking\n",
      "[1 1 1 1 1 1 1 1 1 1 1 1 1 1 1 1 1 1 1 1 4 3 5 6 8 7 1 1 1 1 1 2 1 1 1 1 1\n",
      " 1 1 1 1 1 1 1 1 1 1 1 1 1 1 1 1 1 1 1 1 1 1 1 1 1 1 1 1 1 1 1 1 1 1 1 1 1\n",
      " 1 1 1 1 1 1 1 1 1 1 1 1 1 1 1 1 1 1 1 1 1 1 1 1 1 1 1 1 1 1 1 1 1 1 1]\n",
      "\n",
      "Feature Support\n",
      "Index(['emergency_services', 'meets_criteria_for_meaningful_use_of_ehrs',\n",
      "       'mortality_national_comparison', 'safety_of_care_national_comparison',\n",
      "       'readmission_national_comparison',\n",
      "       'effectiveness_of_care_national_comparison',\n",
      "       'timeliness_of_care_national_comparison',\n",
      "       'efficient_use_of_medical_imaging_national_comparison',\n",
      "       'readm_30_ami_hrrp_number_of_readmissions',\n",
      "       'readm_30_cabg_hrrp_number_of_readmissions',\n",
      "       ...\n",
      "       'hospital_ownership_Voluntary non-profit - Church',\n",
      "       'hospital_ownership_Voluntary non-profit - Other',\n",
      "       'hospital_ownership_Voluntary non-profit - Private',\n",
      "       'region_America/Virgin', 'region_US/Alaska', 'region_US/Central',\n",
      "       'region_US/Eastern', 'region_US/Hawaii', 'region_US/Mountain',\n",
      "       'region_US/Pacific'],\n",
      "      dtype='object', length=102)\n"
     ]
    }
   ],
   "source": [
    "# Next, let's look at the most important features for LR using the SciKit-Learn's RFECV method. \n",
    "\n",
    "lr_rfecv = LogisticRegression()\n",
    "\n",
    "selector = RFECV(estimator = lr_rfecv, cv = 5, scoring = 'accuracy')\n",
    "selector.fit(X_train, y_train)\n",
    "\n",
    "print('Optimal number of features: %d' % selector.n_features_)\n",
    "print('\\nFeature Ranking')\n",
    "print(selector.ranking_)\n",
    "print('\\nFeature Support')\n",
    "print(X_train.columns[selector.support_])"
   ]
  },
  {
   "cell_type": "code",
   "execution_count": 181,
   "metadata": {},
   "outputs": [
    {
     "name": "stdout",
     "output_type": "stream",
     "text": [
      "Figure 9. Logistic Regression Model Accuracy with Feature Elimination\n"
     ]
    },
    {
     "data": {
      "image/png": "[encoded data removed]",
      "text/plain": [
       "<Figure size 432x288 with 1 Axes>"
      ]
     },
     "metadata": {},
     "output_type": "display_data"
    }
   ],
   "source": [
    "#Plot number of features VS. cross-validation scores\n",
    "plt.figure()\n",
    "plt.xlabel(\"Number of features selected\")\n",
    "plt.ylabel(\"Accuracy\")\n",
    "plt.plot(selector.grid_scores_, alpha=0.8)\n",
    "plt.tight_layout()\n",
    "sns.set_style(\"whitegrid\")\n",
    "\n",
    "print('Figure 9. Logistic Regression Model Accuracy with Feature Elimination')\n",
    "plt.savefig('Fig10.png', dpi=300)\n",
    "plt.show()"
   ]
  },
  {
   "cell_type": "markdown",
   "metadata": {},
   "source": [
    "#### Quck Summary of  Features with Recursive Feature Elimination and Cross-Validation (RFECV)\n",
    "* 43 of 84 features were identified as important to predictive accuracy for logistic regression. They are as follows:\n",
    "\n",
    "* Number_of_Discharges\n",
    "* Number_of_Readmissions\n",
    "* MSPB\n",
    "* Acute Care Hospitals\n",
    "* Ownership type\n",
    "* EHRs\n",
    "* Effectiveness of care\n",
    "* Timeliness of care\n",
    "* State/region"
   ]
  },
  {
   "cell_type": "code",
   "execution_count": 183,
   "metadata": {},
   "outputs": [
    {
     "data": {
      "text/plain": [
       "3.0    237\n",
       "2.0    232\n",
       "1.0    222\n",
       "Name: patient_experience_national_comparison, dtype: int64"
      ]
     },
     "execution_count": 183,
     "metadata": {},
     "output_type": "execute_result"
    }
   ],
   "source": [
    "y_test.value_counts()"
   ]
  },
  {
   "cell_type": "markdown",
   "metadata": {},
   "source": [
    "# <center> Summary of Key Findings </center>\n",
    "* Patient satisfaction can be predicted with approximatley 50% accuracy using publically available Medicare hospital  metrics. \n",
    "* The best performing models were logistic regression, LDA, and SVM (using a linear kernal). This suggests that linear  modeling is most effective with this Medicare data set. \n",
    "* Both paramater optimization and dimension reduction with LDA improved model accuracy ~ 2-5%.\n",
    "* Using a 40% probability threshold for logistic regression predictions raised predictive accuracy to ~72%; however, this is only effective for a subset of predictions (~33%) that meet this threshold. \n",
    "* Fourty three features were identified that account for most of logistic regression prediction accuracy."
   ]
  },
  {
   "cell_type": "markdown",
   "metadata": {
    "collapsed": true
   },
   "source": [
    "# <center> Key Recommendations </center>\n",
    "* A ~ 20% increase in predictive accuracy over blind guessing can be achieved using the Medicare Hospital Compare data included in this analysis; however, it is advisable to investigate additional hospital attributes that might provide greater predictive accuracy.\n",
    "* When predicting patient experience, attention should focus on readmissions metrics, spending per patient, ownership model, timeliness of care, and hospital geography.\n",
    "* Differentiating between 'low', 'med', and 'high' subjective ratings is a difficult task and there is a good rationale to force a binary ratings system (i.e. \"poor\" vs \"good\").  With the current dataset this could be achieved by recategorizing <i>\"Same as National Average\"</i> and <i>\"Above National Average Patient Experience\"</i> as an equivalent positive rating. This would likely increase predictive accuracy. Additionally, it is reasonable to assume that a low patient experience rating is more consequential to the patient and their healthcare purchasing behavior than a neutral versus positive patient experience rating. Thus, reliably detecting poor experience may be of greater value to both the patient/healthcare consumer and healthcare provider than the more granular classifications evaluated in this analysis."
   ]
  },
  {
   "cell_type": "code",
   "execution_count": null,
   "metadata": {},
   "outputs": [],
   "source": []
  },
  {
   "cell_type": "code",
   "execution_count": null,
   "metadata": {},
   "outputs": [],
   "source": []
  },
  {
   "cell_type": "code",
   "execution_count": 606,
   "metadata": {},
   "outputs": [],
   "source": [
    "import torch\n",
    "import torch.nn as nn\n",
    "import torch.nn.functional as F\n",
    "\n",
    "import numpy as np\n",
    "import pandas as pd\n",
    "import matplotlib.pyplot as plt\n",
    "%matplotlib inline"
   ]
  },
  {
   "cell_type": "markdown",
   "metadata": {},
   "source": [
    "class TabularModel(nn.Module):\n",
    "\n",
    "    def __init__(self, x, out_sz, layers, p=0.5):\n",
    "        super().__init__() \n",
    "        self.bn_cont = nn.BatchNorm1d(x)\n",
    "        \n",
    "        layerlist = []\n",
    "        n_in = x\n",
    "        \n",
    "        for i in layers:\n",
    "            layerlist.append(nn.Linear(n_in,i)) \n",
    "            layerlist.append(nn.ReLU(inplace=True))\n",
    "            layerlist.append(nn.BatchNorm1d(i))\n",
    "            layerlist.append(nn.Dropout(p))\n",
    "            n_in = i\n",
    "            \n",
    "        layerlist.append(nn.Linear(layers[-1],out_sz))\n",
    "        self.layers = nn.Sequential(*layerlist)\n",
    "    \n",
    "    def forward(self, x):\n",
    "        x = self.bn_cont(x)\n",
    "        x = self.layers(x)\n",
    "        return x"
   ]
  },
  {
   "cell_type": "code",
   "execution_count": 611,
   "metadata": {},
   "outputs": [],
   "source": [
    "class TabularModel(nn.Module):\n",
    "\n",
    "    def __init__(self, x, out_sz, layers, p=0.5):\n",
    "        super().__init__() \n",
    "        self.bn_cont = nn.BatchNorm1d(x)\n",
    "        \n",
    "        layerlist = []\n",
    "        n_in = x\n",
    "        \n",
    "        for i in layers:\n",
    "            layerlist.append(nn.Linear(n_in,i)) \n",
    "            layerlist.append(nn.ReLU(inplace=True))\n",
    "            layerlist.append(nn.BatchNorm1d(i))\n",
    "            layerlist.append(nn.Dropout(p))\n",
    "            n_in = i\n",
    "            \n",
    "        layerlist.append(nn.Linear(layers[-1],out_sz))\n",
    "        self.layers = nn.Sequential(*layerlist)\n",
    "    \n",
    "    def forward(self, x):\n",
    "        x = self.bn_cont(x)\n",
    "        x = self.layers(x)\n",
    "        return F.log_softmax(x, dim=1)"
   ]
  },
  {
   "cell_type": "code",
   "execution_count": 612,
   "metadata": {},
   "outputs": [],
   "source": [
    "torch.manual_seed(33)\n",
    "model = TabularModel(X.shape[1], 3, [200,100, 100], p=0.4) \n",
    "\n",
    "criterion = nn.CrossEntropyLoss()\n",
    "optimizer = torch.optim.Adam(model.parameters(), lr=0.001)\n",
    "\n",
    "x_numpy = X_train.to_numpy()\n",
    "x_torch = torch.tensor(x_numpy, dtype=torch.float)\n",
    "\n",
    "y_train_ = y_train -1\n",
    "y_numpy = y_train_.to_numpy()\n",
    "y_torch = torch.tensor(y_numpy,dtype=torch.long).flatten()\n",
    "\n",
    "batch_size = 2000\n",
    "test_size = 700\n",
    "\n",
    "nnx_train = x_torch[:batch_size-test_size]\n",
    "nnx_test = x_torch[batch_size-test_size:batch_size]\n",
    "nny_train = y_torch[:batch_size-test_size]\n",
    "nny_test = y_torch[batch_size-test_size:batch_size]"
   ]
  },
  {
   "cell_type": "code",
   "execution_count": 613,
   "metadata": {},
   "outputs": [
    {
     "name": "stdout",
     "output_type": "stream",
     "text": [
      "epoch:   1  loss: 1.27103448\n",
      "epoch:  26  loss: 0.84819967\n",
      "epoch:  51  loss: 0.75976878\n",
      "epoch:  76  loss: 0.68984145\n",
      "epoch: 101  loss: 0.62181956\n",
      "epoch: 126  loss: 0.51346546\n",
      "epoch: 151  loss: 0.48372668\n",
      "epoch: 176  loss: 0.40969810\n",
      "epoch: 201  loss: 0.35518575\n",
      "epoch: 226  loss: 0.31202096\n",
      "epoch: 251  loss: 0.25531888\n",
      "epoch: 276  loss: 0.21289209\n",
      "epoch: 301  loss: 0.23151109\n",
      "epoch: 326  loss: 0.18890209\n",
      "epoch: 351  loss: 0.16790166\n",
      "epoch: 376  loss: 0.17048484\n",
      "epoch: 400  loss: 0.15452659\n",
      "\n",
      "Duration: 16 seconds\n"
     ]
    },
    {
     "data": {
      "image/png": "[encoded data removed]",
      "text/plain": [
       "<Figure size 432x288 with 1 Axes>"
      ]
     },
     "metadata": {
      "needs_background": "light"
     },
     "output_type": "display_data"
    }
   ],
   "source": [
    "import time\n",
    "start_time = time.time()\n",
    "\n",
    "epochs = 400\n",
    "losses = []\n",
    "\n",
    "for i in range(epochs):\n",
    "    i+=1\n",
    "    y_pred = model(nnx_train)\n",
    "    loss = criterion(y_pred, nny_train)\n",
    "    losses.append(loss)\n",
    "    \n",
    "    # a neat trick to save screen space:\n",
    "    if i%25 == 1:\n",
    "        print(f'epoch: {i:3}  loss: {loss.item():10.8f}')\n",
    "\n",
    "    optimizer.zero_grad()\n",
    "    loss.backward()\n",
    "    optimizer.step()\n",
    "\n",
    "print(f'epoch: {i:3}  loss: {loss.item():10.8f}') # print the last line\n",
    "print(f'\\nDuration: {time.time() - start_time:.0f} seconds') # print the time elapsed\n",
    "\n",
    "plt.plot(range(epochs), losses)\n",
    "plt.ylabel('Cross Entropy Loss')\n",
    "plt.xlabel('epoch');"
   ]
  },
  {
   "cell_type": "markdown",
   "metadata": {},
   "source": [
    "# TO EVALUATE THE ENTIRE TEST SET\n",
    "with torch.no_grad():\n",
    "    y_val = model(nnx_test)\n",
    "    loss = criterion(y_val, nny_test)\n",
    "print(f'CE Loss: {loss:.8f}')"
   ]
  },
  {
   "cell_type": "code",
   "execution_count": 614,
   "metadata": {},
   "outputs": [
    {
     "name": "stdout",
     "output_type": "stream",
     "text": [
      "MODEL OUTPUT               ARGMAX  Y_TEST\n",
      "tensor([-2.2608,  1.9168,  2.8481])    2      1   \n",
      "tensor([-0.0337, -1.9481,  3.3497])    2      1   \n",
      "tensor([ 1.4062, -2.1089,  2.8107])    2      2   \n",
      "tensor([-2.0902,  2.1763,  0.8807])    1      2   \n",
      "tensor([ 7.2442, -3.2711, -4.7672])    0      0   \n",
      "tensor([-3.6235,  3.1818,  2.2345])    1      2   \n",
      "tensor([ 0.4588,  0.2194, -0.3903])    0      1   \n",
      "tensor([-1.4939,  0.2362,  1.4986])    2      1   \n",
      "tensor([-2.7139,  0.9867,  1.4972])    2      1   \n",
      "tensor([-1.9215,  1.3924,  2.5894])    2      1   \n",
      "tensor([-1.1832,  1.1962,  0.0738])    1      2   \n",
      "tensor([-0.9730,  0.5485,  1.5693])    2      2   \n",
      "tensor([-1.8288,  1.7414,  2.5140])    2      2   \n",
      "tensor([-1.5938,  0.4540,  2.3140])    2      2   \n",
      "tensor([ 1.1979, -1.1798, -0.8117])    0      0   \n",
      "tensor([-5.0498,  1.3413,  6.0186])    2      2   \n",
      "tensor([ 1.7512,  1.1234, -3.1575])    0      2   \n",
      "tensor([-1.4007,  5.2206, -6.2754])    1      2   \n",
      "tensor([-0.9867,  4.6057, -1.3938])    1      1   \n",
      "tensor([ 5.0372, -2.1996, -8.3843])    0      0   \n",
      "tensor([-0.8125,  3.9864,  0.0987])    1      2   \n",
      "tensor([-3.6832,  2.2698,  2.0919])    1      2   \n",
      "tensor([ 0.0206,  1.0513, -0.0334])    1      0   \n",
      "tensor([ 6.8515, -4.1069, -7.9625])    0      0   \n",
      "tensor([ 2.0786, -0.7715, -1.8881])    0      0   \n",
      "tensor([ 3.1347,  1.3325, -4.3823])    0      0   \n",
      "tensor([-0.5084,  0.4005,  0.6244])    2      0   \n",
      "tensor([-1.1400, -0.2426,  2.2372])    2      1   \n",
      "tensor([-4.1504,  0.4455,  3.5664])    2      2   \n",
      "tensor([-0.9283,  1.3689, -0.7880])    1      0   \n",
      "tensor([ 1.1719, -3.2152, -4.3905])    0      0   \n",
      "tensor([ 1.1833, -2.0358, -1.5267])    0      0   \n",
      "tensor([ 3.1878,  0.4417, -2.5832])    0      1   \n",
      "tensor([-2.4835,  2.0062,  1.2392])    1      2   \n",
      "tensor([-3.6252,  0.4061,  2.9730])    2      1   \n",
      "tensor([-1.0455,  1.6594,  0.8815])    1      1   \n",
      "tensor([-2.2059,  1.6669,  2.2522])    2      2   \n",
      "tensor([-3.2028,  0.1653,  4.9639])    2      2   \n",
      "tensor([ 5.5291,  2.9915, -9.6954])    0      1   \n",
      "tensor([ 5.8546, -5.1063, -7.1460])    0      0   \n",
      "tensor([  4.1030,   6.9262, -11.3980])    1      0   \n",
      "tensor([-2.7402,  1.5087,  2.8044])    2      2   \n",
      "tensor([ 0.4628, -4.9848,  2.2967])    2      2   \n",
      "tensor([-5.8054, -0.0766,  7.5630])    2      2   \n",
      "tensor([-2.7375,  1.4606,  2.2365])    2      2   \n",
      "tensor([-3.8804,  1.9698,  2.5382])    2      1   \n",
      "tensor([-8.6972, -4.1035,  9.0195])    2      2   \n",
      "tensor([-5.5511, -0.9652,  5.5954])    2      2   \n",
      "tensor([ 2.0907, -0.0969, -3.5605])    0      0   \n",
      "tensor([-1.1975,  1.7128,  0.3099])    1      1   \n",
      "\n",
      "27 out of 50 = 54.00% correct\n"
     ]
    }
   ],
   "source": [
    "rows = 50\n",
    "correct = 0\n",
    "print(f'{\"MODEL OUTPUT\":26} ARGMAX  Y_TEST')\n",
    "for i in range(rows):\n",
    "    print(f'{str(y_val[i]):26} {y_val[i].argmax():^7}{nny_test[i]:^7}')\n",
    "    if y_val[i].argmax().item() == nny_test[i]:\n",
    "        correct += 1\n",
    "print(f'\\n{correct} out of {rows} = {100*correct/rows:.2f}% correct')"
   ]
  },
  {
   "cell_type": "code",
   "execution_count": 615,
   "metadata": {},
   "outputs": [
    {
     "name": "stdout",
     "output_type": "stream",
     "text": [
      "low: 0.21714285714285714, med: 0.13, hi: 0.17285714285714285\n"
     ]
    }
   ],
   "source": [
    "low = 0\n",
    "med = 0\n",
    "hi = 0\n",
    "\n",
    "for i in range(0,700):\n",
    "    if (y_val.numpy()[i].argmax() == 0 ) & (nny_test.numpy()[i] == 0):\n",
    "       low += 1 \n",
    "    \n",
    "    if (y_val.numpy()[i].argmax() == 1 ) & (nny_test.numpy()[i] == 1):\n",
    "       med += 1 \n",
    "    \n",
    "    if (y_val.numpy()[i].argmax() == 2 ) & (nny_test.numpy()[i] == 2):\n",
    "       hi += 1 \n",
    "\n",
    "print(f\"low: {low/700}, med: {med/700}, hi: {hi/700}\")"
   ]
  },
  {
   "cell_type": "code",
   "execution_count": null,
   "metadata": {},
   "outputs": [],
   "source": []
  },
  {
   "cell_type": "code",
   "execution_count": null,
   "metadata": {},
   "outputs": [],
   "source": []
  },
  {
   "cell_type": "code",
   "execution_count": null,
   "metadata": {},
   "outputs": [],
   "source": []
  }
 ],
 "metadata": {
  "anaconda-cloud": {},
  "kernelspec": {
   "display_name": "Python 3",
   "language": "python",
   "name": "python3"
  },
  "language_info": {
   "codemirror_mode": {
    "name": "ipython",
    "version": 3
   },
   "file_extension": ".py",
   "mimetype": "text/x-python",
   "name": "python",
   "nbconvert_exporter": "python",
   "pygments_lexer": "ipython3",
   "version": "3.7.3"
  }
 },
 "nbformat": 4,
 "nbformat_minor": 1
}
