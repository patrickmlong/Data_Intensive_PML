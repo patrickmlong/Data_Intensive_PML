{
 "cells": [
  {
   "cell_type": "code",
   "execution_count": 2,
   "metadata": {
    "collapsed": true
   },
   "outputs": [],
   "source": [
    "import pandas as pd\n",
    "import matplotlib.pyplot as plt\n",
    "import seaborn as sns\n",
    "import numpy as np\n",
    "from scipy import stats"
   ]
  },
  {
   "cell_type": "markdown",
   "metadata": {
    "collapsed": true
   },
   "source": [
    "## Using Supervised Learing to Predict Patient Satisfication\n",
    "* Predict: Patient Satisfaction\n",
    "* Features =  16 features including geography, hospital type, spending per patient, timeliness of care, etc. "
   ]
  },
  {
   "cell_type": "code",
   "execution_count": 3,
   "metadata": {
    "collapsed": false
   },
   "outputs": [],
   "source": [
    "n = pd.read_csv('r_g_mspb.csv')"
   ]
  },
  {
   "cell_type": "code",
   "execution_count": 4,
   "metadata": {
    "collapsed": false
   },
   "outputs": [
    {
     "data": {
      "text/plain": [
       "Index([u'Unnamed: 0', u'Hospital_Name_g', u'ZIP_Code_g', u'Type',\n",
       "       u'Ownership_g', u'Emergency_Services_g', u'EHRs_g',\n",
       "       u'Hospital_overall_rating_g', u'Safety_of_care_g',\n",
       "       u'Patient_experience_g', u'Effectiveness_of_care_g',\n",
       "       u'Timeliness_of_care_g', u'Efficient_use_of_medical_imaging_g',\n",
       "       u'Number_of_Discharges_r', u'Excess_Readmission_Ratio_r',\n",
       "       u'Predicted_Readmission_Rate_r', u'Expected_Readmission_Rate_r',\n",
       "       u'Number_of_Readmissions_r', u'MSPB', u'State_name', u'Region'],\n",
       "      dtype='object')"
      ]
     },
     "execution_count": 4,
     "metadata": {},
     "output_type": "execute_result"
    }
   ],
   "source": [
    "n.columns"
   ]
  },
  {
   "cell_type": "code",
   "execution_count": 5,
   "metadata": {
    "collapsed": false
   },
   "outputs": [],
   "source": [
    "n.drop(['Unnamed: 0'], axis =1, inplace = True)"
   ]
  },
  {
   "cell_type": "code",
   "execution_count": 6,
   "metadata": {
    "collapsed": false
   },
   "outputs": [],
   "source": [
    "n = n[['Hospital_Name_g','ZIP_Code_g', 'Type', 'Ownership_g', 'EHRs_g', \n",
    "       'Safety_of_care_g',\n",
    "       'Effectiveness_of_care_g', 'Timeliness_of_care_g', 'Emergency_Services_g',\n",
    "       'Efficient_use_of_medical_imaging_g', 'Number_of_Discharges_r',\n",
    "       'Excess_Readmission_Ratio_r', 'Predicted_Readmission_Rate_r',\n",
    "       'Expected_Readmission_Rate_r', 'Number_of_Readmissions_r', 'MSPB',\n",
    "       'State_name', 'Region', 'Patient_experience_g']] "
   ]
  },
  {
   "cell_type": "code",
   "execution_count": 7,
   "metadata": {
    "collapsed": true
   },
   "outputs": [],
   "source": [
    "# Drop NA values\n",
    "n = n.dropna(how = 'any')"
   ]
  },
  {
   "cell_type": "code",
   "execution_count": 8,
   "metadata": {
    "collapsed": false
   },
   "outputs": [],
   "source": [
    "# Convert Emergency_Services to string (currently a bool)\n",
    "n['Emergency_Services_g'] = n['Emergency_Services_g'].astype('str')"
   ]
  },
  {
   "cell_type": "markdown",
   "metadata": {},
   "source": [
    "## Generate a list of 18 predictive features"
   ]
  },
  {
   "cell_type": "code",
   "execution_count": 9,
   "metadata": {
    "collapsed": false
   },
   "outputs": [],
   "source": [
    "input_list = ['Type', 'Ownership_g', 'EHRs_g', \n",
    "       'Safety_of_care_g',\n",
    "       'Effectiveness_of_care_g', 'Timeliness_of_care_g', 'Emergency_Services_g',\n",
    "       'Efficient_use_of_medical_imaging_g', 'Number_of_Discharges_r',\n",
    "       'Excess_Readmission_Ratio_r', 'Predicted_Readmission_Rate_r',\n",
    "       'Expected_Readmission_Rate_r','Number_of_Readmissions_r', 'MSPB',\n",
    "       'State_name', 'Region']"
   ]
  },
  {
   "cell_type": "markdown",
   "metadata": {},
   "source": [
    "## Transform prediction data into categorical labels"
   ]
  },
  {
   "cell_type": "code",
   "execution_count": 10,
   "metadata": {
    "collapsed": true
   },
   "outputs": [],
   "source": [
    "p_e_dict = {'Below the National average': 0, 'Same as the National average': 1, 'Above the National average':2 }"
   ]
  },
  {
   "cell_type": "code",
   "execution_count": 11,
   "metadata": {
    "collapsed": false
   },
   "outputs": [],
   "source": [
    "n.Patient_experience_g = n.Patient_experience_g.map(p_e_dict)"
   ]
  },
  {
   "cell_type": "code",
   "execution_count": 12,
   "metadata": {
    "collapsed": true
   },
   "outputs": [],
   "source": [
    "from sklearn.preprocessing import LabelEncoder\n",
    "enc = LabelEncoder()"
   ]
  },
  {
   "cell_type": "code",
   "execution_count": 13,
   "metadata": {
    "collapsed": true
   },
   "outputs": [],
   "source": [
    "y = n.Patient_experience_g"
   ]
  },
  {
   "cell_type": "code",
   "execution_count": 14,
   "metadata": {
    "collapsed": false
   },
   "outputs": [],
   "source": [
    "enc = enc.fit(y)"
   ]
  },
  {
   "cell_type": "code",
   "execution_count": 15,
   "metadata": {
    "collapsed": false
   },
   "outputs": [
    {
     "data": {
      "text/plain": [
       "array([0, 1, 2])"
      ]
     },
     "execution_count": 15,
     "metadata": {},
     "output_type": "execute_result"
    }
   ],
   "source": [
    "enc.classes_"
   ]
  },
  {
   "cell_type": "code",
   "execution_count": 16,
   "metadata": {
    "collapsed": false
   },
   "outputs": [],
   "source": [
    "y = enc.transform(y)"
   ]
  },
  {
   "cell_type": "code",
   "execution_count": 17,
   "metadata": {
    "collapsed": false
   },
   "outputs": [
    {
     "data": {
      "text/plain": [
       "array([0, 1, 0, ..., 0, 2, 2])"
      ]
     },
     "execution_count": 17,
     "metadata": {},
     "output_type": "execute_result"
    }
   ],
   "source": [
    "y"
   ]
  },
  {
   "cell_type": "markdown",
   "metadata": {},
   "source": [
    "## Transform features into numerals with 'get_dummies' to create a sparse data set"
   ]
  },
  {
   "cell_type": "code",
   "execution_count": 18,
   "metadata": {
    "collapsed": false
   },
   "outputs": [
    {
     "data": {
      "text/plain": [
       "dtype('O')"
      ]
     },
     "execution_count": 18,
     "metadata": {},
     "output_type": "execute_result"
    }
   ],
   "source": [
    "n.Emergency_Services_g.dtype"
   ]
  },
  {
   "cell_type": "code",
   "execution_count": 19,
   "metadata": {
    "collapsed": false
   },
   "outputs": [],
   "source": [
    "dummy_df = pd.get_dummies(n[input_list])"
   ]
  },
  {
   "cell_type": "markdown",
   "metadata": {},
   "source": [
    "## Normalize numerical data\n"
   ]
  },
  {
   "cell_type": "code",
   "execution_count": 20,
   "metadata": {
    "collapsed": true
   },
   "outputs": [],
   "source": [
    "sc_list = ['Number_of_Discharges_r', 'Excess_Readmission_Ratio_r', 'Predicted_Readmission_Rate_r', 'Expected_Readmission_Rate_r', 'Number_of_Readmissions_r', 'MSPB']"
   ]
  },
  {
   "cell_type": "code",
   "execution_count": 21,
   "metadata": {
    "collapsed": true
   },
   "outputs": [],
   "source": [
    "from sklearn.preprocessing import normalize "
   ]
  },
  {
   "cell_type": "code",
   "execution_count": 22,
   "metadata": {
    "collapsed": false
   },
   "outputs": [],
   "source": [
    "dummy_df[sc_list] = normalize(dummy_df[sc_list])"
   ]
  },
  {
   "cell_type": "markdown",
   "metadata": {},
   "source": [
    "## For visual convenience, add encoded patient experience (target/labels) onto features dataframe"
   ]
  },
  {
   "cell_type": "code",
   "execution_count": 23,
   "metadata": {
    "collapsed": false
   },
   "outputs": [],
   "source": [
    "dummy_df['Patient_experience_actual'] = y"
   ]
  },
  {
   "cell_type": "markdown",
   "metadata": {},
   "source": [
    "## Split data into training/test sets"
   ]
  },
  {
   "cell_type": "code",
   "execution_count": 24,
   "metadata": {
    "collapsed": false
   },
   "outputs": [
    {
     "data": {
      "text/plain": [
       "Index([u'Number_of_Discharges_r', u'Excess_Readmission_Ratio_r',\n",
       "       u'Predicted_Readmission_Rate_r', u'Expected_Readmission_Rate_r',\n",
       "       u'Number_of_Readmissions_r', u'MSPB', u'Type_Acute Care Hospitals',\n",
       "       u'Ownership_g_Government - Federal',\n",
       "       u'Ownership_g_Government - Hospital District or Authority',\n",
       "       u'Ownership_g_Government - Local', u'Ownership_g_Government - State',\n",
       "       u'Ownership_g_Physician', u'Ownership_g_Proprietary',\n",
       "       u'Ownership_g_Voluntary non-profit - Church',\n",
       "       u'Ownership_g_Voluntary non-profit - Other',\n",
       "       u'Ownership_g_Voluntary non-profit - Private', u'EHRs_g_True',\n",
       "       u'Safety_of_care_g_Above the National average',\n",
       "       u'Safety_of_care_g_Below the National average',\n",
       "       u'Safety_of_care_g_Same as the National average',\n",
       "       u'Effectiveness_of_care_g_Above the National average',\n",
       "       u'Effectiveness_of_care_g_Below the National average',\n",
       "       u'Effectiveness_of_care_g_Same as the National average',\n",
       "       u'Timeliness_of_care_g_Above the National average',\n",
       "       u'Timeliness_of_care_g_Below the National average',\n",
       "       u'Timeliness_of_care_g_Same as the National average',\n",
       "       u'Emergency_Services_g_False', u'Emergency_Services_g_True',\n",
       "       u'Efficient_use_of_medical_imaging_g_Above the National average',\n",
       "       u'Efficient_use_of_medical_imaging_g_Below the National average',\n",
       "       u'Efficient_use_of_medical_imaging_g_Same as the National average',\n",
       "       u'State_name_AK', u'State_name_AL', u'State_name_AR', u'State_name_AZ',\n",
       "       u'State_name_CA', u'State_name_CO', u'State_name_CT', u'State_name_DC',\n",
       "       u'State_name_DE', u'State_name_FL', u'State_name_GA', u'State_name_HI',\n",
       "       u'State_name_IA', u'State_name_ID', u'State_name_IL', u'State_name_IN',\n",
       "       u'State_name_KS', u'State_name_KY', u'State_name_LA', u'State_name_MA',\n",
       "       u'State_name_ME', u'State_name_MI', u'State_name_MN', u'State_name_MO',\n",
       "       u'State_name_MS', u'State_name_MT', u'State_name_NC', u'State_name_ND',\n",
       "       u'State_name_NE', u'State_name_NH', u'State_name_NJ', u'State_name_NM',\n",
       "       u'State_name_NV', u'State_name_NY', u'State_name_OH', u'State_name_OK',\n",
       "       u'State_name_OR', u'State_name_PA', u'State_name_RI', u'State_name_SC',\n",
       "       u'State_name_SD', u'State_name_TN', u'State_name_TX', u'State_name_UT',\n",
       "       u'State_name_VA', u'State_name_VT', u'State_name_WA', u'State_name_WI',\n",
       "       u'State_name_WV', u'State_name_WY', u'Region_US/Alaska',\n",
       "       u'Region_US/Central', u'Region_US/Eastern', u'Region_US/Hawaii',\n",
       "       u'Region_US/Mountain', u'Region_US/Pacific',\n",
       "       u'Patient_experience_actual'],\n",
       "      dtype='object')"
      ]
     },
     "execution_count": 24,
     "metadata": {},
     "output_type": "execute_result"
    }
   ],
   "source": [
    "dummy_df.columns"
   ]
  },
  {
   "cell_type": "code",
   "execution_count": 25,
   "metadata": {
    "collapsed": false
   },
   "outputs": [],
   "source": [
    "dummy_x_list = ['Number_of_Discharges_r', 'Excess_Readmission_Ratio_r',\n",
    "       'Predicted_Readmission_Rate_r', 'Expected_Readmission_Rate_r',\n",
    "       'Number_of_Readmissions_r', 'MSPB', 'Type_Acute Care Hospitals',\n",
    "       'Ownership_g_Government - Federal',\n",
    "       'Ownership_g_Government - Hospital District or Authority',\n",
    "       'Ownership_g_Government - Local', 'Ownership_g_Government - State',\n",
    "       'Ownership_g_Physician', 'Ownership_g_Proprietary',\n",
    "       'Ownership_g_Voluntary non-profit - Church',\n",
    "       'Ownership_g_Voluntary non-profit - Other',\n",
    "       'Ownership_g_Voluntary non-profit - Private', 'EHRs_g_True',\n",
    "       'Safety_of_care_g_Above the National average',\n",
    "       'Safety_of_care_g_Below the National average',\n",
    "       'Safety_of_care_g_Same as the National average',\n",
    "       'Effectiveness_of_care_g_Above the National average',\n",
    "       'Effectiveness_of_care_g_Below the National average',\n",
    "       'Effectiveness_of_care_g_Same as the National average',\n",
    "       'Timeliness_of_care_g_Above the National average',\n",
    "       'Timeliness_of_care_g_Below the National average',\n",
    "       'Timeliness_of_care_g_Same as the National average',\n",
    "       'Efficient_use_of_medical_imaging_g_Above the National average',\n",
    "       'Efficient_use_of_medical_imaging_g_Below the National average',\n",
    "       'Efficient_use_of_medical_imaging_g_Same as the National average', 'Emergency_Services_g_False', \n",
    "                'Emergency_Services_g_True',\n",
    "       'State_name_AK', 'State_name_AL', 'State_name_AR', 'State_name_AZ',\n",
    "       'State_name_CA', 'State_name_CO', 'State_name_CT', 'State_name_DC',\n",
    "       'State_name_DE', 'State_name_FL', 'State_name_GA', 'State_name_HI',\n",
    "       'State_name_IA', 'State_name_ID', 'State_name_IL', 'State_name_IN',\n",
    "       'State_name_KS', 'State_name_KY', 'State_name_LA', 'State_name_MA',\n",
    "       'State_name_ME', 'State_name_MI', 'State_name_MN', 'State_name_MO',\n",
    "       'State_name_MS', 'State_name_MT', 'State_name_NC', 'State_name_ND',\n",
    "       'State_name_NE', 'State_name_NH', 'State_name_NJ', 'State_name_NM',\n",
    "       'State_name_NV', 'State_name_NY', 'State_name_OH', 'State_name_OK',\n",
    "       'State_name_OR', 'State_name_PA', 'State_name_RI', 'State_name_SC',\n",
    "       'State_name_SD', 'State_name_TN', 'State_name_TX', 'State_name_UT',\n",
    "       'State_name_VA', 'State_name_VT', 'State_name_WA', 'State_name_WI',\n",
    "       'State_name_WV', 'State_name_WY', 'Region_US/Alaska',\n",
    "       'Region_US/Central', 'Region_US/Eastern', 'Region_US/Hawaii',\n",
    "       'Region_US/Mountain', 'Region_US/Pacific']"
   ]
  },
  {
   "cell_type": "code",
   "execution_count": 26,
   "metadata": {
    "collapsed": false
   },
   "outputs": [],
   "source": [
    "from sklearn.cross_validation import train_test_split\n",
    "\n",
    "X_train, X_test, y_train, y_test = train_test_split(dummy_df[dummy_x_list], dummy_df['Patient_experience_actual'], test_size=0.3, random_state=42)"
   ]
  },
  {
   "cell_type": "code",
   "execution_count": 27,
   "metadata": {
    "collapsed": true
   },
   "outputs": [],
   "source": [
    "df_outcomes = X_test.copy()"
   ]
  },
  {
   "cell_type": "code",
   "execution_count": 28,
   "metadata": {
    "collapsed": true
   },
   "outputs": [],
   "source": [
    "df_outcomes['Patient_experience_actual'] = y_test"
   ]
  },
  {
   "cell_type": "markdown",
   "metadata": {},
   "source": [
    "## Train Logistic Regression"
   ]
  },
  {
   "cell_type": "code",
   "execution_count": 29,
   "metadata": {
    "collapsed": true
   },
   "outputs": [],
   "source": [
    "from sklearn.linear_model import LogisticRegression\n",
    "lr = LogisticRegression(multi_class='multinomial',solver ='newton-cg') "
   ]
  },
  {
   "cell_type": "code",
   "execution_count": 30,
   "metadata": {
    "collapsed": false,
    "scrolled": true
   },
   "outputs": [
    {
     "data": {
      "text/plain": [
       "LogisticRegression(C=1.0, class_weight=None, dual=False, fit_intercept=True,\n",
       "          intercept_scaling=1, max_iter=100, multi_class='multinomial',\n",
       "          n_jobs=1, penalty='l2', random_state=None, solver='newton-cg',\n",
       "          tol=0.0001, verbose=0, warm_start=False)"
      ]
     },
     "execution_count": 30,
     "metadata": {},
     "output_type": "execute_result"
    }
   ],
   "source": [
    "lr.fit(X_train,y_train)"
   ]
  },
  {
   "cell_type": "markdown",
   "metadata": {},
   "source": [
    "## Predict with Logistic Regression"
   ]
  },
  {
   "cell_type": "code",
   "execution_count": 31,
   "metadata": {
    "collapsed": false
   },
   "outputs": [],
   "source": [
    "lr_predict = lr.predict(X_test)"
   ]
  },
  {
   "cell_type": "code",
   "execution_count": 32,
   "metadata": {
    "collapsed": false
   },
   "outputs": [
    {
     "data": {
      "text/plain": [
       "array([ 0.71656465,  1.54487237,  0.37849052,  1.03090054,  1.15875699,\n",
       "        0.63788766,  1.18905092,  0.93643227,  0.90067304,  1.74424293])"
      ]
     },
     "execution_count": 32,
     "metadata": {},
     "output_type": "execute_result"
    }
   ],
   "source": [
    "lr_predict_proba = lr.predict_proba(X_test).dot([0,1,2]) # log.classes_)\n",
    "lr_predict_proba[:10]"
   ]
  },
  {
   "cell_type": "code",
   "execution_count": 33,
   "metadata": {
    "collapsed": true
   },
   "outputs": [],
   "source": [
    "df_outcomes['Patient_experience_lr_predicted'] = lr_predict"
   ]
  },
  {
   "cell_type": "code",
   "execution_count": 34,
   "metadata": {
    "collapsed": true
   },
   "outputs": [],
   "source": [
    "df_outcomes['Patient_experience_lr_proba'] = lr_predict_proba"
   ]
  },
  {
   "cell_type": "markdown",
   "metadata": {},
   "source": [
    "## KNN"
   ]
  },
  {
   "cell_type": "code",
   "execution_count": 35,
   "metadata": {
    "collapsed": false
   },
   "outputs": [],
   "source": [
    "from sklearn.neighbors import KNeighborsClassifier\n",
    "knn = KNeighborsClassifier(n_neighbors = 20, p=2, metric = 'minkowski')"
   ]
  },
  {
   "cell_type": "code",
   "execution_count": 36,
   "metadata": {
    "collapsed": false
   },
   "outputs": [
    {
     "data": {
      "text/plain": [
       "KNeighborsClassifier(algorithm='auto', leaf_size=30, metric='minkowski',\n",
       "           metric_params=None, n_jobs=1, n_neighbors=20, p=2,\n",
       "           weights='uniform')"
      ]
     },
     "execution_count": 36,
     "metadata": {},
     "output_type": "execute_result"
    }
   ],
   "source": [
    "knn.fit(X_train, y_train)"
   ]
  },
  {
   "cell_type": "code",
   "execution_count": 37,
   "metadata": {
    "collapsed": true
   },
   "outputs": [],
   "source": [
    "knn_predict = knn.predict(X_test)\n",
    "\n",
    "# predict proba score\n",
    "knn_predict_proba = knn.predict_proba(X_test).dot([0,1,2])\n",
    "\n",
    "#add to df\n",
    "df_outcomes['Patient_experience_KNN_predicted'] = knn_predict\n",
    "\n",
    "df_outcomes['Patient_experience_KNN_proba'] = knn_predict_proba"
   ]
  },
  {
   "cell_type": "markdown",
   "metadata": {},
   "source": [
    "## KNN Regression"
   ]
  },
  {
   "cell_type": "code",
   "execution_count": 38,
   "metadata": {
    "collapsed": false
   },
   "outputs": [],
   "source": [
    "from sklearn.neighbors import KNeighborsRegressor\n",
    "knn_reg = KNeighborsRegressor(n_neighbors=20)\n",
    "knn_reg.fit(X_train, y_train)\n",
    "knn_reg_predict = knn_reg.predict(X_test)\n",
    "\n",
    "#add to df\n",
    "df_outcomes['Patient_experience_KNN_regression_predicted'] = knn_reg_predict"
   ]
  },
  {
   "cell_type": "markdown",
   "metadata": {},
   "source": [
    "## Random Forest "
   ]
  },
  {
   "cell_type": "code",
   "execution_count": 39,
   "metadata": {
    "collapsed": false
   },
   "outputs": [],
   "source": [
    "from sklearn.ensemble import RandomForestClassifier\n",
    "forest = RandomForestClassifier(n_estimators=100)\n",
    "forest.fit(X_train, y_train)\n",
    "forest_predictions = forest.predict(X_test)\n",
    "\n",
    "forest_predict_proba = forest.predict(X_test)\n",
    "\n",
    "df_outcomes['Patient_experience_forest_predicted'] = forest_predictions"
   ]
  },
  {
   "cell_type": "code",
   "execution_count": 40,
   "metadata": {
    "collapsed": false
   },
   "outputs": [
    {
     "data": {
      "text/html": [
       "<div>\n",
       "<table border=\"1\" class=\"dataframe\">\n",
       "  <thead>\n",
       "    <tr style=\"text-align: right;\">\n",
       "      <th></th>\n",
       "      <th>Number_of_Discharges_r</th>\n",
       "      <th>Excess_Readmission_Ratio_r</th>\n",
       "      <th>Predicted_Readmission_Rate_r</th>\n",
       "      <th>Expected_Readmission_Rate_r</th>\n",
       "      <th>Number_of_Readmissions_r</th>\n",
       "      <th>MSPB</th>\n",
       "      <th>Type_Acute Care Hospitals</th>\n",
       "      <th>Ownership_g_Government - Federal</th>\n",
       "      <th>Ownership_g_Government - Hospital District or Authority</th>\n",
       "      <th>Ownership_g_Government - Local</th>\n",
       "      <th>...</th>\n",
       "      <th>Region_US/Hawaii</th>\n",
       "      <th>Region_US/Mountain</th>\n",
       "      <th>Region_US/Pacific</th>\n",
       "      <th>Patient_experience_actual</th>\n",
       "      <th>Patient_experience_lr_predicted</th>\n",
       "      <th>Patient_experience_lr_proba</th>\n",
       "      <th>Patient_experience_KNN_predicted</th>\n",
       "      <th>Patient_experience_KNN_proba</th>\n",
       "      <th>Patient_experience_KNN_regression_predicted</th>\n",
       "      <th>Patient_experience_forest_predicted</th>\n",
       "    </tr>\n",
       "  </thead>\n",
       "  <tbody>\n",
       "    <tr>\n",
       "      <th>4427</th>\n",
       "      <td>0.980411</td>\n",
       "      <td>0.002651</td>\n",
       "      <td>0.042271</td>\n",
       "      <td>0.042320</td>\n",
       "      <td>0.187626</td>\n",
       "      <td>0.002538</td>\n",
       "      <td>1.0</td>\n",
       "      <td>0.0</td>\n",
       "      <td>0.0</td>\n",
       "      <td>0.0</td>\n",
       "      <td>...</td>\n",
       "      <td>0.0</td>\n",
       "      <td>0.0</td>\n",
       "      <td>0.0</td>\n",
       "      <td>0</td>\n",
       "      <td>0</td>\n",
       "      <td>0.716565</td>\n",
       "      <td>0</td>\n",
       "      <td>0.40</td>\n",
       "      <td>0.40</td>\n",
       "      <td>0</td>\n",
       "    </tr>\n",
       "    <tr>\n",
       "      <th>2280</th>\n",
       "      <td>0.988010</td>\n",
       "      <td>0.002239</td>\n",
       "      <td>0.033463</td>\n",
       "      <td>0.033761</td>\n",
       "      <td>0.146856</td>\n",
       "      <td>0.002209</td>\n",
       "      <td>1.0</td>\n",
       "      <td>0.0</td>\n",
       "      <td>0.0</td>\n",
       "      <td>0.0</td>\n",
       "      <td>...</td>\n",
       "      <td>0.0</td>\n",
       "      <td>0.0</td>\n",
       "      <td>0.0</td>\n",
       "      <td>2</td>\n",
       "      <td>2</td>\n",
       "      <td>1.544872</td>\n",
       "      <td>1</td>\n",
       "      <td>1.25</td>\n",
       "      <td>1.25</td>\n",
       "      <td>2</td>\n",
       "    </tr>\n",
       "    <tr>\n",
       "      <th>3133</th>\n",
       "      <td>0.970589</td>\n",
       "      <td>0.003255</td>\n",
       "      <td>0.063686</td>\n",
       "      <td>0.059784</td>\n",
       "      <td>0.224296</td>\n",
       "      <td>0.002923</td>\n",
       "      <td>1.0</td>\n",
       "      <td>0.0</td>\n",
       "      <td>0.0</td>\n",
       "      <td>0.0</td>\n",
       "      <td>...</td>\n",
       "      <td>0.0</td>\n",
       "      <td>0.0</td>\n",
       "      <td>0.0</td>\n",
       "      <td>0</td>\n",
       "      <td>0</td>\n",
       "      <td>0.378491</td>\n",
       "      <td>0</td>\n",
       "      <td>0.85</td>\n",
       "      <td>0.85</td>\n",
       "      <td>0</td>\n",
       "    </tr>\n",
       "    <tr>\n",
       "      <th>844</th>\n",
       "      <td>0.987742</td>\n",
       "      <td>0.001780</td>\n",
       "      <td>0.028413</td>\n",
       "      <td>0.028846</td>\n",
       "      <td>0.150730</td>\n",
       "      <td>0.001907</td>\n",
       "      <td>1.0</td>\n",
       "      <td>0.0</td>\n",
       "      <td>0.0</td>\n",
       "      <td>0.0</td>\n",
       "      <td>...</td>\n",
       "      <td>0.0</td>\n",
       "      <td>0.0</td>\n",
       "      <td>0.0</td>\n",
       "      <td>2</td>\n",
       "      <td>2</td>\n",
       "      <td>1.030901</td>\n",
       "      <td>0</td>\n",
       "      <td>1.00</td>\n",
       "      <td>1.00</td>\n",
       "      <td>0</td>\n",
       "    </tr>\n",
       "    <tr>\n",
       "      <th>1964</th>\n",
       "      <td>0.993374</td>\n",
       "      <td>0.000933</td>\n",
       "      <td>0.014263</td>\n",
       "      <td>0.016516</td>\n",
       "      <td>0.112825</td>\n",
       "      <td>0.001098</td>\n",
       "      <td>1.0</td>\n",
       "      <td>0.0</td>\n",
       "      <td>0.0</td>\n",
       "      <td>0.0</td>\n",
       "      <td>...</td>\n",
       "      <td>0.0</td>\n",
       "      <td>0.0</td>\n",
       "      <td>0.0</td>\n",
       "      <td>1</td>\n",
       "      <td>2</td>\n",
       "      <td>1.158757</td>\n",
       "      <td>0</td>\n",
       "      <td>0.70</td>\n",
       "      <td>0.70</td>\n",
       "      <td>2</td>\n",
       "    </tr>\n",
       "  </tbody>\n",
       "</table>\n",
       "<p>5 rows × 94 columns</p>\n",
       "</div>"
      ],
      "text/plain": [
       "      Number_of_Discharges_r  Excess_Readmission_Ratio_r  \\\n",
       "4427                0.980411                    0.002651   \n",
       "2280                0.988010                    0.002239   \n",
       "3133                0.970589                    0.003255   \n",
       "844                 0.987742                    0.001780   \n",
       "1964                0.993374                    0.000933   \n",
       "\n",
       "      Predicted_Readmission_Rate_r  Expected_Readmission_Rate_r  \\\n",
       "4427                      0.042271                     0.042320   \n",
       "2280                      0.033463                     0.033761   \n",
       "3133                      0.063686                     0.059784   \n",
       "844                       0.028413                     0.028846   \n",
       "1964                      0.014263                     0.016516   \n",
       "\n",
       "      Number_of_Readmissions_r      MSPB  Type_Acute Care Hospitals  \\\n",
       "4427                  0.187626  0.002538                        1.0   \n",
       "2280                  0.146856  0.002209                        1.0   \n",
       "3133                  0.224296  0.002923                        1.0   \n",
       "844                   0.150730  0.001907                        1.0   \n",
       "1964                  0.112825  0.001098                        1.0   \n",
       "\n",
       "      Ownership_g_Government - Federal  \\\n",
       "4427                               0.0   \n",
       "2280                               0.0   \n",
       "3133                               0.0   \n",
       "844                                0.0   \n",
       "1964                               0.0   \n",
       "\n",
       "      Ownership_g_Government - Hospital District or Authority  \\\n",
       "4427                                                0.0         \n",
       "2280                                                0.0         \n",
       "3133                                                0.0         \n",
       "844                                                 0.0         \n",
       "1964                                                0.0         \n",
       "\n",
       "      Ownership_g_Government - Local                 ...                   \\\n",
       "4427                             0.0                 ...                    \n",
       "2280                             0.0                 ...                    \n",
       "3133                             0.0                 ...                    \n",
       "844                              0.0                 ...                    \n",
       "1964                             0.0                 ...                    \n",
       "\n",
       "      Region_US/Hawaii  Region_US/Mountain  Region_US/Pacific  \\\n",
       "4427               0.0                 0.0                0.0   \n",
       "2280               0.0                 0.0                0.0   \n",
       "3133               0.0                 0.0                0.0   \n",
       "844                0.0                 0.0                0.0   \n",
       "1964               0.0                 0.0                0.0   \n",
       "\n",
       "      Patient_experience_actual  Patient_experience_lr_predicted  \\\n",
       "4427                          0                                0   \n",
       "2280                          2                                2   \n",
       "3133                          0                                0   \n",
       "844                           2                                2   \n",
       "1964                          1                                2   \n",
       "\n",
       "      Patient_experience_lr_proba  Patient_experience_KNN_predicted  \\\n",
       "4427                     0.716565                                 0   \n",
       "2280                     1.544872                                 1   \n",
       "3133                     0.378491                                 0   \n",
       "844                      1.030901                                 0   \n",
       "1964                     1.158757                                 0   \n",
       "\n",
       "      Patient_experience_KNN_proba  \\\n",
       "4427                          0.40   \n",
       "2280                          1.25   \n",
       "3133                          0.85   \n",
       "844                           1.00   \n",
       "1964                          0.70   \n",
       "\n",
       "      Patient_experience_KNN_regression_predicted  \\\n",
       "4427                                         0.40   \n",
       "2280                                         1.25   \n",
       "3133                                         0.85   \n",
       "844                                          1.00   \n",
       "1964                                         0.70   \n",
       "\n",
       "      Patient_experience_forest_predicted  \n",
       "4427                                    0  \n",
       "2280                                    2  \n",
       "3133                                    0  \n",
       "844                                     0  \n",
       "1964                                    2  \n",
       "\n",
       "[5 rows x 94 columns]"
      ]
     },
     "execution_count": 40,
     "metadata": {},
     "output_type": "execute_result"
    }
   ],
   "source": [
    "df_outcomes.head()"
   ]
  },
  {
   "cell_type": "code",
   "execution_count": 41,
   "metadata": {
    "collapsed": false,
    "scrolled": false
   },
   "outputs": [
    {
     "name": "stdout",
     "output_type": "stream",
     "text": [
      "1. feature 4 (0.117512)\n",
      "2. feature 0 (0.102005)\n",
      "3. feature 5 (0.085527)\n",
      "4. feature 2 (0.081842)\n",
      "5. feature 3 (0.081163)\n",
      "6. feature 1 (0.080822)\n",
      "7. feature 24 (0.025937)\n",
      "8. feature 12 (0.024209)\n",
      "9. feature 18 (0.017049)\n",
      "10. feature 28 (0.015906)\n",
      "11. feature 19 (0.015597)\n",
      "12. feature 17 (0.014905)\n",
      "13. feature 15 (0.014902)\n",
      "14. feature 25 (0.013922)\n",
      "15. feature 23 (0.013543)\n",
      "16. feature 82 (0.012135)\n",
      "17. feature 27 (0.011203)\n",
      "18. feature 26 (0.010955)\n",
      "19. feature 83 (0.010728)\n",
      "20. feature 14 (0.010201)\n",
      "21. feature 64 (0.009769)\n",
      "22. feature 40 (0.009688)\n",
      "23. feature 13 (0.009584)\n",
      "24. feature 35 (0.009075)\n",
      "25. feature 22 (0.009012)\n",
      "26. feature 86 (0.008524)\n",
      "27. feature 68 (0.008091)\n",
      "28. feature 73 (0.007745)\n",
      "29. feature 20 (0.007559)\n",
      "30. feature 8 (0.007490)\n",
      "31. feature 21 (0.007218)\n",
      "32. feature 45 (0.007001)\n",
      "33. feature 65 (0.006485)\n",
      "34. feature 75 (0.005958)\n",
      "35. feature 46 (0.005537)\n",
      "36. feature 85 (0.005432)\n",
      "37. feature 78 (0.005416)\n",
      "38. feature 49 (0.005174)\n",
      "39. feature 57 (0.005139)\n",
      "40. feature 72 (0.004911)\n",
      "41. feature 9 (0.004818)\n",
      "42. feature 52 (0.004609)\n",
      "43. feature 61 (0.004488)\n",
      "44. feature 54 (0.004348)\n",
      "45. feature 41 (0.004326)\n",
      "46. feature 70 (0.004165)\n",
      "47. feature 48 (0.004164)\n",
      "48. feature 77 (0.003938)\n",
      "49. feature 32 (0.003893)\n",
      "50. feature 50 (0.003589)\n",
      "51. feature 34 (0.003366)\n",
      "52. feature 10 (0.003138)\n",
      "53. feature 67 (0.002966)\n",
      "54. feature 66 (0.002821)\n",
      "55. feature 59 (0.002599)\n",
      "56. feature 51 (0.002376)\n",
      "57. feature 47 (0.002328)\n",
      "58. feature 29 (0.002307)\n",
      "59. feature 33 (0.002293)\n",
      "60. feature 36 (0.002234)\n",
      "61. feature 55 (0.002155)\n",
      "62. feature 30 (0.002022)\n",
      "63. feature 37 (0.002010)\n",
      "64. feature 79 (0.002002)\n",
      "65. feature 53 (0.001980)\n",
      "66. feature 43 (0.001855)\n",
      "67. feature 60 (0.001823)\n",
      "68. feature 62 (0.001370)\n",
      "69. feature 74 (0.001060)\n",
      "70. feature 58 (0.001039)\n",
      "71. feature 63 (0.001005)\n",
      "72. feature 71 (0.000931)\n",
      "73. feature 44 (0.000902)\n",
      "74. feature 42 (0.000705)\n",
      "75. feature 11 (0.000693)\n",
      "76. feature 56 (0.000680)\n",
      "77. feature 76 (0.000603)\n",
      "78. feature 39 (0.000565)\n",
      "79. feature 69 (0.000565)\n",
      "80. feature 80 (0.000553)\n",
      "81. feature 38 (0.000522)\n",
      "82. feature 84 (0.000432)\n",
      "83. feature 7 (0.000362)\n",
      "84. feature 31 (0.000297)\n",
      "85. feature 81 (0.000236)\n",
      "86. feature 6 (0.000000)\n",
      "87. feature 16 (0.000000)\n"
     ]
    },
    {
     "data": {
      "image/png": "[encoded data removed]",
      "text/plain": [
       "<matplotlib.figure.Figure at 0x117052210>"
      ]
     },
     "metadata": {},
     "output_type": "display_data"
    }
   ],
   "source": [
    "importances = forest.feature_importances_\n",
    "\n",
    "std = np.std([tree.feature_importances_ for tree in forest.estimators_],\n",
    "             axis=0)\n",
    "indices = np.argsort(importances)[::-1]\n",
    "\n",
    "for f in range(X_train.shape[1]):\n",
    "    print(\"%d. feature %d (%f)\" % (f + 1, indices[f], importances[indices[f]]))\n",
    "    \n",
    "# Plot the feature importances of the forest\n",
    "\n",
    "plt.figure()\n",
    "plt.title(\"Feature importances\")\n",
    "plt.bar(range(X_train.shape[1]), importances[indices],\n",
    "       color=\"r\", yerr=std[indices], align=\"center\")\n",
    "plt.xticks(range(X_train.shape[1]), indices)\n",
    "plt.xlim([-1, X_train.shape[1]])\n",
    "plt.tight_layout()\n",
    "plt.show()"
   ]
  },
  {
   "cell_type": "markdown",
   "metadata": {},
   "source": [
    "## Train Decision Tree"
   ]
  },
  {
   "cell_type": "code",
   "execution_count": 42,
   "metadata": {
    "collapsed": false
   },
   "outputs": [],
   "source": [
    "from sklearn.tree import DecisionTreeClassifier\n",
    "tree = DecisionTreeClassifier(criterion = 'entropy', max_depth = 50, random_state = 0)\n",
    "\n",
    "#Fit Decision Tree\n",
    "tree.fit(X_train, y_train)\n",
    "\n",
    "# Predict with Decision Tree\n",
    "tree_predict = tree.predict(X_test)\n",
    "tree_predict_proba = tree.predict_proba(X_test).dot([0,1,2])\n",
    "\n",
    "# Add outcomes to dataframe\n",
    "df_outcomes['Patient_experience_Tree_predicted'] = tree_predict\n",
    "df_outcomes['Patient_experience_Tree_proba'] = tree_predict_proba"
   ]
  },
  {
   "cell_type": "markdown",
   "metadata": {},
   "source": [
    "## Train SVM"
   ]
  },
  {
   "cell_type": "code",
   "execution_count": 43,
   "metadata": {
    "collapsed": false
   },
   "outputs": [
    {
     "data": {
      "text/plain": [
       "SVC(C=200.0, cache_size=200, class_weight=None, coef0=0.0,\n",
       "  decision_function_shape=None, degree=3, gamma=5, kernel='linear',\n",
       "  max_iter=-1, probability=True, random_state=None, shrinking=True,\n",
       "  tol=0.001, verbose=False)"
      ]
     },
     "execution_count": 43,
     "metadata": {},
     "output_type": "execute_result"
    }
   ],
   "source": [
    "from sklearn import svm\n",
    "clf = svm.SVC(C=200.0, kernel = 'linear', gamma = 5, probability = True)\n",
    "\n",
    "clf.fit(X_train, y_train)"
   ]
  },
  {
   "cell_type": "markdown",
   "metadata": {},
   "source": [
    "## Predict with SVM"
   ]
  },
  {
   "cell_type": "code",
   "execution_count": 44,
   "metadata": {
    "collapsed": false
   },
   "outputs": [],
   "source": [
    "svm_predict = clf.predict(X_test)\n",
    "\n",
    "svm_predict_proba = clf.predict_proba(X_test).dot([0,1,2])\n",
    "\n",
    "df_outcomes['Patient_experience_SVM_predicted'] = svm_predict\n",
    "\n",
    "df_outcomes['Patient_experience_SVM_proba'] = svm_predict_proba"
   ]
  },
  {
   "cell_type": "code",
   "execution_count": null,
   "metadata": {
    "collapsed": true
   },
   "outputs": [],
   "source": []
  },
  {
   "cell_type": "markdown",
   "metadata": {
    "collapsed": false
   },
   "source": [
    "from sklearn.cross_validation import cross_val_score"
   ]
  },
  {
   "cell_type": "markdown",
   "metadata": {
    "collapsed": true
   },
   "source": [
    "clf_2 = svm.SVC()"
   ]
  },
  {
   "cell_type": "markdown",
   "metadata": {
    "collapsed": false
   },
   "source": [
    "scores = cross_val_score(cross_val_score, X_train, y_train)\n",
    "scores"
   ]
  },
  {
   "cell_type": "markdown",
   "metadata": {
    "collapsed": false
   },
   "source": [
    "clf_score_predictions =  clf.cross_val_score(X_test)"
   ]
  },
  {
   "cell_type": "markdown",
   "metadata": {
    "collapsed": true
   },
   "source": [
    "df_outcomes['Patient_experience_SVM_score'] = clf_score_predictions"
   ]
  },
  {
   "cell_type": "markdown",
   "metadata": {
    "collapsed": true
   },
   "source": [
    "clf_svr = svm.SVR()\n",
    "clf_svr.fit(X_train, y_train)\n",
    "clf_svr_predict = clf_svr.predict(X_test)\n",
    "df_outcomes['Patient_experience_SVM_SVR_predicted'] = clf_svr_predict"
   ]
  },
  {
   "cell_type": "code",
   "execution_count": null,
   "metadata": {
    "collapsed": true
   },
   "outputs": [],
   "source": []
  },
  {
   "cell_type": "markdown",
   "metadata": {},
   "source": [
    "## Test  Accuracy"
   ]
  },
  {
   "cell_type": "code",
   "execution_count": 45,
   "metadata": {
    "collapsed": false
   },
   "outputs": [
    {
     "name": "stdout",
     "output_type": "stream",
     "text": [
      "Logistic regression: 0.518853695324\n",
      "KNN: 0.505279034691\n",
      "Decision tree: 0.401206636501\n",
      "SVM: 0.521870286576\n"
     ]
    }
   ],
   "source": [
    "from sklearn.metrics import accuracy_score\n",
    "\n",
    "## Test Logistic Regression Accuracy\n",
    "lr_accuracy = accuracy_score(df_outcomes['Patient_experience_actual'], df_outcomes['Patient_experience_lr_predicted'], normalize=True, sample_weight=None)\n",
    "\n",
    "## Test KNN Accuracy\n",
    "KNN_accuracy = accuracy_score(df_outcomes['Patient_experience_actual'], df_outcomes['Patient_experience_KNN_predicted'], normalize=True, sample_weight=None)\n",
    "\n",
    "## Test Decision Tree Accuracy\n",
    "tree_accuracy = accuracy_score(df_outcomes['Patient_experience_actual'], df_outcomes['Patient_experience_Tree_predicted'], normalize=True, sample_weight=None)\n",
    "\n",
    "## Test SVM  Accuracy\n",
    "SVM_accuracy = accuracy_score(df_outcomes['Patient_experience_actual'], df_outcomes['Patient_experience_SVM_predicted'], normalize=True, sample_weight=None)\n",
    "\n",
    "# Test Random Forest Accuracy\n",
    "forest_accuracy = accuracy_score(df_outcomes['Patient_experience_actual'], df_outcomes['Patient_experience_forest_predicted'], normalize=True, sample_weight=None)\n",
    "\n",
    "# Test KNN Regression Accuracy\n",
    "#KNN_regression_accuracy = accuracy_score(df_outcomes['Patient_experience_actual'], df_outcomes['Patient_experience_KNN_regression_predicted'], normalize=True, sample_weight=None)\n",
    "\n",
    "\n",
    "\n",
    "print(\"Logistic regression: \" + str(lr_accuracy))\n",
    "print(\"KNN: \" + str(KNN_accuracy))\n",
    "print(\"Decision tree: \" + str(tree_accuracy))\n",
    "print(\"SVM: \" + str(SVM_accuracy))"
   ]
  },
  {
   "cell_type": "code",
   "execution_count": 46,
   "metadata": {
    "collapsed": false
   },
   "outputs": [],
   "source": [
    "model_accuracy_dict = {\"Logistic Regression\": lr_accuracy, \"KNN\": KNN_accuracy, \"Decision Tree\":tree_accuracy, \"SVM\": SVM_accuracy, \"Random Forest\":forest_accuracy }\n",
    "model_accuracy_pd = pd.DataFrame(model_accuracy_dict.items(), columns=['Model', 'Accuracy'])"
   ]
  },
  {
   "cell_type": "code",
   "execution_count": 47,
   "metadata": {
    "collapsed": false
   },
   "outputs": [
    {
     "data": {
      "image/png": "[encoded data removed]",
      "text/plain": [
       "<matplotlib.figure.Figure at 0x1170591d0>"
      ]
     },
     "metadata": {},
     "output_type": "display_data"
    }
   ],
   "source": [
    "sns.barplot(x = \"Model\", y = \"Accuracy\", data = model_accuracy_pd)\n",
    "plt.title('Model Accuracy')\n",
    "plt.ylabel(\"Accuracy\")\n",
    "plt.show()"
   ]
  },
  {
   "cell_type": "markdown",
   "metadata": {},
   "source": [
    "## Calculate RMSE for each model"
   ]
  },
  {
   "cell_type": "code",
   "execution_count": 48,
   "metadata": {
    "collapsed": false,
    "scrolled": true
   },
   "outputs": [],
   "source": [
    "from sklearn.metrics import mean_squared_error as mse\n",
    "\n",
    "# Logistic Regression\n",
    "lr_rmse = (mse(df_outcomes['Patient_experience_actual'], df_outcomes['Patient_experience_lr_predicted'])**1/2)\n",
    "lr_rmse_proba = (mse(df_outcomes['Patient_experience_actual'], df_outcomes['Patient_experience_lr_proba'])**1/2)\n",
    "\n",
    "# KNN \n",
    "knn_rmse = (mse(df_outcomes['Patient_experience_actual'], df_outcomes['Patient_experience_KNN_predicted'])**1/2)\n",
    "knn_rmse_proba = (mse(df_outcomes['Patient_experience_actual'], df_outcomes['Patient_experience_KNN_proba'])**1/2)\n",
    "\n",
    "# Decision Tree \n",
    "tree_rmse = (mse(df_outcomes['Patient_experience_actual'], df_outcomes['Patient_experience_Tree_predicted'])**1/2)\n",
    "tree_rmse_proba = (mse(df_outcomes['Patient_experience_actual'], df_outcomes['Patient_experience_Tree_proba'])**1/2)\n",
    "\n",
    "# SVM \n",
    "SVM_rmse = (mse(df_outcomes['Patient_experience_actual'], df_outcomes['Patient_experience_SVM_predicted'])**1/2)\n",
    "SVM_rmse_proba = (mse(df_outcomes['Patient_experience_actual'], df_outcomes['Patient_experience_SVM_proba'])**1/2)\n",
    "\n",
    "# Random Forest \n",
    "forest_rmse = (mse(df_outcomes['Patient_experience_actual'], df_outcomes['Patient_experience_forest_predicted'])**1/2)\n",
    "\n",
    "# KNN Regression\n",
    "KNN_regression_rmse = (mse(df_outcomes['Patient_experience_actual'], df_outcomes['Patient_experience_KNN_regression_predicted'])**1/2)\n",
    "\n",
    "#SVM__SVR_rmse = (mse(df_outcomes['Patient_experience_actual'], df_outcomes['Patient_experience_SVM_SVR_predicted'])**1/2)"
   ]
  },
  {
   "cell_type": "code",
   "execution_count": 49,
   "metadata": {
    "collapsed": false,
    "scrolled": true
   },
   "outputs": [
    {
     "data": {
      "text/html": [
       "<div>\n",
       "<table border=\"1\" class=\"dataframe\">\n",
       "  <thead>\n",
       "    <tr style=\"text-align: right;\">\n",
       "      <th></th>\n",
       "      <th>Model</th>\n",
       "      <th>RMSE</th>\n",
       "    </tr>\n",
       "  </thead>\n",
       "  <tbody>\n",
       "    <tr>\n",
       "      <th>0</th>\n",
       "      <td>KNN</td>\n",
       "      <td>0.421569</td>\n",
       "    </tr>\n",
       "    <tr>\n",
       "      <th>1</th>\n",
       "      <td>SVM</td>\n",
       "      <td>0.381599</td>\n",
       "    </tr>\n",
       "    <tr>\n",
       "      <th>2</th>\n",
       "      <td>Decision Tree</td>\n",
       "      <td>0.509804</td>\n",
       "    </tr>\n",
       "    <tr>\n",
       "      <th>3</th>\n",
       "      <td>KNN Regression</td>\n",
       "      <td>0.264551</td>\n",
       "    </tr>\n",
       "    <tr>\n",
       "      <th>4</th>\n",
       "      <td>Logistic Regression</td>\n",
       "      <td>0.371795</td>\n",
       "    </tr>\n",
       "    <tr>\n",
       "      <th>5</th>\n",
       "      <td>Random Forest</td>\n",
       "      <td>0.400452</td>\n",
       "    </tr>\n",
       "  </tbody>\n",
       "</table>\n",
       "</div>"
      ],
      "text/plain": [
       "                 Model      RMSE\n",
       "0                  KNN  0.421569\n",
       "1                  SVM  0.381599\n",
       "2        Decision Tree  0.509804\n",
       "3       KNN Regression  0.264551\n",
       "4  Logistic Regression  0.371795\n",
       "5        Random Forest  0.400452"
      ]
     },
     "execution_count": 49,
     "metadata": {},
     "output_type": "execute_result"
    }
   ],
   "source": [
    "model_RMSE_dict = {\"Logistic Regression\": lr_rmse, \"KNN\": knn_rmse, \"Decision Tree\":tree_rmse, \"SVM\": SVM_rmse, \"Random Forest\":forest_rmse, \"KNN Regression\": KNN_regression_rmse}\n",
    "model_RMSE_pd = pd.DataFrame(model_RMSE_dict.items(), columns=['Model', 'RMSE'])\n",
    "model_RMSE_pd"
   ]
  },
  {
   "cell_type": "code",
   "execution_count": 50,
   "metadata": {
    "collapsed": false,
    "scrolled": true
   },
   "outputs": [
    {
     "ename": "NameError",
     "evalue": "name 'SVM__SVR_rmse' is not defined",
     "output_type": "error",
     "traceback": [
      "\u001b[0;31m---------------------------------------------------------------------------\u001b[0m",
      "\u001b[0;31mNameError\u001b[0m                                 Traceback (most recent call last)",
      "\u001b[0;32m<ipython-input-50-dc55ead4a562>\u001b[0m in \u001b[0;36m<module>\u001b[0;34m()\u001b[0m\n\u001b[0;32m----> 1\u001b[0;31m \u001b[0mmodel_RMSE_proba_dict\u001b[0m \u001b[0;34m=\u001b[0m \u001b[0;34m{\u001b[0m\u001b[0;34m\"Logistic Regression\"\u001b[0m\u001b[0;34m:\u001b[0m \u001b[0mlr_rmse_proba\u001b[0m\u001b[0;34m,\u001b[0m \u001b[0;34m\"KNN\"\u001b[0m\u001b[0;34m:\u001b[0m \u001b[0mknn_rmse_proba\u001b[0m\u001b[0;34m,\u001b[0m \u001b[0;34m\"Decision Tree\"\u001b[0m\u001b[0;34m:\u001b[0m\u001b[0mtree_rmse_proba\u001b[0m\u001b[0;34m,\u001b[0m \u001b[0;34m'SVM'\u001b[0m\u001b[0;34m:\u001b[0m\u001b[0mSVM_rmse_proba\u001b[0m\u001b[0;34m,\u001b[0m \u001b[0;34m\"SVM_SVR\"\u001b[0m\u001b[0;34m:\u001b[0m \u001b[0mSVM__SVR_rmse\u001b[0m \u001b[0;34m}\u001b[0m\u001b[0;34m\u001b[0m\u001b[0m\n\u001b[0m\u001b[1;32m      2\u001b[0m \u001b[0mmodel_RMSE_proba_pd\u001b[0m \u001b[0;34m=\u001b[0m \u001b[0mpd\u001b[0m\u001b[0;34m.\u001b[0m\u001b[0mDataFrame\u001b[0m\u001b[0;34m(\u001b[0m\u001b[0mmodel_RMSE_proba_dict\u001b[0m\u001b[0;34m.\u001b[0m\u001b[0mitems\u001b[0m\u001b[0;34m(\u001b[0m\u001b[0;34m)\u001b[0m\u001b[0;34m,\u001b[0m \u001b[0mcolumns\u001b[0m\u001b[0;34m=\u001b[0m\u001b[0;34m[\u001b[0m\u001b[0;34m'Model'\u001b[0m\u001b[0;34m,\u001b[0m \u001b[0;34m'RMSE_proba'\u001b[0m\u001b[0;34m]\u001b[0m\u001b[0;34m)\u001b[0m\u001b[0;34m\u001b[0m\u001b[0m\n\u001b[1;32m      3\u001b[0m \u001b[0mmodel_RMSE_proba_pd\u001b[0m\u001b[0;34m\u001b[0m\u001b[0m\n",
      "\u001b[0;31mNameError\u001b[0m: name 'SVM__SVR_rmse' is not defined"
     ]
    }
   ],
   "source": [
    "model_RMSE_proba_dict = {\"Logistic Regression\": lr_rmse_proba, \"KNN\": knn_rmse_proba, \"Decision Tree\":tree_rmse_proba, 'SVM':SVM_rmse_proba, \"SVM_SVR\": SVM__SVR_rmse }\n",
    "model_RMSE_proba_pd = pd.DataFrame(model_RMSE_proba_dict.items(), columns=['Model', 'RMSE_proba'])\n",
    "model_RMSE_proba_pd"
   ]
  },
  {
   "cell_type": "code",
   "execution_count": null,
   "metadata": {
    "collapsed": false
   },
   "outputs": [],
   "source": [
    "df_outcomes.head(5)"
   ]
  },
  {
   "cell_type": "code",
   "execution_count": 51,
   "metadata": {
    "collapsed": false,
    "scrolled": false
   },
   "outputs": [
    {
     "data": {
      "image/png": "[encoded data removed]",
      "text/plain": [
       "<matplotlib.figure.Figure at 0x11c33e610>"
      ]
     },
     "metadata": {},
     "output_type": "display_data"
    }
   ],
   "source": [
    "fig = plt.figure()\n",
    "\n",
    "act_fig = fig.add_subplot(1,5,1)\n",
    "act_fig.hist(df_outcomes.Patient_experience_actual)\n",
    "act_fig.set_ylim(0,350)\n",
    "act_fig.set_xticks(np.linspace(0, 2, 3))\n",
    "act_fig.set_title(\"Actual Values\")\n",
    "\n",
    "lr_fig = fig.add_subplot(1,5,2)\n",
    "lr_fig.hist(df_outcomes.Patient_experience_lr_predicted)\n",
    "lr_fig.set_ylim(0,350)\n",
    "lr_fig.set_xticks(np.linspace(0, 2, 3))\n",
    "lr_fig.set_title(\"Logistic Regression\")\n",
    "\n",
    "knn_fig = fig.add_subplot(1,5,3)\n",
    "knn_fig.hist(df_outcomes.Patient_experience_KNN_predicted)\n",
    "knn_fig.set_ylim(0,350)\n",
    "knn_fig.set_xticks(np.linspace(0, 2, 3))\n",
    "knn_fig.set_title(\"KNN\")\n",
    "\n",
    "svm_fig = fig.add_subplot(1,5,4)\n",
    "svm_fig.hist(df_outcomes.Patient_experience_SVM_predicted)\n",
    "svm_fig.set_ylim(0,350)\n",
    "svm_fig.set_xticks(np.linspace(0, 2, 3))\n",
    "svm_fig.set_title(\"SVM\")\n",
    "\n",
    "tree_fig = fig.add_subplot(1,5,5)\n",
    "tree_fig.hist(df_outcomes.Patient_experience_Tree_predicted)\n",
    "tree_fig.set_ylim(0,350)\n",
    "tree_fig.set_xticks(np.linspace(0, 2, 3))\n",
    "tree_fig.set_title(\"Decision Tree\")\n",
    "\n",
    "plt.tight_layout()\n",
    "plt.show()"
   ]
  },
  {
   "cell_type": "code",
   "execution_count": null,
   "metadata": {
    "collapsed": true
   },
   "outputs": [],
   "source": []
  },
  {
   "cell_type": "code",
   "execution_count": null,
   "metadata": {
    "collapsed": true
   },
   "outputs": [],
   "source": []
  },
  {
   "cell_type": "markdown",
   "metadata": {},
   "source": [
    "## Linear Regression"
   ]
  },
  {
   "cell_type": "code",
   "execution_count": 53,
   "metadata": {
    "collapsed": true
   },
   "outputs": [],
   "source": [
    "#import statsmodels.api as sm\n",
    "#from statsmodels.formula.api import ols\n",
    "from sklearn.linear_model import LinearRegression\n",
    "lm = LinearRegression()"
   ]
  },
  {
   "cell_type": "code",
   "execution_count": 54,
   "metadata": {
    "collapsed": true
   },
   "outputs": [],
   "source": [
    "lm_model_lr = lm.fit(X_train, y_train)"
   ]
  },
  {
   "cell_type": "code",
   "execution_count": 55,
   "metadata": {
    "collapsed": false
   },
   "outputs": [
    {
     "name": "stdout",
     "output_type": "stream",
     "text": [
      "Estimated intercept coefficient: 4.31851822651e+13\n"
     ]
    }
   ],
   "source": [
    "print 'Estimated intercept coefficient:', lm_model_lr.intercept_"
   ]
  },
  {
   "cell_type": "code",
   "execution_count": 56,
   "metadata": {
    "collapsed": false
   },
   "outputs": [
    {
     "name": "stdout",
     "output_type": "stream",
     "text": [
      "Number of coefficients: 87\n"
     ]
    }
   ],
   "source": [
    "print 'Number of coefficients:', len(lm_model_lr.coef_)"
   ]
  },
  {
   "cell_type": "code",
   "execution_count": 57,
   "metadata": {
    "collapsed": true
   },
   "outputs": [],
   "source": [
    "lm_model_lr_predicted = lm_model_lr.predict(X_test)"
   ]
  },
  {
   "cell_type": "code",
   "execution_count": 58,
   "metadata": {
    "collapsed": false
   },
   "outputs": [
    {
     "data": {
      "text/plain": [
       "array([ 0.6796875,  1.4375   ,  0.296875 ,  1.046875 ,  1.4375   ,\n",
       "        0.5703125,  1.1015625,  0.921875 ,  0.7265625,  1.671875 ])"
      ]
     },
     "execution_count": 58,
     "metadata": {},
     "output_type": "execute_result"
    }
   ],
   "source": [
    "lm_model_lr_predicted[:10]"
   ]
  },
  {
   "cell_type": "code",
   "execution_count": 59,
   "metadata": {
    "collapsed": true
   },
   "outputs": [],
   "source": [
    "df_outcomes['lm_model_lr_predicted'] = lm_model_lr_predicted"
   ]
  },
  {
   "cell_type": "code",
   "execution_count": 60,
   "metadata": {
    "collapsed": true
   },
   "outputs": [],
   "source": [
    "logistic_out = ['Patient_experience_actual','Patient_experience_lr_predicted', 'Patient_experience_lr_proba','lm_model_lr_predicted']"
   ]
  },
  {
   "cell_type": "code",
   "execution_count": 61,
   "metadata": {
    "collapsed": false
   },
   "outputs": [
    {
     "data": {
      "text/html": [
       "<div>\n",
       "<table border=\"1\" class=\"dataframe\">\n",
       "  <thead>\n",
       "    <tr style=\"text-align: right;\">\n",
       "      <th></th>\n",
       "      <th>Patient_experience_actual</th>\n",
       "      <th>Patient_experience_lr_predicted</th>\n",
       "      <th>Patient_experience_lr_proba</th>\n",
       "      <th>lm_model_lr_predicted</th>\n",
       "    </tr>\n",
       "  </thead>\n",
       "  <tbody>\n",
       "    <tr>\n",
       "      <th>85</th>\n",
       "      <td>2</td>\n",
       "      <td>0</td>\n",
       "      <td>0.723732</td>\n",
       "      <td>0.718750</td>\n",
       "    </tr>\n",
       "    <tr>\n",
       "      <th>466</th>\n",
       "      <td>2</td>\n",
       "      <td>0</td>\n",
       "      <td>0.922146</td>\n",
       "      <td>1.109375</td>\n",
       "    </tr>\n",
       "    <tr>\n",
       "      <th>2503</th>\n",
       "      <td>2</td>\n",
       "      <td>0</td>\n",
       "      <td>0.712734</td>\n",
       "      <td>0.640625</td>\n",
       "    </tr>\n",
       "    <tr>\n",
       "      <th>3254</th>\n",
       "      <td>2</td>\n",
       "      <td>1</td>\n",
       "      <td>1.159603</td>\n",
       "      <td>1.054688</td>\n",
       "    </tr>\n",
       "    <tr>\n",
       "      <th>4199</th>\n",
       "      <td>2</td>\n",
       "      <td>0</td>\n",
       "      <td>0.702227</td>\n",
       "      <td>0.812500</td>\n",
       "    </tr>\n",
       "    <tr>\n",
       "      <th>4039</th>\n",
       "      <td>2</td>\n",
       "      <td>2</td>\n",
       "      <td>1.123714</td>\n",
       "      <td>1.164062</td>\n",
       "    </tr>\n",
       "    <tr>\n",
       "      <th>3085</th>\n",
       "      <td>2</td>\n",
       "      <td>1</td>\n",
       "      <td>1.056481</td>\n",
       "      <td>1.093750</td>\n",
       "    </tr>\n",
       "    <tr>\n",
       "      <th>4222</th>\n",
       "      <td>2</td>\n",
       "      <td>2</td>\n",
       "      <td>1.620088</td>\n",
       "      <td>2.820312</td>\n",
       "    </tr>\n",
       "    <tr>\n",
       "      <th>1139</th>\n",
       "      <td>2</td>\n",
       "      <td>1</td>\n",
       "      <td>1.190296</td>\n",
       "      <td>1.195312</td>\n",
       "    </tr>\n",
       "    <tr>\n",
       "      <th>102</th>\n",
       "      <td>2</td>\n",
       "      <td>0</td>\n",
       "      <td>0.515431</td>\n",
       "      <td>0.046875</td>\n",
       "    </tr>\n",
       "    <tr>\n",
       "      <th>3663</th>\n",
       "      <td>2</td>\n",
       "      <td>0</td>\n",
       "      <td>0.655002</td>\n",
       "      <td>0.812500</td>\n",
       "    </tr>\n",
       "    <tr>\n",
       "      <th>239</th>\n",
       "      <td>2</td>\n",
       "      <td>0</td>\n",
       "      <td>0.600100</td>\n",
       "      <td>0.687500</td>\n",
       "    </tr>\n",
       "    <tr>\n",
       "      <th>2419</th>\n",
       "      <td>2</td>\n",
       "      <td>1</td>\n",
       "      <td>1.004137</td>\n",
       "      <td>0.914062</td>\n",
       "    </tr>\n",
       "    <tr>\n",
       "      <th>215</th>\n",
       "      <td>2</td>\n",
       "      <td>1</td>\n",
       "      <td>0.915310</td>\n",
       "      <td>0.882812</td>\n",
       "    </tr>\n",
       "    <tr>\n",
       "      <th>1271</th>\n",
       "      <td>2</td>\n",
       "      <td>2</td>\n",
       "      <td>1.336656</td>\n",
       "      <td>1.648438</td>\n",
       "    </tr>\n",
       "    <tr>\n",
       "      <th>3429</th>\n",
       "      <td>2</td>\n",
       "      <td>1</td>\n",
       "      <td>0.973857</td>\n",
       "      <td>0.898438</td>\n",
       "    </tr>\n",
       "    <tr>\n",
       "      <th>2169</th>\n",
       "      <td>2</td>\n",
       "      <td>2</td>\n",
       "      <td>1.541423</td>\n",
       "      <td>1.609375</td>\n",
       "    </tr>\n",
       "    <tr>\n",
       "      <th>3673</th>\n",
       "      <td>2</td>\n",
       "      <td>1</td>\n",
       "      <td>1.197048</td>\n",
       "      <td>1.125000</td>\n",
       "    </tr>\n",
       "    <tr>\n",
       "      <th>2123</th>\n",
       "      <td>2</td>\n",
       "      <td>1</td>\n",
       "      <td>1.112329</td>\n",
       "      <td>1.187500</td>\n",
       "    </tr>\n",
       "    <tr>\n",
       "      <th>1014</th>\n",
       "      <td>2</td>\n",
       "      <td>1</td>\n",
       "      <td>1.115609</td>\n",
       "      <td>1.203125</td>\n",
       "    </tr>\n",
       "    <tr>\n",
       "      <th>1070</th>\n",
       "      <td>2</td>\n",
       "      <td>1</td>\n",
       "      <td>1.036601</td>\n",
       "      <td>0.882812</td>\n",
       "    </tr>\n",
       "    <tr>\n",
       "      <th>4515</th>\n",
       "      <td>2</td>\n",
       "      <td>1</td>\n",
       "      <td>1.148919</td>\n",
       "      <td>1.460938</td>\n",
       "    </tr>\n",
       "    <tr>\n",
       "      <th>3567</th>\n",
       "      <td>2</td>\n",
       "      <td>2</td>\n",
       "      <td>1.077724</td>\n",
       "      <td>1.414062</td>\n",
       "    </tr>\n",
       "    <tr>\n",
       "      <th>1534</th>\n",
       "      <td>2</td>\n",
       "      <td>1</td>\n",
       "      <td>0.946379</td>\n",
       "      <td>0.757812</td>\n",
       "    </tr>\n",
       "    <tr>\n",
       "      <th>1073</th>\n",
       "      <td>2</td>\n",
       "      <td>0</td>\n",
       "      <td>0.725191</td>\n",
       "      <td>0.695312</td>\n",
       "    </tr>\n",
       "    <tr>\n",
       "      <th>995</th>\n",
       "      <td>2</td>\n",
       "      <td>1</td>\n",
       "      <td>1.087878</td>\n",
       "      <td>1.093750</td>\n",
       "    </tr>\n",
       "    <tr>\n",
       "      <th>1218</th>\n",
       "      <td>2</td>\n",
       "      <td>1</td>\n",
       "      <td>1.313323</td>\n",
       "      <td>1.351562</td>\n",
       "    </tr>\n",
       "    <tr>\n",
       "      <th>749</th>\n",
       "      <td>2</td>\n",
       "      <td>1</td>\n",
       "      <td>1.019534</td>\n",
       "      <td>0.992188</td>\n",
       "    </tr>\n",
       "    <tr>\n",
       "      <th>3112</th>\n",
       "      <td>2</td>\n",
       "      <td>1</td>\n",
       "      <td>1.131679</td>\n",
       "      <td>1.132812</td>\n",
       "    </tr>\n",
       "    <tr>\n",
       "      <th>3632</th>\n",
       "      <td>2</td>\n",
       "      <td>1</td>\n",
       "      <td>0.971232</td>\n",
       "      <td>0.812500</td>\n",
       "    </tr>\n",
       "    <tr>\n",
       "      <th>...</th>\n",
       "      <td>...</td>\n",
       "      <td>...</td>\n",
       "      <td>...</td>\n",
       "      <td>...</td>\n",
       "    </tr>\n",
       "    <tr>\n",
       "      <th>3652</th>\n",
       "      <td>0</td>\n",
       "      <td>1</td>\n",
       "      <td>0.972261</td>\n",
       "      <td>0.726562</td>\n",
       "    </tr>\n",
       "    <tr>\n",
       "      <th>1064</th>\n",
       "      <td>0</td>\n",
       "      <td>1</td>\n",
       "      <td>0.749303</td>\n",
       "      <td>0.625000</td>\n",
       "    </tr>\n",
       "    <tr>\n",
       "      <th>3291</th>\n",
       "      <td>0</td>\n",
       "      <td>2</td>\n",
       "      <td>1.175862</td>\n",
       "      <td>1.085938</td>\n",
       "    </tr>\n",
       "    <tr>\n",
       "      <th>2937</th>\n",
       "      <td>0</td>\n",
       "      <td>0</td>\n",
       "      <td>0.388348</td>\n",
       "      <td>0.312500</td>\n",
       "    </tr>\n",
       "    <tr>\n",
       "      <th>4332</th>\n",
       "      <td>0</td>\n",
       "      <td>0</td>\n",
       "      <td>0.602143</td>\n",
       "      <td>0.687500</td>\n",
       "    </tr>\n",
       "    <tr>\n",
       "      <th>2037</th>\n",
       "      <td>0</td>\n",
       "      <td>0</td>\n",
       "      <td>0.150850</td>\n",
       "      <td>-0.257812</td>\n",
       "    </tr>\n",
       "    <tr>\n",
       "      <th>3809</th>\n",
       "      <td>0</td>\n",
       "      <td>1</td>\n",
       "      <td>1.027108</td>\n",
       "      <td>0.796875</td>\n",
       "    </tr>\n",
       "    <tr>\n",
       "      <th>3903</th>\n",
       "      <td>0</td>\n",
       "      <td>1</td>\n",
       "      <td>1.131231</td>\n",
       "      <td>1.062500</td>\n",
       "    </tr>\n",
       "    <tr>\n",
       "      <th>4568</th>\n",
       "      <td>0</td>\n",
       "      <td>1</td>\n",
       "      <td>1.104314</td>\n",
       "      <td>0.812500</td>\n",
       "    </tr>\n",
       "    <tr>\n",
       "      <th>408</th>\n",
       "      <td>0</td>\n",
       "      <td>0</td>\n",
       "      <td>0.344842</td>\n",
       "      <td>0.343750</td>\n",
       "    </tr>\n",
       "    <tr>\n",
       "      <th>846</th>\n",
       "      <td>0</td>\n",
       "      <td>0</td>\n",
       "      <td>0.568466</td>\n",
       "      <td>0.828125</td>\n",
       "    </tr>\n",
       "    <tr>\n",
       "      <th>4167</th>\n",
       "      <td>0</td>\n",
       "      <td>0</td>\n",
       "      <td>0.470640</td>\n",
       "      <td>0.500000</td>\n",
       "    </tr>\n",
       "    <tr>\n",
       "      <th>4414</th>\n",
       "      <td>0</td>\n",
       "      <td>2</td>\n",
       "      <td>1.429292</td>\n",
       "      <td>1.453125</td>\n",
       "    </tr>\n",
       "    <tr>\n",
       "      <th>821</th>\n",
       "      <td>0</td>\n",
       "      <td>0</td>\n",
       "      <td>0.290870</td>\n",
       "      <td>0.156250</td>\n",
       "    </tr>\n",
       "    <tr>\n",
       "      <th>3557</th>\n",
       "      <td>0</td>\n",
       "      <td>1</td>\n",
       "      <td>0.953886</td>\n",
       "      <td>0.640625</td>\n",
       "    </tr>\n",
       "    <tr>\n",
       "      <th>4009</th>\n",
       "      <td>0</td>\n",
       "      <td>0</td>\n",
       "      <td>0.693806</td>\n",
       "      <td>0.554688</td>\n",
       "    </tr>\n",
       "    <tr>\n",
       "      <th>398</th>\n",
       "      <td>0</td>\n",
       "      <td>0</td>\n",
       "      <td>0.235515</td>\n",
       "      <td>0.046875</td>\n",
       "    </tr>\n",
       "    <tr>\n",
       "      <th>1091</th>\n",
       "      <td>0</td>\n",
       "      <td>0</td>\n",
       "      <td>0.678453</td>\n",
       "      <td>0.679688</td>\n",
       "    </tr>\n",
       "    <tr>\n",
       "      <th>2095</th>\n",
       "      <td>0</td>\n",
       "      <td>1</td>\n",
       "      <td>0.873670</td>\n",
       "      <td>0.820312</td>\n",
       "    </tr>\n",
       "    <tr>\n",
       "      <th>3050</th>\n",
       "      <td>0</td>\n",
       "      <td>0</td>\n",
       "      <td>0.266775</td>\n",
       "      <td>0.132812</td>\n",
       "    </tr>\n",
       "    <tr>\n",
       "      <th>545</th>\n",
       "      <td>0</td>\n",
       "      <td>0</td>\n",
       "      <td>0.416439</td>\n",
       "      <td>0.734375</td>\n",
       "    </tr>\n",
       "    <tr>\n",
       "      <th>3138</th>\n",
       "      <td>0</td>\n",
       "      <td>0</td>\n",
       "      <td>0.727195</td>\n",
       "      <td>0.859375</td>\n",
       "    </tr>\n",
       "    <tr>\n",
       "      <th>2931</th>\n",
       "      <td>0</td>\n",
       "      <td>0</td>\n",
       "      <td>0.563321</td>\n",
       "      <td>0.500000</td>\n",
       "    </tr>\n",
       "    <tr>\n",
       "      <th>903</th>\n",
       "      <td>0</td>\n",
       "      <td>0</td>\n",
       "      <td>0.336912</td>\n",
       "      <td>0.210938</td>\n",
       "    </tr>\n",
       "    <tr>\n",
       "      <th>444</th>\n",
       "      <td>0</td>\n",
       "      <td>0</td>\n",
       "      <td>0.297034</td>\n",
       "      <td>0.328125</td>\n",
       "    </tr>\n",
       "    <tr>\n",
       "      <th>2511</th>\n",
       "      <td>0</td>\n",
       "      <td>1</td>\n",
       "      <td>0.991379</td>\n",
       "      <td>1.007812</td>\n",
       "    </tr>\n",
       "    <tr>\n",
       "      <th>907</th>\n",
       "      <td>0</td>\n",
       "      <td>0</td>\n",
       "      <td>0.487391</td>\n",
       "      <td>0.656250</td>\n",
       "    </tr>\n",
       "    <tr>\n",
       "      <th>556</th>\n",
       "      <td>0</td>\n",
       "      <td>0</td>\n",
       "      <td>0.443513</td>\n",
       "      <td>0.500000</td>\n",
       "    </tr>\n",
       "    <tr>\n",
       "      <th>1022</th>\n",
       "      <td>0</td>\n",
       "      <td>1</td>\n",
       "      <td>1.044518</td>\n",
       "      <td>0.960938</td>\n",
       "    </tr>\n",
       "    <tr>\n",
       "      <th>808</th>\n",
       "      <td>0</td>\n",
       "      <td>2</td>\n",
       "      <td>1.243914</td>\n",
       "      <td>1.367188</td>\n",
       "    </tr>\n",
       "  </tbody>\n",
       "</table>\n",
       "<p>663 rows × 4 columns</p>\n",
       "</div>"
      ],
      "text/plain": [
       "      Patient_experience_actual  Patient_experience_lr_predicted  \\\n",
       "85                            2                                0   \n",
       "466                           2                                0   \n",
       "2503                          2                                0   \n",
       "3254                          2                                1   \n",
       "4199                          2                                0   \n",
       "4039                          2                                2   \n",
       "3085                          2                                1   \n",
       "4222                          2                                2   \n",
       "1139                          2                                1   \n",
       "102                           2                                0   \n",
       "3663                          2                                0   \n",
       "239                           2                                0   \n",
       "2419                          2                                1   \n",
       "215                           2                                1   \n",
       "1271                          2                                2   \n",
       "3429                          2                                1   \n",
       "2169                          2                                2   \n",
       "3673                          2                                1   \n",
       "2123                          2                                1   \n",
       "1014                          2                                1   \n",
       "1070                          2                                1   \n",
       "4515                          2                                1   \n",
       "3567                          2                                2   \n",
       "1534                          2                                1   \n",
       "1073                          2                                0   \n",
       "995                           2                                1   \n",
       "1218                          2                                1   \n",
       "749                           2                                1   \n",
       "3112                          2                                1   \n",
       "3632                          2                                1   \n",
       "...                         ...                              ...   \n",
       "3652                          0                                1   \n",
       "1064                          0                                1   \n",
       "3291                          0                                2   \n",
       "2937                          0                                0   \n",
       "4332                          0                                0   \n",
       "2037                          0                                0   \n",
       "3809                          0                                1   \n",
       "3903                          0                                1   \n",
       "4568                          0                                1   \n",
       "408                           0                                0   \n",
       "846                           0                                0   \n",
       "4167                          0                                0   \n",
       "4414                          0                                2   \n",
       "821                           0                                0   \n",
       "3557                          0                                1   \n",
       "4009                          0                                0   \n",
       "398                           0                                0   \n",
       "1091                          0                                0   \n",
       "2095                          0                                1   \n",
       "3050                          0                                0   \n",
       "545                           0                                0   \n",
       "3138                          0                                0   \n",
       "2931                          0                                0   \n",
       "903                           0                                0   \n",
       "444                           0                                0   \n",
       "2511                          0                                1   \n",
       "907                           0                                0   \n",
       "556                           0                                0   \n",
       "1022                          0                                1   \n",
       "808                           0                                2   \n",
       "\n",
       "      Patient_experience_lr_proba  lm_model_lr_predicted  \n",
       "85                       0.723732               0.718750  \n",
       "466                      0.922146               1.109375  \n",
       "2503                     0.712734               0.640625  \n",
       "3254                     1.159603               1.054688  \n",
       "4199                     0.702227               0.812500  \n",
       "4039                     1.123714               1.164062  \n",
       "3085                     1.056481               1.093750  \n",
       "4222                     1.620088               2.820312  \n",
       "1139                     1.190296               1.195312  \n",
       "102                      0.515431               0.046875  \n",
       "3663                     0.655002               0.812500  \n",
       "239                      0.600100               0.687500  \n",
       "2419                     1.004137               0.914062  \n",
       "215                      0.915310               0.882812  \n",
       "1271                     1.336656               1.648438  \n",
       "3429                     0.973857               0.898438  \n",
       "2169                     1.541423               1.609375  \n",
       "3673                     1.197048               1.125000  \n",
       "2123                     1.112329               1.187500  \n",
       "1014                     1.115609               1.203125  \n",
       "1070                     1.036601               0.882812  \n",
       "4515                     1.148919               1.460938  \n",
       "3567                     1.077724               1.414062  \n",
       "1534                     0.946379               0.757812  \n",
       "1073                     0.725191               0.695312  \n",
       "995                      1.087878               1.093750  \n",
       "1218                     1.313323               1.351562  \n",
       "749                      1.019534               0.992188  \n",
       "3112                     1.131679               1.132812  \n",
       "3632                     0.971232               0.812500  \n",
       "...                           ...                    ...  \n",
       "3652                     0.972261               0.726562  \n",
       "1064                     0.749303               0.625000  \n",
       "3291                     1.175862               1.085938  \n",
       "2937                     0.388348               0.312500  \n",
       "4332                     0.602143               0.687500  \n",
       "2037                     0.150850              -0.257812  \n",
       "3809                     1.027108               0.796875  \n",
       "3903                     1.131231               1.062500  \n",
       "4568                     1.104314               0.812500  \n",
       "408                      0.344842               0.343750  \n",
       "846                      0.568466               0.828125  \n",
       "4167                     0.470640               0.500000  \n",
       "4414                     1.429292               1.453125  \n",
       "821                      0.290870               0.156250  \n",
       "3557                     0.953886               0.640625  \n",
       "4009                     0.693806               0.554688  \n",
       "398                      0.235515               0.046875  \n",
       "1091                     0.678453               0.679688  \n",
       "2095                     0.873670               0.820312  \n",
       "3050                     0.266775               0.132812  \n",
       "545                      0.416439               0.734375  \n",
       "3138                     0.727195               0.859375  \n",
       "2931                     0.563321               0.500000  \n",
       "903                      0.336912               0.210938  \n",
       "444                      0.297034               0.328125  \n",
       "2511                     0.991379               1.007812  \n",
       "907                      0.487391               0.656250  \n",
       "556                      0.443513               0.500000  \n",
       "1022                     1.044518               0.960938  \n",
       "808                      1.243914               1.367188  \n",
       "\n",
       "[663 rows x 4 columns]"
      ]
     },
     "execution_count": 61,
     "metadata": {},
     "output_type": "execute_result"
    }
   ],
   "source": [
    "logistic_out_df = df_outcomes[logistic_out]\n",
    "\n",
    "logistic_out_df.sort_values(['Patient_experience_actual'], ascending=False)"
   ]
  },
  {
   "cell_type": "code",
   "execution_count": 62,
   "metadata": {
    "collapsed": false
   },
   "outputs": [
    {
     "data": {
      "text/html": [
       "<div>\n",
       "<table border=\"1\" class=\"dataframe\">\n",
       "  <thead>\n",
       "    <tr style=\"text-align: right;\">\n",
       "      <th></th>\n",
       "      <th>Patient_experience_actual</th>\n",
       "      <th>Patient_experience_lr_predicted</th>\n",
       "      <th>Patient_experience_lr_proba</th>\n",
       "      <th>lm_model_lr_predicted</th>\n",
       "    </tr>\n",
       "  </thead>\n",
       "  <tbody>\n",
       "    <tr>\n",
       "      <th>4427</th>\n",
       "      <td>0</td>\n",
       "      <td>0</td>\n",
       "      <td>0.716565</td>\n",
       "      <td>0.679688</td>\n",
       "    </tr>\n",
       "    <tr>\n",
       "      <th>2280</th>\n",
       "      <td>2</td>\n",
       "      <td>2</td>\n",
       "      <td>1.544872</td>\n",
       "      <td>1.437500</td>\n",
       "    </tr>\n",
       "    <tr>\n",
       "      <th>3133</th>\n",
       "      <td>0</td>\n",
       "      <td>0</td>\n",
       "      <td>0.378491</td>\n",
       "      <td>0.296875</td>\n",
       "    </tr>\n",
       "    <tr>\n",
       "      <th>844</th>\n",
       "      <td>2</td>\n",
       "      <td>2</td>\n",
       "      <td>1.030901</td>\n",
       "      <td>1.046875</td>\n",
       "    </tr>\n",
       "    <tr>\n",
       "      <th>1964</th>\n",
       "      <td>1</td>\n",
       "      <td>2</td>\n",
       "      <td>1.158757</td>\n",
       "      <td>1.437500</td>\n",
       "    </tr>\n",
       "    <tr>\n",
       "      <th>3032</th>\n",
       "      <td>2</td>\n",
       "      <td>0</td>\n",
       "      <td>0.637888</td>\n",
       "      <td>0.570312</td>\n",
       "    </tr>\n",
       "    <tr>\n",
       "      <th>1422</th>\n",
       "      <td>1</td>\n",
       "      <td>1</td>\n",
       "      <td>1.189051</td>\n",
       "      <td>1.101562</td>\n",
       "    </tr>\n",
       "    <tr>\n",
       "      <th>819</th>\n",
       "      <td>1</td>\n",
       "      <td>0</td>\n",
       "      <td>0.936432</td>\n",
       "      <td>0.921875</td>\n",
       "    </tr>\n",
       "    <tr>\n",
       "      <th>4049</th>\n",
       "      <td>1</td>\n",
       "      <td>1</td>\n",
       "      <td>0.900673</td>\n",
       "      <td>0.726562</td>\n",
       "    </tr>\n",
       "    <tr>\n",
       "      <th>4634</th>\n",
       "      <td>2</td>\n",
       "      <td>2</td>\n",
       "      <td>1.744243</td>\n",
       "      <td>1.671875</td>\n",
       "    </tr>\n",
       "  </tbody>\n",
       "</table>\n",
       "</div>"
      ],
      "text/plain": [
       "      Patient_experience_actual  Patient_experience_lr_predicted  \\\n",
       "4427                          0                                0   \n",
       "2280                          2                                2   \n",
       "3133                          0                                0   \n",
       "844                           2                                2   \n",
       "1964                          1                                2   \n",
       "3032                          2                                0   \n",
       "1422                          1                                1   \n",
       "819                           1                                0   \n",
       "4049                          1                                1   \n",
       "4634                          2                                2   \n",
       "\n",
       "      Patient_experience_lr_proba  lm_model_lr_predicted  \n",
       "4427                     0.716565               0.679688  \n",
       "2280                     1.544872               1.437500  \n",
       "3133                     0.378491               0.296875  \n",
       "844                      1.030901               1.046875  \n",
       "1964                     1.158757               1.437500  \n",
       "3032                     0.637888               0.570312  \n",
       "1422                     1.189051               1.101562  \n",
       "819                      0.936432               0.921875  \n",
       "4049                     0.900673               0.726562  \n",
       "4634                     1.744243               1.671875  "
      ]
     },
     "execution_count": 62,
     "metadata": {},
     "output_type": "execute_result"
    }
   ],
   "source": [
    "df_outcomes[logistic_out][0:10]"
   ]
  },
  {
   "cell_type": "code",
   "execution_count": 63,
   "metadata": {
    "collapsed": false
   },
   "outputs": [
    {
     "data": {
      "text/plain": [
       "Index([u'Number_of_Discharges_r', u'Excess_Readmission_Ratio_r',\n",
       "       u'Predicted_Readmission_Rate_r', u'Expected_Readmission_Rate_r',\n",
       "       u'Number_of_Readmissions_r', u'MSPB', u'Type_Acute Care Hospitals',\n",
       "       u'Ownership_g_Government - Federal',\n",
       "       u'Ownership_g_Government - Hospital District or Authority',\n",
       "       u'Ownership_g_Government - Local', u'Ownership_g_Government - State',\n",
       "       u'Ownership_g_Physician', u'Ownership_g_Proprietary',\n",
       "       u'Ownership_g_Voluntary non-profit - Church',\n",
       "       u'Ownership_g_Voluntary non-profit - Other',\n",
       "       u'Ownership_g_Voluntary non-profit - Private', u'EHRs_g_True',\n",
       "       u'Safety_of_care_g_Above the National average',\n",
       "       u'Safety_of_care_g_Below the National average',\n",
       "       u'Safety_of_care_g_Same as the National average',\n",
       "       u'Effectiveness_of_care_g_Above the National average',\n",
       "       u'Effectiveness_of_care_g_Below the National average',\n",
       "       u'Effectiveness_of_care_g_Same as the National average',\n",
       "       u'Timeliness_of_care_g_Above the National average',\n",
       "       u'Timeliness_of_care_g_Below the National average',\n",
       "       u'Timeliness_of_care_g_Same as the National average',\n",
       "       u'Efficient_use_of_medical_imaging_g_Above the National average',\n",
       "       u'Efficient_use_of_medical_imaging_g_Below the National average',\n",
       "       u'Efficient_use_of_medical_imaging_g_Same as the National average',\n",
       "       u'Emergency_Services_g_False', u'Emergency_Services_g_True',\n",
       "       u'State_name_AK', u'State_name_AL', u'State_name_AR', u'State_name_AZ',\n",
       "       u'State_name_CA', u'State_name_CO', u'State_name_CT', u'State_name_DC',\n",
       "       u'State_name_DE', u'State_name_FL', u'State_name_GA', u'State_name_HI',\n",
       "       u'State_name_IA', u'State_name_ID', u'State_name_IL', u'State_name_IN',\n",
       "       u'State_name_KS', u'State_name_KY', u'State_name_LA', u'State_name_MA',\n",
       "       u'State_name_ME', u'State_name_MI', u'State_name_MN', u'State_name_MO',\n",
       "       u'State_name_MS', u'State_name_MT', u'State_name_NC', u'State_name_ND',\n",
       "       u'State_name_NE', u'State_name_NH', u'State_name_NJ', u'State_name_NM',\n",
       "       u'State_name_NV', u'State_name_NY', u'State_name_OH', u'State_name_OK',\n",
       "       u'State_name_OR', u'State_name_PA', u'State_name_RI', u'State_name_SC',\n",
       "       u'State_name_SD', u'State_name_TN', u'State_name_TX', u'State_name_UT',\n",
       "       u'State_name_VA', u'State_name_VT', u'State_name_WA', u'State_name_WI',\n",
       "       u'State_name_WV', u'State_name_WY', u'Region_US/Alaska',\n",
       "       u'Region_US/Central', u'Region_US/Eastern', u'Region_US/Hawaii',\n",
       "       u'Region_US/Mountain', u'Region_US/Pacific',\n",
       "       u'Patient_experience_actual', u'Patient_experience_lr_predicted',\n",
       "       u'Patient_experience_lr_proba', u'Patient_experience_KNN_predicted',\n",
       "       u'Patient_experience_KNN_proba',\n",
       "       u'Patient_experience_KNN_regression_predicted',\n",
       "       u'Patient_experience_forest_predicted',\n",
       "       u'Patient_experience_Tree_predicted', u'Patient_experience_Tree_proba',\n",
       "       u'Patient_experience_SVM_predicted', u'Patient_experience_SVM_proba',\n",
       "       u'lm_model_lr_predicted'],\n",
       "      dtype='object')"
      ]
     },
     "execution_count": 63,
     "metadata": {},
     "output_type": "execute_result"
    }
   ],
   "source": [
    "df_outcomes.columns"
   ]
  },
  {
   "cell_type": "code",
   "execution_count": 64,
   "metadata": {
    "collapsed": false
   },
   "outputs": [
    {
     "data": {
      "image/png": "[encoded data removed]",
      "text/plain": [
       "<matplotlib.figure.Figure at 0x11708a6d0>"
      ]
     },
     "metadata": {},
     "output_type": "display_data"
    }
   ],
   "source": [
    "sns.regplot(x = lm_model_lr_predicted, y = df_outcomes['Patient_experience_lr_proba'], fit_reg = True)\n",
    "plt.xlabel('linear regression output')\n",
    "plt.ylabel('logistic regression predict_proba')\n",
    "plt.show()"
   ]
  },
  {
   "cell_type": "code",
   "execution_count": 65,
   "metadata": {
    "collapsed": false
   },
   "outputs": [
    {
     "data": {
      "image/png": "[encoded data removed]",
      "text/plain": [
       "<matplotlib.figure.Figure at 0x11a759c90>"
      ]
     },
     "metadata": {},
     "output_type": "display_data"
    }
   ],
   "source": [
    "sns.regplot(x = lm_model_lr_predicted, y = df_outcomes['Patient_experience_actual'], fit_reg = True)\n",
    "plt.xlabel('linear regression output')\n",
    "plt.ylabel('logistic regression predict_proba')\n",
    "plt.show()"
   ]
  },
  {
   "cell_type": "code",
   "execution_count": null,
   "metadata": {
    "collapsed": true
   },
   "outputs": [],
   "source": []
  },
  {
   "cell_type": "code",
   "execution_count": 66,
   "metadata": {
    "collapsed": false
   },
   "outputs": [
    {
     "name": "stdout",
     "output_type": "stream",
     "text": [
      "Model sensitivity is 0.443037974684\n"
     ]
    }
   ],
   "source": [
    "## Test sensitivity\n",
    "\n",
    "true_positive_filter = (df_outcomes['Patient_experience_Tree_predicted'] == 1) & (df_outcomes['Patient_experience_actual'] == 1)\n",
    "\n",
    "true_positives = len(df_outcomes[true_positive_filter])\n",
    "\n",
    "false_negative_filter = (df_outcomes['Patient_experience_Tree_predicted'] == 0) & (df_outcomes['Patient_experience_actual'] == 1)\n",
    "\n",
    "false_negatives = len(df_outcomes[false_negative_filter])\n",
    "\n",
    "sensitivity = float(true_positives) / float(true_positives + false_negatives)\n",
    "print('Model sensitivity is ' + str(sensitivity))"
   ]
  },
  {
   "cell_type": "code",
   "execution_count": 74,
   "metadata": {
    "collapsed": false
   },
   "outputs": [
    {
     "data": {
      "image/png": "[encoded data removed]",
      "text/plain": [
       "<matplotlib.figure.Figure at 0x11e408990>"
      ]
     },
     "metadata": {},
     "output_type": "display_data"
    }
   ],
   "source": [
    "plt.scatter(lm_model_lr_predicted, (lm_model_lr_predicted - df_outcomes['Patient_experience_actual']), c='g', s=40)\n",
    "plt.hlines(y = 0, xmin=-1, xmax = 2)\n",
    "plt.title('Residual Plot')\n",
    "plt.ylabel('Residuals')\n",
    "plt.show()"
   ]
  },
  {
   "cell_type": "code",
   "execution_count": null,
   "metadata": {
    "collapsed": true
   },
   "outputs": [],
   "source": []
  },
  {
   "cell_type": "code",
   "execution_count": null,
   "metadata": {
    "collapsed": true
   },
   "outputs": [],
   "source": []
  }
 ],
 "metadata": {
  "anaconda-cloud": {},
  "kernelspec": {
   "display_name": "Python [conda root]",
   "language": "python",
   "name": "conda-root-py"
  },
  "language_info": {
   "codemirror_mode": {
    "name": "ipython",
    "version": 2
   },
   "file_extension": ".py",
   "mimetype": "text/x-python",
   "name": "python",
   "nbconvert_exporter": "python",
   "pygments_lexer": "ipython2",
   "version": "2.7.12"
  }
 },
 "nbformat": 4,
 "nbformat_minor": 1
}
